{
 "cells": [
  {
   "cell_type": "code",
   "execution_count": 1,
   "id": "f851c35c",
   "metadata": {},
   "outputs": [],
   "source": [
    "from game import *\n",
    "from players import *"
   ]
  },
  {
   "cell_type": "markdown",
   "id": "0cb0aa72",
   "metadata": {},
   "source": [
    "### Human Player Vs. AI"
   ]
  },
  {
   "cell_type": "code",
   "execution_count": 2,
   "id": "d0688c0e",
   "metadata": {},
   "outputs": [],
   "source": [
    "# gomoku = Gomoku()\n",
    "\n",
    "# simple_alpha_beta_player_1 = alpha_beta_player(depth=1, evaluation_func=evaluate_game_state_simple)\n",
    "# improved_alpha_beta_player_2 = alpha_beta_player(depth=2, evaluation_func=evaluate_game_state_improved)\n",
    "# # alpha_beta_player_3 = alpha_beta_player(depth=3)\n",
    "# # alpha_beta_player_4 = alpha_beta_player(depth=4)\n",
    "\n",
    "# result = gomoku.play_game(human_player, simple_alpha_beta_player_1)"
   ]
  },
  {
   "cell_type": "markdown",
   "id": "93b3ce0f",
   "metadata": {},
   "source": [
    "### AI Vs. AI"
   ]
  },
  {
   "cell_type": "code",
   "execution_count": null,
   "id": "662545fa",
   "metadata": {},
   "outputs": [
    {
     "name": "stdout",
     "output_type": "stream",
     "text": [
      "Depth:  1\n",
      "Game:  1\n"
     ]
    }
   ],
   "source": [
    "import matplotlib.pyplot as plt\n",
    "import time\n",
    "\n",
    "gomoku = Gomoku()\n",
    "\n",
    "depths = [1, 2, 3, 4]\n",
    "win_rates = []\n",
    "decision_times = []\n",
    "\n",
    "for depth in depths:\n",
    "    print(\"Depth: \", depth)\n",
    "    wins = 0\n",
    "    total_time = 0\n",
    "    games = 3\n",
    "\n",
    "    for game in range(games):\n",
    "        print(\"Game: \", game + 1)\n",
    "        start_time = time.time()\n",
    "        \n",
    "        alpha_beta_agent = alpha_beta_player(depth=2, evaluation_func=evaluate_game_state_improved)\n",
    "        opponent = alpha_beta_player(depth=2, evaluation_func=evaluate_game_state_improved)\n",
    "        \n",
    "        winner = gomoku.play_game(alpha_beta_agent, opponent)\n",
    "        decision_time = time.time() - start_time\n",
    "        \n",
    "\n",
    "        total_time += decision_time\n",
    "        \n",
    "        if winner == 1:\n",
    "            print(\"Winner is the alpha_beta_agent\")\n",
    "            wins += 1\n",
    "        else:\n",
    "            print(\"Winner is the oppnent\")\n",
    "\n",
    "    win_rate = wins / games\n",
    "    win_rates.append(win_rate)\n",
    "    avg_decision_time = total_time / games\n",
    "    decision_times.append(avg_decision_time)\n",
    "\n",
    "    print(f\"Depth {depth}: Win rate = {win_rate:.2f}, Avg decision time = {avg_decision_time:.4f}s\")\n",
    "\n",
    "# Plotting results\n",
    "plt.figure(figsize=(10, 4))\n",
    "plt.subplot(1, 2, 1)\n",
    "plt.plot(depths, win_rates, marker='o')\n",
    "plt.xlabel('Search Depth')\n",
    "plt.ylabel('Win Rate')\n",
    "plt.title('Win Rate vs. Search Depth')\n",
    "\n",
    "plt.subplot(1, 2, 2)\n",
    "plt.plot(depths, decision_times, marker='o', color='r')\n",
    "plt.xlabel('Search Depth')\n",
    "plt.ylabel('Average Decision Time (s)')\n",
    "plt.title('Decision Time vs. Search Depth')\n",
    "\n",
    "plt.tight_layout()\n",
    "plt.show()"
   ]
  }
 ],
 "metadata": {
  "kernelspec": {
   "display_name": "Python 3 (ipykernel)",
   "language": "python",
   "name": "python3"
  },
  "language_info": {
   "codemirror_mode": {
    "name": "ipython",
    "version": 3
   },
   "file_extension": ".py",
   "mimetype": "text/x-python",
   "name": "python",
   "nbconvert_exporter": "python",
   "pygments_lexer": "ipython3",
   "version": "3.8.16"
  }
 },
 "nbformat": 4,
 "nbformat_minor": 5
}

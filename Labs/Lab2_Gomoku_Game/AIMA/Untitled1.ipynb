{
 "cells": [
  {
   "cell_type": "code",
   "execution_count": 1,
   "id": "6a3f026b",
   "metadata": {},
   "outputs": [],
   "source": [
    "from games import *"
   ]
  },
  {
   "cell_type": "code",
   "execution_count": 16,
   "id": "76be297d",
   "metadata": {},
   "outputs": [
    {
     "ename": "TypeError",
     "evalue": "minmax_decision() missing 2 required positional arguments: 'state' and 'game'",
     "output_type": "error",
     "traceback": [
      "\u001b[0;31m---------------------------------------------------------------------------\u001b[0m",
      "\u001b[0;31mTypeError\u001b[0m                                 Traceback (most recent call last)",
      "Cell \u001b[0;32mIn[16], line 1\u001b[0m\n\u001b[0;32m----> 1\u001b[0m Game\u001b[38;5;241m.\u001b[39mplay_game(\u001b[43mminmax_decision\u001b[49m\u001b[43m(\u001b[49m\u001b[43m)\u001b[49m)\n",
      "\u001b[0;31mTypeError\u001b[0m: minmax_decision() missing 2 required positional arguments: 'state' and 'game'"
     ]
    }
   ],
   "source": [
    "Game.play_game(minmax_decision())"
   ]
  },
  {
   "cell_type": "code",
   "execution_count": 20,
   "id": "7dea112f",
   "metadata": {},
   "outputs": [
    {
     "data": {
      "text/plain": [
       "<TicTacToe>"
      ]
     },
     "execution_count": 20,
     "metadata": {},
     "output_type": "execute_result"
    }
   ],
   "source": [
    "tic_tac_toe = TicTacToe()\n",
    "tic_tac_toe"
   ]
  },
  {
   "cell_type": "code",
   "execution_count": 21,
   "id": "91e97c72",
   "metadata": {},
   "outputs": [
    {
     "name": "stdout",
     "output_type": "stream",
     "text": [
      "O X . \n",
      "O . X \n",
      "O X . \n"
     ]
    },
    {
     "data": {
      "text/plain": [
       "-1"
      ]
     },
     "execution_count": 21,
     "metadata": {},
     "output_type": "execute_result"
    }
   ],
   "source": [
    "result = Game.play_game(tic_tac_toe, random_player, alpha_beta_player)\n",
    "result"
   ]
  },
  {
   "cell_type": "code",
   "execution_count": 22,
   "id": "44e9e06d",
   "metadata": {},
   "outputs": [],
   "source": [
    "def human_player(game, state):\n",
    "    print(\"Current board state:\")\n",
    "    game.display(state)\n",
    "    move = None\n",
    "    while move not in game.actions(state):\n",
    "        try:\n",
    "            move_input = input(\"Enter your move as 'row,column' (no spaces, rows and columns start from 1): \")\n",
    "            move = tuple(int(x) for x in move_input.split(','))\n",
    "        except ValueError:\n",
    "            print(\"Invalid input. Please enter row and column as numbers separated by a comma.\")\n",
    "        if move not in game.actions(state):\n",
    "            print(\"Invalid move. Please try again.\")\n",
    "    return move\n"
   ]
  },
  {
   "cell_type": "code",
   "execution_count": 25,
   "id": "7e855d41",
   "metadata": {},
   "outputs": [
    {
     "name": "stdout",
     "output_type": "stream",
     "text": [
      "Current board state:\n",
      ". . . . . . . . . . . . . . . . \n",
      ". . . . . . . . . . . . . . . . \n",
      ". . . . . . . . . . . . . . . . \n",
      ". . . . . . . . . . . . . . . . \n",
      ". . . . . . . . . . . . . . . . \n",
      ". . . . . . . . . . . . . . . . \n",
      ". . . . . . . . . . . . . . . . \n",
      ". . . . . . . . . . . . . . . . \n",
      ". . . . . . . . . . . . . . . . \n",
      ". . . . . . . . . . . . . . . . \n",
      ". . . . . . . . . . . . . . . . \n",
      ". . . . . . . . . . . . . . . . \n",
      ". . . . . . . . . . . . . . . . \n",
      ". . . . . . . . . . . . . . . . \n",
      ". . . . . . . . . . . . . . . . \n"
     ]
    },
    {
     "name": "stdin",
     "output_type": "stream",
     "text": [
      "Enter your move as 'row,column' (no spaces, rows and columns start from 1):  2,2\n"
     ]
    },
    {
     "name": "stdout",
     "output_type": "stream",
     "text": [
      "Current board state:\n",
      ". . . O . . . . . . . . . . . . \n",
      ". X . . . . . . . . . . . . . . \n",
      ". . . . . . . . . . . . . . . . \n",
      ". . . . . . . . . . . . . . . . \n",
      ". . . . . . . . . . . . . . . . \n",
      ". . . . . . . . . . . . . . . . \n",
      ". . . . . . . . . . . . . . . . \n",
      ". . . . . . . . . . . . . . . . \n",
      ". . . . . . . . . . . . . . . . \n",
      ". . . . . . . . . . . . . . . . \n",
      ". . . . . . . . . . . . . . . . \n",
      ". . . . . . . . . . . . . . . . \n",
      ". . . . . . . . . . . . . . . . \n",
      ". . . . . . . . . . . . . . . . \n",
      ". . . . . . . . . . . . . . . . \n"
     ]
    },
    {
     "name": "stdin",
     "output_type": "stream",
     "text": [
      "Enter your move as 'row,column' (no spaces, rows and columns start from 1):  3,2\n"
     ]
    },
    {
     "name": "stdout",
     "output_type": "stream",
     "text": [
      "Current board state:\n",
      ". . . O . . . . . . . . . . . . \n",
      ". X . . . . . . . . . . . . . . \n",
      ". X . . . . . . . . . . . . . . \n",
      ". O . . . . . . . . . . . . . . \n",
      ". . . . . . . . . . . . . . . . \n",
      ". . . . . . . . . . . . . . . . \n",
      ". . . . . . . . . . . . . . . . \n",
      ". . . . . . . . . . . . . . . . \n",
      ". . . . . . . . . . . . . . . . \n",
      ". . . . . . . . . . . . . . . . \n",
      ". . . . . . . . . . . . . . . . \n",
      ". . . . . . . . . . . . . . . . \n",
      ". . . . . . . . . . . . . . . . \n",
      ". . . . . . . . . . . . . . . . \n",
      ". . . . . . . . . . . . . . . . \n"
     ]
    },
    {
     "name": "stdin",
     "output_type": "stream",
     "text": [
      "Enter your move as 'row,column' (no spaces, rows and columns start from 1):  2,3\n"
     ]
    },
    {
     "name": "stdout",
     "output_type": "stream",
     "text": [
      "Current board state:\n",
      ". . . O . . . . . . . . . . . . \n",
      ". X X . . . . . . . . . . . . . \n",
      ". X . . . . . . . . . . . . . . \n",
      ". O . . . . . . . . . . . . . . \n",
      ". . . . . . . . . . . . . . . . \n",
      ". . . . . . . . . . . . . . . . \n",
      ". . . . . . . . . . . . . . . . \n",
      ". . . . . . . . . . . . . . . . \n",
      ". . . . . . . . . . . . . . . . \n",
      ". . . . . . . . . . . . . . . . \n",
      ". . . . . . . . . . . . . . . . \n",
      ". . . . . . . . . . . . . . . . \n",
      ". . . . . . . . . . . . . . . . \n",
      ". . . . . . . . . O . . . . . . \n",
      ". . . . . . . . . . . . . . . . \n"
     ]
    },
    {
     "name": "stdin",
     "output_type": "stream",
     "text": [
      "Enter your move as 'row,column' (no spaces, rows and columns start from 1):  2,4\n"
     ]
    },
    {
     "name": "stdout",
     "output_type": "stream",
     "text": [
      "Current board state:\n",
      ". . . O . . . . . . . . . . . . \n",
      ". X X X . . . . . . . . . . . . \n",
      ". X . . . . . . . . . . . . . . \n",
      ". O . . . . . . . . . . . . . . \n",
      ". . . . . . . . . O . . . . . . \n",
      ". . . . . . . . . . . . . . . . \n",
      ". . . . . . . . . . . . . . . . \n",
      ". . . . . . . . . . . . . . . . \n",
      ". . . . . . . . . . . . . . . . \n",
      ". . . . . . . . . . . . . . . . \n",
      ". . . . . . . . . . . . . . . . \n",
      ". . . . . . . . . . . . . . . . \n",
      ". . . . . . . . . . . . . . . . \n",
      ". . . . . . . . . O . . . . . . \n",
      ". . . . . . . . . . . . . . . . \n"
     ]
    },
    {
     "name": "stdin",
     "output_type": "stream",
     "text": [
      "Enter your move as 'row,column' (no spaces, rows and columns start from 1):  2,5\n"
     ]
    },
    {
     "name": "stdout",
     "output_type": "stream",
     "text": [
      "Current board state:\n",
      ". . . O . . . . . . . . . . . . \n",
      ". X X X X . . . . . . . . . . . \n",
      ". X . . . . . . . . . . . . . . \n",
      ". O . . . . . . . . . . . . . . \n",
      ". . . . . . . . . O . . . . . . \n",
      ". . . . . . . . . . . . . . . . \n",
      ". O . . . . . . . . . . . . . . \n",
      ". . . . . . . . . . . . . . . . \n",
      ". . . . . . . . . . . . . . . . \n",
      ". . . . . . . . . . . . . . . . \n",
      ". . . . . . . . . . . . . . . . \n",
      ". . . . . . . . . . . . . . . . \n",
      ". . . . . . . . . . . . . . . . \n",
      ". . . . . . . . . O . . . . . . \n",
      ". . . . . . . . . . . . . . . . \n"
     ]
    },
    {
     "name": "stdin",
     "output_type": "stream",
     "text": [
      "Enter your move as 'row,column' (no spaces, rows and columns start from 1):  2,6\n"
     ]
    },
    {
     "name": "stdout",
     "output_type": "stream",
     "text": [
      ". . . O . . . . . . . . . . . . \n",
      ". X X X X X . . . . . . . . . . \n",
      ". X . . . . . . . . . . . . . . \n",
      ". O . . . . . . . . . . . . . . \n",
      ". . . . . . . . . O . . . . . . \n",
      ". . . . . . . . . . . . . . . . \n",
      ". O . . . . . . . . . . . . . . \n",
      ". . . . . . . . . . . . . . . . \n",
      ". . . . . . . . . . . . . . . . \n",
      ". . . . . . . . . . . . . . . . \n",
      ". . . . . . . . . . . . . . . . \n",
      ". . . . . . . . . . . . . . . . \n",
      ". . . . . . . . . . . . . . . . \n",
      ". . . . . . . . . O . . . . . . \n",
      ". . . . . . . . . . . . . . . . \n"
     ]
    }
   ],
   "source": [
    "from games import TicTacToe, alpha_beta_player\n",
    "\n",
    "tic_tac_toe = Gomoku()\n",
    "\n",
    "# Play against the alpha-beta pruning AI\n",
    "result = tic_tac_toe.play_game(human_player, random_player)\n",
    "\n",
    "# Or to play against another human, replace `alpha_beta_player` with `human_player`\n",
    "# result = tic_tac_toe.play_game(human_player, human_player)\n"
   ]
  },
  {
   "cell_type": "code",
   "execution_count": null,
   "id": "2a3c84fc",
   "metadata": {},
   "outputs": [],
   "source": []
  }
 ],
 "metadata": {
  "kernelspec": {
   "display_name": "Python 3 (ipykernel)",
   "language": "python",
   "name": "python3"
  },
  "language_info": {
   "codemirror_mode": {
    "name": "ipython",
    "version": 3
   },
   "file_extension": ".py",
   "mimetype": "text/x-python",
   "name": "python",
   "nbconvert_exporter": "python",
   "pygments_lexer": "ipython3",
   "version": "3.8.16"
  }
 },
 "nbformat": 4,
 "nbformat_minor": 5
}

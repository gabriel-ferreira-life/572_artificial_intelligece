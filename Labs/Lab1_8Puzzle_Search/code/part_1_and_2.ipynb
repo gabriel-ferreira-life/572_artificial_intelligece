{
 "cells": [
  {
   "cell_type": "markdown",
   "id": "fe2dcb00",
   "metadata": {},
   "source": [
    "### Libraries"
   ]
  },
  {
   "cell_type": "code",
   "execution_count": 1,
   "id": "017e5fb0",
   "metadata": {},
   "outputs": [],
   "source": [
    "import sys\n",
    "from collections import deque\n",
    "import heapq\n",
    "import math\n",
    "\n",
    "from ipywidgets import interact\n",
    "import ipywidgets as widgets\n",
    "from IPython.display import display\n",
    "from contextlib import contextmanager\n",
    "import signal\n",
    "import time\n",
    "\n",
    "# Needed to hide warnings in the matplotlib sections\n",
    "import warnings\n",
    "warnings.filterwarnings(\"ignore\") "
   ]
  },
  {
   "cell_type": "markdown",
   "id": "ad553287",
   "metadata": {},
   "source": [
    "### Search Package"
   ]
  },
  {
   "cell_type": "code",
   "execution_count": 2,
   "id": "4ebe29c7",
   "metadata": {},
   "outputs": [],
   "source": [
    "from search_package import *"
   ]
  },
  {
   "cell_type": "markdown",
   "id": "95234331",
   "metadata": {},
   "source": [
    "## Part 1: (40 pts)"
   ]
  },
  {
   "cell_type": "code",
   "execution_count": 3,
   "id": "f1a8e989",
   "metadata": {},
   "outputs": [],
   "source": [
    "class TimeoutException(Exception):\n",
    "    pass\n",
    "\n",
    "@contextmanager\n",
    "def time_limit(seconds):\n",
    "    def signal_handler(signum, frame):\n",
    "        raise TimeoutException(\"Timed out!\")\n",
    "    signal.signal(signal.SIGALRM, signal_handler)\n",
    "    signal.alarm(seconds)\n",
    "    try:\n",
    "        yield\n",
    "    finally:\n",
    "        signal.alarm(0)\n",
    "\n",
    "def time_config(total_seconds):\n",
    "    # Calculate minutes, seconds, and microseconds\n",
    "    minutes = int(total_seconds // 60)\n",
    "    seconds = int(total_seconds % 60)\n",
    "    microseconds = int((total_seconds - int(total_seconds)) * 1_000_000)\n",
    "    \n",
    "    if (minutes == 0) and (seconds == 0):\n",
    "        time_taken = f\"{microseconds} microSec.\"\n",
    "    \n",
    "    elif minutes == 0:\n",
    "        time_taken = f\"{seconds} sec {microseconds} microSec.\"\n",
    "    \n",
    "    else:\n",
    "        time_taken = f\"{minutes} min {seconds} sec {microseconds} microSec.\"\n",
    "        \n",
    "    return time_taken"
   ]
  },
  {
   "cell_type": "code",
   "execution_count": 4,
   "id": "2c5e99f7",
   "metadata": {},
   "outputs": [],
   "source": [
    "# define function to get the required output\n",
    "def func_output(algo, algorithm_name, problem, heuristic=None, display=True):\n",
    "\n",
    "    # start timing\n",
    "    start_time = time.perf_counter()\n",
    "    \n",
    "\n",
    "    if algorithm_name == \"BFGS\" or algorithm_name == \"BFTS\" or algorithm_name == \"IDS\":\n",
    "#         print(algorithm_name)\n",
    "        solution, explored = algo(problem)\n",
    "        frontier = []\n",
    "    else:\n",
    "        solution, explored, frontier = algo(problem)\n",
    "\n",
    "\n",
    "    # required output\n",
    "    seq_actions = solution.solution()\n",
    "    path = solution.path()\n",
    "    path_lenght = len(path) - 1\n",
    "    \n",
    "    try:\n",
    "        tot_nodes_generated = len(explored) + len(frontier)\n",
    "    except:\n",
    "        tot_nodes_generated = explored + len(frontier)\n",
    "\n",
    "    # edn timing\n",
    "    end_time = time.perf_counter()\n",
    "\n",
    "    ## total time taken\n",
    "    total_seconds = end_time - start_time\n",
    "\n",
    "    # Calculate minutes, seconds, and microseconds\n",
    "    time_taken = time_config(total_seconds)\n",
    "\n",
    "    return print(f\"Total nodes generated: {tot_nodes_generated}\\n\"\n",
    "      f\"Total Time Taken: {time_taken}\\n\"\n",
    "      f\"Path length: {path_lenght}\\n\"\n",
    "      f\"Path: {''.join(seq_actions)}\")\n",
    "    \n",
    "def puzzle_8_solver(file_path, algorithm):\n",
    "    try:\n",
    "        with time_limit(900):  # 900 seconds = 15 minutes    \n",
    "            \n",
    "            # read files in\n",
    "            with open(file_path, 'r') as file:\n",
    "                puzzle_raw = file.read().split()\n",
    "            puzzle_int = tuple(int(x if x != '_' else '0') for x in puzzle_raw)\n",
    "\n",
    "            # fit puzzle in\n",
    "            puzzle = EightPuzzle(puzzle_int)\n",
    "#             puzzle = EightPuzzle((2, 4, 3, 1, 5, 6, 7, 8, 0))\n",
    "\n",
    "            # check for solvability\n",
    "            is_solvable = puzzle.check_solvability(puzzle_int)\n",
    "\n",
    "            if is_solvable == False:\n",
    "                print(\"Problem is not solvable.\")\n",
    "                return None \n",
    "\n",
    "            # dictionary to map algorithm names to their corresponding functions\n",
    "            algo_dict = {\n",
    "                'BFGS': breadth_first_graph_search,\n",
    "                'BFTS': breadth_first_tree_search,\n",
    "                'IDS': iterative_deepening_search,\n",
    "                'h1': astar_search_1,\n",
    "                'h2': astar_search_2,\n",
    "                'h3': astar_search_3\n",
    "            }\n",
    "\n",
    "\n",
    "            if algorithm in algo_dict:\n",
    "                return func_output(algo_dict[algorithm], algorithm, puzzle)\n",
    "            else:\n",
    "                print(f\"Algorithm {algorithm} is not recognized. The available algorithms are: BFGS, BFTS, IDS, h1, h2, h3\")\n",
    "\n",
    "    except TimeoutException as e:\n",
    "        print(\"Total nodes generated: Timed out\")\n",
    "        print(\"Total Time Taken: >15 min\")\n",
    "        print(\"Path length: Timed out\")\n",
    "        print(\"Path: Timed out\")"
   ]
  },
  {
   "cell_type": "markdown",
   "id": "25d2fd58",
   "metadata": {},
   "source": [
    "#### breadth_first_graph_search"
   ]
  },
  {
   "cell_type": "code",
   "execution_count": 5,
   "id": "dc40f717",
   "metadata": {},
   "outputs": [
    {
     "name": "stdout",
     "output_type": "stream",
     "text": [
      "Total nodes generated: 54\n",
      "Total Time Taken: 1891 microSec.\n",
      "Path length: 6\n",
      "Path: LURDDR\n"
     ]
    }
   ],
   "source": [
    "puzzle_8_solver(\"../Part2/S5.txt\", \"BFGS\")"
   ]
  },
  {
   "cell_type": "markdown",
   "id": "8212420c",
   "metadata": {},
   "source": [
    "#### breadth_first_tree_search"
   ]
  },
  {
   "cell_type": "code",
   "execution_count": 6,
   "id": "a508f367",
   "metadata": {},
   "outputs": [
    {
     "name": "stdout",
     "output_type": "stream",
     "text": [
      "Total nodes generated: 103\n",
      "Total Time Taken: 8583 microSec.\n",
      "Path length: 6\n",
      "Path: LURDDR\n"
     ]
    }
   ],
   "source": [
    "puzzle_8_solver(\"../Part2/S5.txt\", \"BFTS\")"
   ]
  },
  {
   "cell_type": "markdown",
   "id": "28bba7ea",
   "metadata": {},
   "source": [
    "#### iterative_deepening_search"
   ]
  },
  {
   "cell_type": "code",
   "execution_count": 7,
   "id": "fc9b5817",
   "metadata": {},
   "outputs": [
    {
     "name": "stdout",
     "output_type": "stream",
     "text": [
      "Total nodes generated: 111\n",
      "Total Time Taken: 1764 microSec.\n",
      "Path length: 6\n",
      "Path: LURDDR\n"
     ]
    }
   ],
   "source": [
    "puzzle_8_solver(\"../Part2/S5.txt\", \"IDS\")"
   ]
  },
  {
   "cell_type": "markdown",
   "id": "6f1e8e33",
   "metadata": {},
   "source": [
    "#### astar_search_1"
   ]
  },
  {
   "cell_type": "code",
   "execution_count": 8,
   "id": "e1aca3d3",
   "metadata": {},
   "outputs": [
    {
     "name": "stdout",
     "output_type": "stream",
     "text": [
      "Total nodes generated: 19\n",
      "Total Time Taken: 669 microSec.\n",
      "Path length: 6\n",
      "Path: LURDDR\n"
     ]
    }
   ],
   "source": [
    "puzzle_8_solver(\"../Part2/S5.txt\", \"h1\")"
   ]
  },
  {
   "cell_type": "markdown",
   "id": "57adece4",
   "metadata": {},
   "source": [
    "#### astar_search_2"
   ]
  },
  {
   "cell_type": "code",
   "execution_count": 9,
   "id": "db712cb8",
   "metadata": {},
   "outputs": [
    {
     "name": "stdout",
     "output_type": "stream",
     "text": [
      "Total nodes generated: 20\n",
      "Total Time Taken: 827 microSec.\n",
      "Path length: 6\n",
      "Path: LURDDR\n"
     ]
    }
   ],
   "source": [
    "puzzle_8_solver(\"../Part2/S5.txt\", \"h2\")"
   ]
  },
  {
   "cell_type": "markdown",
   "id": "b09280be",
   "metadata": {},
   "source": [
    "#### astar_search_3"
   ]
  },
  {
   "cell_type": "code",
   "execution_count": 10,
   "id": "425955a5",
   "metadata": {},
   "outputs": [
    {
     "name": "stdout",
     "output_type": "stream",
     "text": [
      "Total nodes generated: 20\n",
      "Total Time Taken: 894 microSec.\n",
      "Path length: 6\n",
      "Path: LURDDR\n"
     ]
    }
   ],
   "source": [
    "puzzle_8_solver(\"../Part2/S5.txt\", \"h3\")"
   ]
  },
  {
   "cell_type": "markdown",
   "id": "8680680a",
   "metadata": {},
   "source": [
    "## Part 2: (20 pts)"
   ]
  },
  {
   "cell_type": "code",
   "execution_count": 11,
   "id": "a102f4db",
   "metadata": {},
   "outputs": [
    {
     "name": "stdout",
     "output_type": "stream",
     "text": [
      "../Part2/S1.txt\n",
      "../Part2/S2.txt\n",
      "../Part2/S3.txt\n",
      "../Part2/S4.txt\n",
      "../Part2/S5.txt\n"
     ]
    }
   ],
   "source": [
    "part_2_files = [\"../Part2/S1.txt\", \"../Part2/S2.txt\", \"../Part2/S3.txt\", \"../Part2/S4.txt\", \"../Part2/S5.txt\"]\n",
    "\n",
    "for file in part_2_files:\n",
    "    print(file)"
   ]
  },
  {
   "cell_type": "markdown",
   "id": "d93a99e5",
   "metadata": {},
   "source": [
    "### Breadth First Graph Search"
   ]
  },
  {
   "cell_type": "code",
   "execution_count": null,
   "id": "baf70672",
   "metadata": {},
   "outputs": [
    {
     "name": "stdout",
     "output_type": "stream",
     "text": [
      "Breadth First Graph Search\n",
      "\n",
      "Solving problem for file:  ../Part2/S1.txt\n",
      "Total nodes generated: 97527\n",
      "Total Time Taken: 8 min 15 sec 260207 microSec.\n",
      "Path length: 24\n",
      "Path: UURDDRULLDRRULLURRDLLDRR\n",
      " \n",
      "Solving problem for file:  ../Part2/S2.txt\n",
      "Total nodes generated: 29053\n",
      "Total Time Taken: 1 min 7 sec 466833 microSec.\n",
      "Path length: 20\n",
      "Path: UURRDLDRULLURRDLLDRR\n",
      " \n",
      "Solving problem for file:  ../Part2/S3.txt\n",
      "Problem is not solvable.\n",
      " \n",
      "Solving problem for file:  ../Part2/S4.txt\n"
     ]
    }
   ],
   "source": [
    "print(\"Breadth First Graph Search\\n\")\n",
    "algorithm = \"BFGS\"\n",
    "for file in part_2_files:\n",
    "    print(\"Solving problem for file: \", file)\n",
    "    puzzle_8_solver(file, algorithm)\n",
    "    print(\" \")"
   ]
  },
  {
   "cell_type": "markdown",
   "id": "37340055",
   "metadata": {},
   "source": [
    "### Iterative Deepening Search"
   ]
  },
  {
   "cell_type": "code",
   "execution_count": null,
   "id": "c766b497",
   "metadata": {},
   "outputs": [],
   "source": [
    "print(\"Iterative Deepening Search\\n\")\n",
    "algorithm = \"IDS\"\n",
    "for file in part_2_files:\n",
    "    print(\"Solving problem for file: \", file)\n",
    "    puzzle_8_solver(file, algorithm)\n",
    "    print(\" \")"
   ]
  },
  {
   "cell_type": "markdown",
   "id": "b5c5bc57",
   "metadata": {},
   "source": [
    "### A* using Misplaced Tile heuristic"
   ]
  },
  {
   "cell_type": "code",
   "execution_count": null,
   "id": "1270b5a9",
   "metadata": {},
   "outputs": [],
   "source": [
    "print(\"A* using Misplaced Tile Heuristic\\n\")\n",
    "algorithm = \"h1\"\n",
    "for file in part_2_files:\n",
    "    print(\"Solving problem for file: \", file)\n",
    "    puzzle_8_solver(file, algorithm)\n",
    "    print(\" \")"
   ]
  },
  {
   "cell_type": "markdown",
   "id": "1c6a9a51",
   "metadata": {},
   "source": [
    "### A* using Manhattam Distance heuristic"
   ]
  },
  {
   "cell_type": "code",
   "execution_count": null,
   "id": "2731bfa1",
   "metadata": {},
   "outputs": [],
   "source": [
    "print(\"A* using Manhattam Distance Heuristic\\n\")\n",
    "algorithm = \"h2\"\n",
    "for file in part_2_files:\n",
    "    print(\"Solving problem for file: \", file)\n",
    "    puzzle_8_solver(file, algorithm)\n",
    "    print(\" \")"
   ]
  },
  {
   "cell_type": "markdown",
   "id": "66b4ba6a",
   "metadata": {},
   "source": [
    "### A* using Max heuristic"
   ]
  },
  {
   "cell_type": "code",
   "execution_count": null,
   "id": "c317baac",
   "metadata": {},
   "outputs": [],
   "source": [
    "print(\"A* using Max Heuristic \\n\")\n",
    "algorithm = \"h3\"\n",
    "for file in part_2_files:\n",
    "    print(\"Solving problem for file: \", file)\n",
    "    puzzle_8_solver(file, algorithm)\n",
    "    print(\" \")"
   ]
  }
 ],
 "metadata": {
  "kernelspec": {
   "display_name": "Python 3 (ipykernel)",
   "language": "python",
   "name": "python3"
  },
  "language_info": {
   "codemirror_mode": {
    "name": "ipython",
    "version": 3
   },
   "file_extension": ".py",
   "mimetype": "text/x-python",
   "name": "python",
   "nbconvert_exporter": "python",
   "pygments_lexer": "ipython3",
   "version": "3.8.16"
  }
 },
 "nbformat": 4,
 "nbformat_minor": 5
}

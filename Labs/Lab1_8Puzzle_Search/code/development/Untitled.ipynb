{
 "cells": [
  {
   "cell_type": "code",
   "execution_count": 1,
   "id": "72f2effa",
   "metadata": {},
   "outputs": [],
   "source": [
    "import sys\n",
    "from collections import deque\n",
    "import heapq\n",
    "\n",
    "\n",
    "%matplotlib inline\n",
    "import networkx as nx\n",
    "import matplotlib.pyplot as plt\n",
    "from matplotlib import lines\n",
    "\n",
    "from ipywidgets import interact\n",
    "import ipywidgets as widgets\n",
    "from IPython.display import display\n",
    "import time\n",
    "\n",
    "# Needed to hide warnings in the matplotlib sections\n",
    "import warnings\n",
    "warnings.filterwarnings(\"ignore\")"
   ]
  },
  {
   "cell_type": "code",
   "execution_count": 2,
   "id": "2f3c9dd7",
   "metadata": {},
   "outputs": [],
   "source": [
    "class Problem(object):\n",
    "\n",
    "    \"\"\"The abstract class for a formal problem. You should subclass\n",
    "    this and implement the methods actions and result, and possibly\n",
    "    __init__, goal_test, and path_cost. Then you will create instances\n",
    "    of your subclass and solve them with the various search functions.\"\"\"\n",
    "\n",
    "    def __init__(self, initial, goal=None):\n",
    "        \"\"\"The constructor specifies the initial state, and possibly a goal\n",
    "        state, if there is a unique goal. Your subclass's constructor can add\n",
    "        other arguments.\"\"\"\n",
    "        self.initial = initial\n",
    "        self.goal = goal\n",
    "\n",
    "    def actions(self, state):\n",
    "        \"\"\"Return the actions that can be executed in the given\n",
    "        state. The result would typically be a list, but if there are\n",
    "        many actions, consider yielding them one at a time in an\n",
    "        iterator, rather than building them all at once.\"\"\"\n",
    "        raise NotImplementedError\n",
    "\n",
    "    def result(self, state, action):\n",
    "        \"\"\"Return the state that results from executing the given\n",
    "        action in the given state. The action must be one of\n",
    "        self.actions(state).\"\"\"\n",
    "        raise NotImplementedError\n",
    "\n",
    "    def goal_test(self, state):\n",
    "        \"\"\"Return True if the state is a goal. The default method compares the\n",
    "        state to self.goal or checks for state in self.goal if it is a\n",
    "        list, as specified in the constructor. Override this method if\n",
    "        checking against a single self.goal is not enough.\"\"\"\n",
    "        if isinstance(self.goal, list):\n",
    "            return is_in(state, self.goal)\n",
    "        else:\n",
    "            return state == self.goal\n",
    "\n",
    "    def path_cost(self, c, state1, action, state2):\n",
    "        \"\"\"Return the cost of a solution path that arrives at state2 from\n",
    "        state1 via action, assuming cost c to get up to state1. If the problem\n",
    "        is such that the path doesn't matter, this function will only look at\n",
    "        state2.  If the path does matter, it will consider c and maybe state1\n",
    "        and action. The default method costs 1 for every step in the path.\"\"\"\n",
    "        return c + 1\n",
    "\n",
    "    def value(self, state):\n",
    "        \"\"\"For optimization problems, each state has a value.  Hill-climbing\n",
    "        and related algorithms try to maximize this value.\"\"\"\n",
    "        raise NotImplementedError"
   ]
  },
  {
   "cell_type": "code",
   "execution_count": 3,
   "id": "456a2027",
   "metadata": {},
   "outputs": [],
   "source": [
    "class Node:\n",
    "\n",
    "    \"\"\"A node in a search tree. Contains a pointer to the parent (the node\n",
    "    that this is a successor of) and to the actual state for this node. Note\n",
    "    that if a state is arrived at by two paths, then there are two nodes with\n",
    "    the same state.  Also includes the action that got us to this state, and\n",
    "    the total path_cost (also known as g) to reach the node.  Other functions\n",
    "    may add an f and h value; see best_first_graph_search and astar_search for\n",
    "    an explanation of how the f and h values are handled. You will not need to\n",
    "    subclass this class.\"\"\"\n",
    "\n",
    "    def __init__(self, state, parent=None, action=None, path_cost=0):\n",
    "        \"\"\"Create a search tree Node, derived from a parent by an action.\"\"\"\n",
    "        self.state = state\n",
    "        self.parent = parent\n",
    "        self.action = action\n",
    "        self.path_cost = path_cost\n",
    "        self.depth = 0\n",
    "        if parent:\n",
    "            self.depth = parent.depth + 1\n",
    "\n",
    "    def __repr__(self):\n",
    "        return \"<Node {}>\".format(self.state)\n",
    "\n",
    "    def __lt__(self, node):\n",
    "        return self.state < node.state\n",
    "\n",
    "    def expand(self, problem):\n",
    "        \"\"\"List the nodes reachable in one step from this node.\"\"\"\n",
    "        return [self.child_node(problem, action)\n",
    "                for action in problem.actions(self.state)]\n",
    "\n",
    "    def child_node(self, problem, action):\n",
    "        \"\"\"[Figure 3.10]\"\"\"\n",
    "        next_state = problem.result(self.state, action)\n",
    "        next_node = Node(next_state, self, action,\n",
    "                    problem.path_cost(self.path_cost, self.state,\n",
    "                                      action, next_state))\n",
    "        return next_node\n",
    "    \n",
    "    def solution(self):\n",
    "        \"\"\"Return the sequence of actions to go from the root to this node.\"\"\"\n",
    "        return [node.action for node in self.path()[1:]]\n",
    "\n",
    "    def path(self):\n",
    "        \"\"\"Return a list of nodes forming the path from the root to this node.\"\"\"\n",
    "        node, path_back = self, []\n",
    "        while node:\n",
    "            path_back.append(node)\n",
    "            node = node.parent\n",
    "        return list(reversed(path_back))\n",
    "\n",
    "    # We want for a queue of nodes in breadth_first_graph_search or\n",
    "    # astar_search to have no duplicated states, so we treat nodes\n",
    "    # with the same state as equal. [Problem: this may not be what you\n",
    "    # want in other contexts.]\n",
    "\n",
    "    def __eq__(self, other):\n",
    "        return isinstance(other, Node) and self.state == other.state\n",
    "\n",
    "    def __hash__(self):\n",
    "        return hash(self.state)"
   ]
  },
  {
   "cell_type": "code",
   "execution_count": 4,
   "id": "257fa1fe",
   "metadata": {},
   "outputs": [],
   "source": [
    "class injection:\n",
    "    \"\"\"Dependency injection of temporary values for global functions/classes/etc.\n",
    "    E.g., `with injection(DataBase=MockDataBase): ...`\"\"\"\n",
    "\n",
    "    def __init__(self, **kwds):\n",
    "        self.new = kwds\n",
    "\n",
    "    def __enter__(self):\n",
    "        self.old = {v: globals()[v] for v in self.new}\n",
    "        globals().update(self.new)\n",
    "\n",
    "    def __exit__(self, type, value, traceback):\n",
    "        globals().update(self.old)\n",
    "\n",
    "\n",
    "def memoize(fn, slot=None, maxsize=32):\n",
    "    \"\"\"Memoize fn: make it remember the computed value for any argument list.\n",
    "    If slot is specified, store result in that slot of first argument.\n",
    "    If slot is false, use lru_cache for caching the values.\"\"\"\n",
    "    if slot:\n",
    "        def memoized_fn(obj, *args):\n",
    "            if hasattr(obj, slot):\n",
    "                return getattr(obj, slot)\n",
    "            else:\n",
    "                val = fn(obj, *args)\n",
    "                setattr(obj, slot, val)\n",
    "                return val\n",
    "    else:\n",
    "        @functools.lru_cache(maxsize=maxsize)\n",
    "        def memoized_fn(*args):\n",
    "            return fn(*args)\n",
    "\n",
    "    return memoized_fn\n",
    "\n",
    "\n",
    "def name(obj):\n",
    "    \"\"\"Try to find some reasonable name for the object.\"\"\"\n",
    "    return (getattr(obj, 'name', 0) or getattr(obj, '__name__', 0) or\n",
    "            getattr(getattr(obj, '__class__', 0), '__name__', 0) or\n",
    "            str(obj))\n",
    "\n",
    "\n",
    "def isnumber(x):\n",
    "    \"\"\"Is x a number?\"\"\"\n",
    "    return hasattr(x, '__int__')\n",
    "\n",
    "\n",
    "def issequence(x):\n",
    "    \"\"\"Is x a sequence?\"\"\"\n",
    "    return isinstance(x, collections.abc.Sequence)\n",
    "\n",
    "\n",
    "def print_table(table, header=None, sep='   ', numfmt='{}'):\n",
    "    \"\"\"Print a list of lists as a table, so that columns line up nicely.\n",
    "    header, if specified, will be printed as the first row.\n",
    "    numfmt is the format for all numbers; you might want e.g. '{:.2f}'.\n",
    "    (If you want different formats in different columns,\n",
    "    don't use print_table.) sep is the separator between columns.\"\"\"\n",
    "    justs = ['rjust' if isnumber(x) else 'ljust' for x in table[0]]\n",
    "\n",
    "    if header:\n",
    "        table.insert(0, header)\n",
    "\n",
    "    table = [[numfmt.format(x) if isnumber(x) else x for x in row]\n",
    "             for row in table]\n",
    "\n",
    "    sizes = list(map(lambda seq: max(map(len, seq)), list(zip(*[map(str, row) for row in table]))))\n",
    "\n",
    "    for row in table:\n",
    "        print(sep.join(getattr(str(x), j)(size) for (j, size, x) in zip(justs, sizes, row)))\n",
    "\n",
    "\n",
    "def open_data(name, mode='r'):\n",
    "    aima_root = os.path.dirname(__file__)\n",
    "    aima_file = os.path.join(aima_root, *['aima-data', name])\n",
    "\n",
    "    return open(aima_file, mode=mode)\n",
    "\n",
    "\n",
    "def failure_test(algorithm, tests):\n",
    "    \"\"\"Grades the given algorithm based on how many tests it passes.\n",
    "    Most algorithms have arbitrary output on correct execution, which is difficult\n",
    "    to check for correctness. On the other hand, a lot of algorithms output something\n",
    "    particular on fail (for example, False, or None).\n",
    "    tests is a list with each element in the form: (values, failure_output).\"\"\"\n",
    "    return mean(int(algorithm(x) != y) for x, y in tests)\n"
   ]
  },
  {
   "cell_type": "code",
   "execution_count": 5,
   "id": "f0fe7c61",
   "metadata": {},
   "outputs": [],
   "source": [
    "class PriorityQueue:\n",
    "    \"\"\"A Queue in which the minimum (or maximum) element (as determined by f and\n",
    "    order) is returned first.\n",
    "    If order is 'min', the item with minimum f(x) is\n",
    "    returned first; if order is 'max', then it is the item with maximum f(x).\n",
    "    Also supports dict-like lookup.\"\"\"\n",
    "\n",
    "    def __init__(self, order='min', f=lambda x: x):\n",
    "        self.heap = []\n",
    "        if order == 'min':\n",
    "            self.f = f\n",
    "        elif order == 'max':  # now item with max f(x)\n",
    "            self.f = lambda x: -f(x)  # will be popped first\n",
    "        else:\n",
    "            raise ValueError(\"Order must be either 'min' or 'max'.\")\n",
    "\n",
    "    def append(self, item):\n",
    "        \"\"\"Insert item at its correct position.\"\"\"\n",
    "        heapq.heappush(self.heap, (self.f(item), item))\n",
    "\n",
    "    def extend(self, items):\n",
    "        \"\"\"Insert each item in items at its correct position.\"\"\"\n",
    "        for item in items:\n",
    "            self.append(item)\n",
    "\n",
    "    def pop(self):\n",
    "        \"\"\"Pop and return the item (with min or max f(x) value)\n",
    "        depending on the order.\"\"\"\n",
    "        if self.heap:\n",
    "            return heapq.heappop(self.heap)[1]\n",
    "        else:\n",
    "            raise Exception('Trying to pop from empty PriorityQueue.')\n",
    "\n",
    "    def __len__(self):\n",
    "        \"\"\"Return current capacity of PriorityQueue.\"\"\"\n",
    "        return len(self.heap)\n",
    "\n",
    "    def __contains__(self, key):\n",
    "        \"\"\"Return True if the key is in PriorityQueue.\"\"\"\n",
    "        return any([item == key for _, item in self.heap])\n",
    "\n",
    "    def __getitem__(self, key):\n",
    "        \"\"\"Returns the first value associated with key in PriorityQueue.\n",
    "        Raises KeyError if key is not present.\"\"\"\n",
    "        for value, item in self.heap:\n",
    "            if item == key:\n",
    "                return value\n",
    "        raise KeyError(str(key) + \" is not in the priority queue\")\n",
    "\n",
    "    def __delitem__(self, key):\n",
    "        \"\"\"Delete the first occurrence of key.\"\"\"\n",
    "        try:\n",
    "            del self.heap[[item == key for _, item in self.heap].index(True)]\n",
    "        except ValueError:\n",
    "            raise KeyError(str(key) + \" is not in the priority queue\")\n",
    "        heapq.heapify(self.heap)"
   ]
  },
  {
   "cell_type": "code",
   "execution_count": 6,
   "id": "68c1c793",
   "metadata": {},
   "outputs": [],
   "source": [
    "class EightPuzzle(Problem):\n",
    "    \"\"\" The problem of sliding tiles numbered from 1 to 8 on a 3x3 board, where one of the\n",
    "    squares is a blank. A state is represented as a tuple of length 9, where  element at\n",
    "    index i represents the tile number  at index i (0 if it's an empty square) \"\"\"\n",
    "\n",
    "    def __init__(self, initial, goal=(1, 2, 3, 4, 5, 6, 7, 8, 0)):\n",
    "        \"\"\" Define goal state and initialize a problem \"\"\"\n",
    "        super().__init__(initial, goal)\n",
    "\n",
    "    def find_blank_square(self, state):\n",
    "        \"\"\"Return the index of the blank square in a given state\"\"\"\n",
    "\n",
    "        return state.index(0)\n",
    "\n",
    "    def actions(self, state):\n",
    "        \"\"\" Return the actions that can be executed in the given state.\n",
    "        The result would be a list, since there are only four possible actions\n",
    "        in any given state of the environment \"\"\"\n",
    "\n",
    "        possible_actions = ['UP', 'DOWN', 'LEFT', 'RIGHT']\n",
    "        index_blank_square = self.find_blank_square(state)\n",
    "\n",
    "        if index_blank_square % 3 == 0:\n",
    "            possible_actions.remove('LEFT')\n",
    "        if index_blank_square < 3:\n",
    "            possible_actions.remove('UP')\n",
    "        if index_blank_square % 3 == 2:\n",
    "            possible_actions.remove('RIGHT')\n",
    "        if index_blank_square > 5:\n",
    "            possible_actions.remove('DOWN')\n",
    "\n",
    "        return possible_actions\n",
    "\n",
    "    def result(self, state, action):\n",
    "        \"\"\" Given state and action, return a new state that is the result of the action.\n",
    "        Action is assumed to be a valid action in the state \"\"\"\n",
    "\n",
    "        # blank is the index of the blank square\n",
    "        blank = self.find_blank_square(state)\n",
    "        new_state = list(state)\n",
    "\n",
    "        delta = {'UP': -3, 'DOWN': 3, 'LEFT': -1, 'RIGHT': 1}\n",
    "        neighbor = blank + delta[action]\n",
    "        new_state[blank], new_state[neighbor] = new_state[neighbor], new_state[blank]\n",
    "\n",
    "        return tuple(new_state)\n",
    "\n",
    "    def goal_test(self, state):\n",
    "        \"\"\" Given a state, return True if state is a goal state or False, otherwise \"\"\"\n",
    "\n",
    "        return state == self.goal\n",
    "\n",
    "    def check_solvability(self, state):\n",
    "        \"\"\" Checks if the given state is solvable \"\"\"\n",
    "\n",
    "        inversion = 0\n",
    "        for i in range(len(state)):\n",
    "            for j in range(i + 1, len(state)):\n",
    "                if (state[i] > state[j]) and state[i] != 0 and state[j] != 0:\n",
    "                    inversion += 1\n",
    "\n",
    "        return inversion % 2 == 0\n",
    "\n",
    "    def h(self, node):\n",
    "        \"\"\" Return the heuristic value for a given state. Default heuristic function used is \n",
    "        h(n) = number of misplaced tiles \"\"\"\n",
    "\n",
    "        return sum(s != g for (s, g) in zip(node.state, self.goal))"
   ]
  },
  {
   "cell_type": "code",
   "execution_count": 7,
   "id": "4a097936",
   "metadata": {},
   "outputs": [],
   "source": [
    "# Heuristics for 8 Puzzle Problem\n",
    "import math\n",
    "\n",
    "def linear(node):\n",
    "    goal = (1, 2, 3, 4, 5, 6, 7, 8, 0)\n",
    "    return sum([1 if node.state[i] != goal[i] else 0 for i in range(8)])\n",
    "\n",
    "def manhattan(node):\n",
    "    state = node.state\n",
    "    index_goal = {0:[2,2], 1:[0,0], 2:[0,1], 3:[0,2], 4:[1,0], 5:[1,1], 6:[1,2], 7:[2,0], 8:[2,1]}\n",
    "    index_state = {}\n",
    "    index = [[0,0], [0,1], [0,2], [1,0], [1,1], [1,2], [2,0], [2,1], [2,2]]\n",
    "    x, y = 0, 0\n",
    "    \n",
    "    for i in range(len(state)):\n",
    "        index_state[state[i]] = index[i]\n",
    "    \n",
    "    mhd = 0\n",
    "    \n",
    "    for i in range(8):\n",
    "        for j in range(2):\n",
    "            mhd = abs(index_goal[i][j] - index_state[i][j]) + mhd\n",
    "    \n",
    "    return mhd\n",
    "\n",
    "def max_heuristic(node):\n",
    "    score1 = manhattan(node)\n",
    "    score2 = linear(node)\n",
    "    return max(score1, score2)"
   ]
  },
  {
   "cell_type": "code",
   "execution_count": 8,
   "id": "237322e0",
   "metadata": {},
   "outputs": [],
   "source": [
    "def breadth_first_graph_search(problem):\n",
    "    \"\"\"[Figure 3.11]\n",
    "    Note that this function can be implemented in a\n",
    "    single line as below:\n",
    "    return graph_search(problem, FIFOQueue())\n",
    "    \"\"\"\n",
    "    node = Node(problem.initial)\n",
    "    if problem.goal_test(node.state):\n",
    "        return node\n",
    "    frontier = deque([node])\n",
    "    explored = set()\n",
    "    while frontier:\n",
    "        node = frontier.popleft()\n",
    "        explored.add(node.state)\n",
    "        for child in node.expand(problem):\n",
    "            if child.state not in explored and child not in frontier:\n",
    "                if problem.goal_test(child.state):\n",
    "                    return child\n",
    "                frontier.append(child)\n",
    "    return None\n",
    "\n",
    "def best_first_graph_search(problem, f, display=False):\n",
    "    \"\"\"Search the nodes with the lowest f scores first.\n",
    "    You specify the function f(node) that you want to minimize; for example,\n",
    "    if f is a heuristic estimate to the goal, then we have greedy best\n",
    "    first search; if f is node.depth then we have breadth-first search.\n",
    "    There is a subtlety: the line \"f = memoize(f, 'f')\" means that the f\n",
    "    values will be cached on the nodes as they are computed. So after doing\n",
    "    a best first search you can examine the f values of the path returned.\"\"\"\n",
    "    f = memoize(f, 'f')\n",
    "    node = Node(problem.initial)\n",
    "    frontier = PriorityQueue('min', f)\n",
    "    frontier.append(node)\n",
    "    explored = set()\n",
    "    while frontier:\n",
    "        node = frontier.pop()\n",
    "        if problem.goal_test(node.state):\n",
    "            if display:\n",
    "                print(len(explored), \"paths have been expanded and\", len(frontier), \"paths remain in the frontier\")\n",
    "            return node\n",
    "        explored.add(node.state)\n",
    "        for child in node.expand(problem):\n",
    "            if child.state not in explored and child not in frontier:\n",
    "                frontier.append(child)\n",
    "            elif child in frontier:\n",
    "                if f(child) < frontier[child]:\n",
    "                    del frontier[child]\n",
    "                    frontier.append(child)\n",
    "    return None\n",
    "\n",
    "def astar_search(problem, h=None, display=False):\n",
    "    \"\"\"A* search is best-first graph search with f(n) = g(n)+h(n).\n",
    "    You need to specify the h function when you call astar_search, or\n",
    "    else in your Problem subclass.\"\"\"\n",
    "    h = memoize(h or problem.h, 'h')\n",
    "    return best_first_graph_search(problem, lambda n: n.path_cost + h(n), display) \n",
    "\n",
    "def astar_search_2(problem, h=manhattan, display=False):\n",
    "    \"\"\"A* search is best-first graph search with f(n) = g(n)+h(n).\n",
    "    You need to specify the h function when you call astar_search, or\n",
    "    else in your Problem subclass.\"\"\"\n",
    "    h = memoize(h or problem.h, 'h')\n",
    "    return best_first_graph_search(problem, lambda n: n.path_cost + h(n), display)\n",
    "\n",
    "def astar_search_3(problem, h=max_heuristic, display=False):\n",
    "    \"\"\"A* search is best-first graph search with f(n) = g(n)+h(n).\n",
    "    You need to specify the h function when you call astar_search, or\n",
    "    else in your Problem subclass.\"\"\"\n",
    "    h = memoize(h or problem.h, 'h')\n",
    "    solution, explored, frontier = best_first_graph_search(problem, lambda n: n.path_cost + h(n), display) \n",
    "    return solution, explored, frontier\n"
   ]
  },
  {
   "cell_type": "code",
   "execution_count": 9,
   "id": "f44fc644",
   "metadata": {},
   "outputs": [],
   "source": [
    "def puzzle_8_solver(file_path, algorithm):\n",
    "    \n",
    "    # read files in\n",
    "    with open(file_path, 'r') as file:\n",
    "        puzzle_s1_raw = file.read().split()\n",
    "    puzzle_s1 = tuple(int(x if x != '_' else '0') for x in puzzle_s1_raw)\n",
    "    \n",
    "    # define function to get the required output\n",
    "    def func_output(algo, problem, heuristic=None):\n",
    "        \n",
    "        # start timing\n",
    "        start_time = time.perf_counter()\n",
    "        \n",
    "        # checking if heuristic argument was given\n",
    "        if heuristic:\n",
    "            solution = algo(problem, heuristic)\n",
    "        \n",
    "        # uniformed algo\n",
    "        else:\n",
    "            solution = algo(problem)\n",
    "        \n",
    "        # required output\n",
    "        seq_actions = solution.solution()\n",
    "        path = solution.path()\n",
    "        tot_nodes = len(path)\n",
    "        \n",
    "        # edn timing\n",
    "        end_time = time.perf_counter()\n",
    "        \n",
    "        # total time taken\n",
    "        time_taken = end_time - start_time\n",
    "        \n",
    "        return tot_nodes, seq_actions, time_taken, path\n",
    "    \n",
    "    # fit puzzle in\n",
    "    puzzle = EightPuzzle(puzzle_s1)\n",
    "    \n",
    "    # check for solvability\n",
    "    is_solvable = puzzle.check_solvability(puzzle_s1)\n",
    "    \n",
    "    if is_solvable == False:\n",
    "        print(\"Problem is not solvable.\")\n",
    "        return None \n",
    "    \n",
    "    # dictionary to map algorithm names to their corresponding functions\n",
    "    algo_dict = {\n",
    "        'BFS': breadth_first_graph_search,\n",
    "        'IDS': iterative_deepening_search,\n",
    "        'h1': astar_search,\n",
    "        'h2': astar_search_2,\n",
    "        'h3': astar_search_3\n",
    "    }\n",
    "    \n",
    "    if algorithm in algo_dict:\n",
    "        return func_output(algo_dict[algorithm], puzzle)\n",
    "    else:\n",
    "        print(f\"Algorithm {algorithm} is not recognized. The available algorithms are: BFS, IDS, h1, h2, h3\")\n",
    "        return None\n"
   ]
  },
  {
   "cell_type": "code",
   "execution_count": 10,
   "id": "2ef80fc3",
   "metadata": {},
   "outputs": [
    {
     "data": {
      "text/plain": [
       "<__main__.EightPuzzle at 0x7f988ef8b370>"
      ]
     },
     "execution_count": 10,
     "metadata": {},
     "output_type": "execute_result"
    }
   ],
   "source": [
    "file_path = '../Part2/S1.txt'\n",
    "algorithm = 'h1'\n",
    "\n",
    "# read files in\n",
    "with open(file_path, 'r') as file:\n",
    "    puzzle_s1_raw = file.read().split()\n",
    "    puzzle_s1 = tuple(int(x if x != '_' else '0') for x in puzzle_s1_raw)\n",
    "\n",
    "\n",
    "puzzle = EightPuzzle(puzzle_s1)\n",
    "puzzle"
   ]
  },
  {
   "cell_type": "code",
   "execution_count": 11,
   "id": "4fa0d8f7",
   "metadata": {},
   "outputs": [
    {
     "data": {
      "text/plain": [
       "(3, 5, 2, 6, 1, 7, 0, 8, 4)"
      ]
     },
     "execution_count": 11,
     "metadata": {},
     "output_type": "execute_result"
    }
   ],
   "source": [
    "puzzle_s1"
   ]
  },
  {
   "cell_type": "code",
   "execution_count": 12,
   "id": "0ca976b8",
   "metadata": {},
   "outputs": [
    {
     "data": {
      "text/plain": [
       "True"
      ]
     },
     "execution_count": 12,
     "metadata": {},
     "output_type": "execute_result"
    }
   ],
   "source": [
    "puzzle_s1.index(0) % 3 == 0"
   ]
  },
  {
   "cell_type": "code",
   "execution_count": 13,
   "id": "937ceaae",
   "metadata": {},
   "outputs": [
    {
     "data": {
      "text/plain": [
       "True"
      ]
     },
     "execution_count": 13,
     "metadata": {},
     "output_type": "execute_result"
    }
   ],
   "source": [
    "puzzle = EightPuzzle(puzzle_s1)\n",
    "puzzle.check_solvability(puzzle_s1)"
   ]
  },
  {
   "cell_type": "code",
   "execution_count": 14,
   "id": "4fc86be5",
   "metadata": {},
   "outputs": [
    {
     "data": {
      "text/plain": [
       "(1, 2, 3, 4, 5, 6, 7, 8, 0)"
      ]
     },
     "execution_count": 14,
     "metadata": {},
     "output_type": "execute_result"
    }
   ],
   "source": [
    "puzzle.goal"
   ]
  },
  {
   "cell_type": "code",
   "execution_count": 19,
   "id": "070dba32",
   "metadata": {},
   "outputs": [
    {
     "data": {
      "text/plain": [
       "(3, 5, 2, 6, 1, 7, 0, 8, 4)"
      ]
     },
     "execution_count": 19,
     "metadata": {},
     "output_type": "execute_result"
    }
   ],
   "source": [
    "puzzle.initial"
   ]
  },
  {
   "cell_type": "code",
   "execution_count": 25,
   "id": "b07d4c1b",
   "metadata": {},
   "outputs": [
    {
     "data": {
      "text/plain": [
       "(3, 5, 2, 6, 1, 7, 0, 8, 4)"
      ]
     },
     "execution_count": 25,
     "metadata": {},
     "output_type": "execute_result"
    }
   ],
   "source": [
    "puzzle.initial"
   ]
  },
  {
   "cell_type": "code",
   "execution_count": 105,
   "id": "8db54a8c",
   "metadata": {},
   "outputs": [],
   "source": [
    "\n",
    "def best_first_graph_search(problem, f, display=False):\n",
    "    f = memoize(f, 'f')\n",
    "    node = Node(problem.initial)\n",
    "    frontier = PriorityQueue('min', f)\n",
    "    frontier.append(node)\n",
    "    explored = set()\n",
    "    while frontier:\n",
    "        node = frontier.pop()\n",
    "        if problem.goal_test(node.state):\n",
    "            if display:\n",
    "                print(len(explored), \"paths have been expanded and\", len(frontier), \"paths remain in the frontier\")\n",
    "            return node, explored\n",
    "        explored.add(node.state)\n",
    "        for child in node.expand(problem):\n",
    "            if child.state not in explored and child not in frontier:\n",
    "                frontier.append(child)\n",
    "            elif child in frontier:\n",
    "                if f(child) < frontier[child]:\n",
    "                    del frontier[child]\n",
    "                    frontier.append(child)\n",
    "    return None\n"
   ]
  },
  {
   "cell_type": "code",
   "execution_count": 106,
   "id": "206a6143",
   "metadata": {},
   "outputs": [],
   "source": [
    "def astar_search_2(problem, h=manhattan, display=False):\n",
    "    \"\"\"A* search is best-first graph search with f(n) = g(n)+h(n).\n",
    "    You need to specify the h function when you call astar_search, or\n",
    "    else in your Problem subclass.\"\"\"\n",
    "    h = memoize(h or problem.h, 'h')\n",
    "    \n",
    "    solution, explored = best_first_graph_search(problem, lambda n: n.path_cost + h(n), display)\n",
    "\n",
    "    return solution, explored"
   ]
  },
  {
   "cell_type": "code",
   "execution_count": 107,
   "id": "8394b754",
   "metadata": {},
   "outputs": [
    {
     "name": "stdout",
     "output_type": "stream",
     "text": [
      "2025 paths have been expanded and 1163 paths remain in the frontier\n"
     ]
    },
    {
     "data": {
      "text/plain": [
       "[<Node (3, 5, 2, 6, 1, 7, 0, 8, 4)>,\n",
       " <Node (3, 5, 2, 0, 1, 7, 6, 8, 4)>,\n",
       " <Node (0, 5, 2, 3, 1, 7, 6, 8, 4)>,\n",
       " <Node (5, 0, 2, 3, 1, 7, 6, 8, 4)>,\n",
       " <Node (5, 1, 2, 3, 0, 7, 6, 8, 4)>,\n",
       " <Node (5, 1, 2, 3, 8, 7, 6, 0, 4)>,\n",
       " <Node (5, 1, 2, 3, 8, 7, 6, 4, 0)>,\n",
       " <Node (5, 1, 2, 3, 8, 0, 6, 4, 7)>,\n",
       " <Node (5, 1, 2, 3, 0, 8, 6, 4, 7)>,\n",
       " <Node (5, 1, 2, 0, 3, 8, 6, 4, 7)>,\n",
       " <Node (5, 1, 2, 6, 3, 8, 0, 4, 7)>,\n",
       " <Node (5, 1, 2, 6, 3, 8, 4, 0, 7)>,\n",
       " <Node (5, 1, 2, 6, 3, 8, 4, 7, 0)>,\n",
       " <Node (5, 1, 2, 6, 3, 0, 4, 7, 8)>,\n",
       " <Node (5, 1, 2, 6, 0, 3, 4, 7, 8)>,\n",
       " <Node (5, 1, 2, 0, 6, 3, 4, 7, 8)>,\n",
       " <Node (0, 1, 2, 5, 6, 3, 4, 7, 8)>,\n",
       " <Node (1, 0, 2, 5, 6, 3, 4, 7, 8)>,\n",
       " <Node (1, 2, 0, 5, 6, 3, 4, 7, 8)>,\n",
       " <Node (1, 2, 3, 5, 6, 0, 4, 7, 8)>,\n",
       " <Node (1, 2, 3, 5, 0, 6, 4, 7, 8)>,\n",
       " <Node (1, 2, 3, 0, 5, 6, 4, 7, 8)>,\n",
       " <Node (1, 2, 3, 4, 5, 6, 0, 7, 8)>,\n",
       " <Node (1, 2, 3, 4, 5, 6, 7, 0, 8)>,\n",
       " <Node (1, 2, 3, 4, 5, 6, 7, 8, 0)>]"
      ]
     },
     "execution_count": 107,
     "metadata": {},
     "output_type": "execute_result"
    }
   ],
   "source": [
    "solution, visited_nodes = astar_search_2(puzzle, manhattan, display=True)\n",
    "path = solution.path()\n",
    "path"
   ]
  },
  {
   "cell_type": "code",
   "execution_count": 108,
   "id": "1a05f761",
   "metadata": {},
   "outputs": [
    {
     "data": {
      "text/plain": [
       "2025"
      ]
     },
     "execution_count": 108,
     "metadata": {},
     "output_type": "execute_result"
    }
   ],
   "source": [
    "len(visited_nodes)"
   ]
  },
  {
   "cell_type": "code",
   "execution_count": 119,
   "id": "904e7387",
   "metadata": {},
   "outputs": [
    {
     "data": {
      "text/plain": [
       "(1, 5, 2, 0, 6, 3, 8, 7, 4)"
      ]
     },
     "execution_count": 119,
     "metadata": {},
     "output_type": "execute_result"
    }
   ],
   "source": [
    "list(visited_nodes)[-1]"
   ]
  },
  {
   "cell_type": "code",
   "execution_count": 29,
   "id": "cd9f6f15",
   "metadata": {},
   "outputs": [
    {
     "data": {
      "text/plain": [
       "[<Node (1, 2, 3, 4, 5, 0, 7, 8, 6)>, <Node (1, 2, 3, 4, 5, 6, 7, 0, 8)>]"
      ]
     },
     "execution_count": 29,
     "metadata": {},
     "output_type": "execute_result"
    }
   ],
   "source": [
    "solution.expand(puzzle)"
   ]
  },
  {
   "cell_type": "code",
   "execution_count": 17,
   "id": "a66b6e7f",
   "metadata": {},
   "outputs": [
    {
     "name": "stdout",
     "output_type": "stream",
     "text": [
      "<Node (3, 5, 2, 6, 1, 7, 0, 8, 4)>\n",
      "<Node (3, 5, 2, 0, 1, 7, 6, 8, 4)>\n",
      "<Node (0, 5, 2, 3, 1, 7, 6, 8, 4)>\n",
      "<Node (5, 0, 2, 3, 1, 7, 6, 8, 4)>\n",
      "<Node (5, 1, 2, 3, 0, 7, 6, 8, 4)>\n",
      "<Node (5, 1, 2, 3, 8, 7, 6, 0, 4)>\n",
      "<Node (5, 1, 2, 3, 8, 7, 6, 4, 0)>\n",
      "<Node (5, 1, 2, 3, 8, 0, 6, 4, 7)>\n",
      "<Node (5, 1, 2, 3, 0, 8, 6, 4, 7)>\n",
      "<Node (5, 1, 2, 0, 3, 8, 6, 4, 7)>\n",
      "<Node (5, 1, 2, 6, 3, 8, 0, 4, 7)>\n",
      "<Node (5, 1, 2, 6, 3, 8, 4, 0, 7)>\n",
      "<Node (5, 1, 2, 6, 3, 8, 4, 7, 0)>\n",
      "<Node (5, 1, 2, 6, 3, 0, 4, 7, 8)>\n",
      "<Node (5, 1, 2, 6, 0, 3, 4, 7, 8)>\n",
      "<Node (5, 1, 2, 0, 6, 3, 4, 7, 8)>\n",
      "<Node (0, 1, 2, 5, 6, 3, 4, 7, 8)>\n",
      "<Node (1, 0, 2, 5, 6, 3, 4, 7, 8)>\n",
      "<Node (1, 2, 0, 5, 6, 3, 4, 7, 8)>\n",
      "<Node (1, 2, 3, 5, 6, 0, 4, 7, 8)>\n",
      "<Node (1, 2, 3, 5, 0, 6, 4, 7, 8)>\n",
      "<Node (1, 2, 3, 0, 5, 6, 4, 7, 8)>\n",
      "<Node (1, 2, 3, 4, 5, 6, 0, 7, 8)>\n",
      "<Node (1, 2, 3, 4, 5, 6, 7, 0, 8)>\n",
      "<Node (1, 2, 3, 4, 5, 6, 7, 8, 0)>\n"
     ]
    }
   ],
   "source": [
    "for i in range(len(solution.path())):\n",
    "    print(solution.path()[i])"
   ]
  },
  {
   "cell_type": "code",
   "execution_count": null,
   "id": "6057f7d0",
   "metadata": {},
   "outputs": [],
   "source": []
  }
 ],
 "metadata": {
  "kernelspec": {
   "display_name": "Python 3 (ipykernel)",
   "language": "python",
   "name": "python3"
  },
  "language_info": {
   "codemirror_mode": {
    "name": "ipython",
    "version": 3
   },
   "file_extension": ".py",
   "mimetype": "text/x-python",
   "name": "python",
   "nbconvert_exporter": "python",
   "pygments_lexer": "ipython3",
   "version": "3.8.16"
  }
 },
 "nbformat": 4,
 "nbformat_minor": 5
}

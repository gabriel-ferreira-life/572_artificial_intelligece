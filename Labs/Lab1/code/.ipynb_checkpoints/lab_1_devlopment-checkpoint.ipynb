{
 "cells": [
  {
   "cell_type": "markdown",
   "id": "77164398",
   "metadata": {},
   "source": [
    "### Libraries"
   ]
  },
  {
   "cell_type": "code",
   "execution_count": 1,
   "id": "17d16f3b",
   "metadata": {},
   "outputs": [],
   "source": [
    "import sys\n",
    "from collections import deque\n",
    "import heapq\n",
    "\n",
    "\n",
    "%matplotlib inline\n",
    "import networkx as nx\n",
    "import matplotlib.pyplot as plt\n",
    "from matplotlib import lines\n",
    "\n",
    "from ipywidgets import interact\n",
    "import ipywidgets as widgets\n",
    "from IPython.display import display\n",
    "import time\n",
    "\n",
    "# Needed to hide warnings in the matplotlib sections\n",
    "import warnings\n",
    "warnings.filterwarnings(\"ignore\")"
   ]
  },
  {
   "cell_type": "markdown",
   "id": "79b5ef00",
   "metadata": {},
   "source": [
    "## Classes"
   ]
  },
  {
   "cell_type": "markdown",
   "id": "ea872694",
   "metadata": {},
   "source": [
    "### Problem"
   ]
  },
  {
   "cell_type": "code",
   "execution_count": 2,
   "id": "6893fecd",
   "metadata": {},
   "outputs": [],
   "source": [
    "class Problem(object):\n",
    "\n",
    "    \"\"\"The abstract class for a formal problem. You should subclass\n",
    "    this and implement the methods actions and result, and possibly\n",
    "    __init__, goal_test, and path_cost. Then you will create instances\n",
    "    of your subclass and solve them with the various search functions.\"\"\"\n",
    "\n",
    "    def __init__(self, initial, goal=None):\n",
    "        \"\"\"The constructor specifies the initial state, and possibly a goal\n",
    "        state, if there is a unique goal. Your subclass's constructor can add\n",
    "        other arguments.\"\"\"\n",
    "        self.initial = initial\n",
    "        self.goal = goal\n",
    "\n",
    "    def actions(self, state):\n",
    "        \"\"\"Return the actions that can be executed in the given\n",
    "        state. The result would typically be a list, but if there are\n",
    "        many actions, consider yielding them one at a time in an\n",
    "        iterator, rather than building them all at once.\"\"\"\n",
    "        raise NotImplementedError\n",
    "\n",
    "    def result(self, state, action):\n",
    "        \"\"\"Return the state that results from executing the given\n",
    "        action in the given state. The action must be one of\n",
    "        self.actions(state).\"\"\"\n",
    "        raise NotImplementedError\n",
    "\n",
    "    def goal_test(self, state):\n",
    "        \"\"\"Return True if the state is a goal. The default method compares the\n",
    "        state to self.goal or checks for state in self.goal if it is a\n",
    "        list, as specified in the constructor. Override this method if\n",
    "        checking against a single self.goal is not enough.\"\"\"\n",
    "        if isinstance(self.goal, list):\n",
    "            return is_in(state, self.goal)\n",
    "        else:\n",
    "            return state == self.goal\n",
    "\n",
    "    def path_cost(self, c, state1, action, state2):\n",
    "        \"\"\"Return the cost of a solution path that arrives at state2 from\n",
    "        state1 via action, assuming cost c to get up to state1. If the problem\n",
    "        is such that the path doesn't matter, this function will only look at\n",
    "        state2.  If the path does matter, it will consider c and maybe state1\n",
    "        and action. The default method costs 1 for every step in the path.\"\"\"\n",
    "        return c + 1\n",
    "\n",
    "    def value(self, state):\n",
    "        \"\"\"For optimization problems, each state has a value.  Hill-climbing\n",
    "        and related algorithms try to maximize this value.\"\"\"\n",
    "        raise NotImplementedError"
   ]
  },
  {
   "cell_type": "markdown",
   "id": "ca985ef7",
   "metadata": {},
   "source": [
    "### Node"
   ]
  },
  {
   "cell_type": "code",
   "execution_count": 3,
   "id": "20b304c6",
   "metadata": {},
   "outputs": [],
   "source": [
    "class Node:\n",
    "\n",
    "    \"\"\"A node in a search tree. Contains a pointer to the parent (the node\n",
    "    that this is a successor of) and to the actual state for this node. Note\n",
    "    that if a state is arrived at by two paths, then there are two nodes with\n",
    "    the same state.  Also includes the action that got us to this state, and\n",
    "    the total path_cost (also known as g) to reach the node.  Other functions\n",
    "    may add an f and h value; see best_first_graph_search and astar_search for\n",
    "    an explanation of how the f and h values are handled. You will not need to\n",
    "    subclass this class.\"\"\"\n",
    "\n",
    "    def __init__(self, state, parent=None, action=None, path_cost=0):\n",
    "        \"\"\"Create a search tree Node, derived from a parent by an action.\"\"\"\n",
    "        self.state = state\n",
    "        self.parent = parent\n",
    "        self.action = action\n",
    "        self.path_cost = path_cost\n",
    "        self.depth = 0\n",
    "        if parent:\n",
    "            self.depth = parent.depth + 1\n",
    "\n",
    "    def __repr__(self):\n",
    "        return \"<Node {}>\".format(self.state)\n",
    "\n",
    "    def __lt__(self, node):\n",
    "        return self.state < node.state\n",
    "\n",
    "    def expand(self, problem):\n",
    "        \"\"\"List the nodes reachable in one step from this node.\"\"\"\n",
    "        return [self.child_node(problem, action)\n",
    "                for action in problem.actions(self.state)]\n",
    "\n",
    "    def child_node(self, problem, action):\n",
    "        \"\"\"[Figure 3.10]\"\"\"\n",
    "        next_state = problem.result(self.state, action)\n",
    "        next_node = Node(next_state, self, action,\n",
    "                    problem.path_cost(self.path_cost, self.state,\n",
    "                                      action, next_state))\n",
    "        return next_node\n",
    "    \n",
    "    def solution(self):\n",
    "        \"\"\"Return the sequence of actions to go from the root to this node.\"\"\"\n",
    "        return [node.action for node in self.path()[1:]]\n",
    "\n",
    "    def path(self):\n",
    "        \"\"\"Return a list of nodes forming the path from the root to this node.\"\"\"\n",
    "        node, path_back = self, []\n",
    "        while node:\n",
    "            path_back.append(node)\n",
    "            node = node.parent\n",
    "        return list(reversed(path_back))\n",
    "\n",
    "    # We want for a queue of nodes in breadth_first_graph_search or\n",
    "    # astar_search to have no duplicated states, so we treat nodes\n",
    "    # with the same state as equal. [Problem: this may not be what you\n",
    "    # want in other contexts.]\n",
    "\n",
    "    def __eq__(self, other):\n",
    "        return isinstance(other, Node) and self.state == other.state\n",
    "\n",
    "    def __hash__(self):\n",
    "        return hash(self.state)"
   ]
  },
  {
   "cell_type": "markdown",
   "id": "0eee5905",
   "metadata": {},
   "source": [
    "### Injection"
   ]
  },
  {
   "cell_type": "code",
   "execution_count": 4,
   "id": "aad8dc4d",
   "metadata": {},
   "outputs": [],
   "source": [
    "class injection:\n",
    "    \"\"\"Dependency injection of temporary values for global functions/classes/etc.\n",
    "    E.g., `with injection(DataBase=MockDataBase): ...`\"\"\"\n",
    "\n",
    "    def __init__(self, **kwds):\n",
    "        self.new = kwds\n",
    "\n",
    "    def __enter__(self):\n",
    "        self.old = {v: globals()[v] for v in self.new}\n",
    "        globals().update(self.new)\n",
    "\n",
    "    def __exit__(self, type, value, traceback):\n",
    "        globals().update(self.old)\n",
    "\n",
    "\n",
    "def memoize(fn, slot=None, maxsize=32):\n",
    "    \"\"\"Memoize fn: make it remember the computed value for any argument list.\n",
    "    If slot is specified, store result in that slot of first argument.\n",
    "    If slot is false, use lru_cache for caching the values.\"\"\"\n",
    "    if slot:\n",
    "        def memoized_fn(obj, *args):\n",
    "            if hasattr(obj, slot):\n",
    "                return getattr(obj, slot)\n",
    "            else:\n",
    "                val = fn(obj, *args)\n",
    "                setattr(obj, slot, val)\n",
    "                return val\n",
    "    else:\n",
    "        @functools.lru_cache(maxsize=maxsize)\n",
    "        def memoized_fn(*args):\n",
    "            return fn(*args)\n",
    "\n",
    "    return memoized_fn\n",
    "\n",
    "\n",
    "def name(obj):\n",
    "    \"\"\"Try to find some reasonable name for the object.\"\"\"\n",
    "    return (getattr(obj, 'name', 0) or getattr(obj, '__name__', 0) or\n",
    "            getattr(getattr(obj, '__class__', 0), '__name__', 0) or\n",
    "            str(obj))\n",
    "\n",
    "\n",
    "def isnumber(x):\n",
    "    \"\"\"Is x a number?\"\"\"\n",
    "    return hasattr(x, '__int__')\n",
    "\n",
    "\n",
    "def issequence(x):\n",
    "    \"\"\"Is x a sequence?\"\"\"\n",
    "    return isinstance(x, collections.abc.Sequence)\n",
    "\n",
    "\n",
    "def print_table(table, header=None, sep='   ', numfmt='{}'):\n",
    "    \"\"\"Print a list of lists as a table, so that columns line up nicely.\n",
    "    header, if specified, will be printed as the first row.\n",
    "    numfmt is the format for all numbers; you might want e.g. '{:.2f}'.\n",
    "    (If you want different formats in different columns,\n",
    "    don't use print_table.) sep is the separator between columns.\"\"\"\n",
    "    justs = ['rjust' if isnumber(x) else 'ljust' for x in table[0]]\n",
    "\n",
    "    if header:\n",
    "        table.insert(0, header)\n",
    "\n",
    "    table = [[numfmt.format(x) if isnumber(x) else x for x in row]\n",
    "             for row in table]\n",
    "\n",
    "    sizes = list(map(lambda seq: max(map(len, seq)), list(zip(*[map(str, row) for row in table]))))\n",
    "\n",
    "    for row in table:\n",
    "        print(sep.join(getattr(str(x), j)(size) for (j, size, x) in zip(justs, sizes, row)))\n",
    "\n",
    "\n",
    "def open_data(name, mode='r'):\n",
    "    aima_root = os.path.dirname(__file__)\n",
    "    aima_file = os.path.join(aima_root, *['aima-data', name])\n",
    "\n",
    "    return open(aima_file, mode=mode)\n",
    "\n",
    "\n",
    "def failure_test(algorithm, tests):\n",
    "    \"\"\"Grades the given algorithm based on how many tests it passes.\n",
    "    Most algorithms have arbitrary output on correct execution, which is difficult\n",
    "    to check for correctness. On the other hand, a lot of algorithms output something\n",
    "    particular on fail (for example, False, or None).\n",
    "    tests is a list with each element in the form: (values, failure_output).\"\"\"\n",
    "    return mean(int(algorithm(x) != y) for x, y in tests)\n"
   ]
  },
  {
   "cell_type": "markdown",
   "id": "74c08b45",
   "metadata": {},
   "source": [
    "### Priority Queue"
   ]
  },
  {
   "cell_type": "code",
   "execution_count": 5,
   "id": "994e2ae2",
   "metadata": {},
   "outputs": [],
   "source": [
    "class PriorityQueue:\n",
    "    \"\"\"A Queue in which the minimum (or maximum) element (as determined by f and\n",
    "    order) is returned first.\n",
    "    If order is 'min', the item with minimum f(x) is\n",
    "    returned first; if order is 'max', then it is the item with maximum f(x).\n",
    "    Also supports dict-like lookup.\"\"\"\n",
    "\n",
    "    def __init__(self, order='min', f=lambda x: x):\n",
    "        self.heap = []\n",
    "        if order == 'min':\n",
    "            self.f = f\n",
    "        elif order == 'max':  # now item with max f(x)\n",
    "            self.f = lambda x: -f(x)  # will be popped first\n",
    "        else:\n",
    "            raise ValueError(\"Order must be either 'min' or 'max'.\")\n",
    "\n",
    "    def append(self, item):\n",
    "        \"\"\"Insert item at its correct position.\"\"\"\n",
    "        heapq.heappush(self.heap, (self.f(item), item))\n",
    "\n",
    "    def extend(self, items):\n",
    "        \"\"\"Insert each item in items at its correct position.\"\"\"\n",
    "        for item in items:\n",
    "            self.append(item)\n",
    "\n",
    "    def pop(self):\n",
    "        \"\"\"Pop and return the item (with min or max f(x) value)\n",
    "        depending on the order.\"\"\"\n",
    "        if self.heap:\n",
    "            return heapq.heappop(self.heap)[1]\n",
    "        else:\n",
    "            raise Exception('Trying to pop from empty PriorityQueue.')\n",
    "\n",
    "    def __len__(self):\n",
    "        \"\"\"Return current capacity of PriorityQueue.\"\"\"\n",
    "        return len(self.heap)\n",
    "\n",
    "    def __contains__(self, key):\n",
    "        \"\"\"Return True if the key is in PriorityQueue.\"\"\"\n",
    "        return any([item == key for _, item in self.heap])\n",
    "\n",
    "    def __getitem__(self, key):\n",
    "        \"\"\"Returns the first value associated with key in PriorityQueue.\n",
    "        Raises KeyError if key is not present.\"\"\"\n",
    "        for value, item in self.heap:\n",
    "            if item == key:\n",
    "                return value\n",
    "        raise KeyError(str(key) + \" is not in the priority queue\")\n",
    "\n",
    "    def __delitem__(self, key):\n",
    "        \"\"\"Delete the first occurrence of key.\"\"\"\n",
    "        try:\n",
    "            del self.heap[[item == key for _, item in self.heap].index(True)]\n",
    "        except ValueError:\n",
    "            raise KeyError(str(key) + \" is not in the priority queue\")\n",
    "        heapq.heapify(self.heap)"
   ]
  },
  {
   "cell_type": "markdown",
   "id": "2327bf4c",
   "metadata": {},
   "source": [
    "### EightPuzzle"
   ]
  },
  {
   "cell_type": "code",
   "execution_count": 6,
   "id": "814a623d",
   "metadata": {},
   "outputs": [],
   "source": [
    "class EightPuzzle(Problem):\n",
    "    \"\"\" The problem of sliding tiles numbered from 1 to 8 on a 3x3 board, where one of the\n",
    "    squares is a blank. A state is represented as a tuple of length 9, where  element at\n",
    "    index i represents the tile number  at index i (0 if it's an empty square) \"\"\"\n",
    "\n",
    "    def __init__(self, initial, goal=(1, 2, 3, 4, 5, 6, 7, 8, 0)):\n",
    "        \"\"\" Define goal state and initialize a problem \"\"\"\n",
    "        super().__init__(initial, goal)\n",
    "\n",
    "    def find_blank_square(self, state):\n",
    "        \"\"\"Return the index of the blank square in a given state\"\"\"\n",
    "\n",
    "        return state.index(0)\n",
    "\n",
    "    def actions(self, state):\n",
    "        \"\"\" Return the actions that can be executed in the given state.\n",
    "        The result would be a list, since there are only four possible actions\n",
    "        in any given state of the environment \"\"\"\n",
    "\n",
    "        possible_actions = ['UP', 'DOWN', 'LEFT', 'RIGHT']\n",
    "        index_blank_square = self.find_blank_square(state)\n",
    "\n",
    "        if index_blank_square % 3 == 0:\n",
    "            possible_actions.remove('LEFT')\n",
    "        if index_blank_square < 3:\n",
    "            possible_actions.remove('UP')\n",
    "        if index_blank_square % 3 == 2:\n",
    "            possible_actions.remove('RIGHT')\n",
    "        if index_blank_square > 5:\n",
    "            possible_actions.remove('DOWN')\n",
    "\n",
    "        return possible_actions\n",
    "\n",
    "    def result(self, state, action):\n",
    "        \"\"\" Given state and action, return a new state that is the result of the action.\n",
    "        Action is assumed to be a valid action in the state \"\"\"\n",
    "\n",
    "        # blank is the index of the blank square\n",
    "        blank = self.find_blank_square(state)\n",
    "        new_state = list(state)\n",
    "\n",
    "        delta = {'UP': -3, 'DOWN': 3, 'LEFT': -1, 'RIGHT': 1}\n",
    "        neighbor = blank + delta[action]\n",
    "        new_state[blank], new_state[neighbor] = new_state[neighbor], new_state[blank]\n",
    "\n",
    "        return tuple(new_state)\n",
    "\n",
    "    def goal_test(self, state):\n",
    "        \"\"\" Given a state, return True if state is a goal state or False, otherwise \"\"\"\n",
    "\n",
    "        return state == self.goal\n",
    "\n",
    "    def check_solvability(self, state):\n",
    "        \"\"\" Checks if the given state is solvable \"\"\"\n",
    "\n",
    "        inversion = 0\n",
    "        for i in range(len(state)):\n",
    "            for j in range(i + 1, len(state)):\n",
    "                if (state[i] > state[j]) and state[i] != 0 and state[j] != 0:\n",
    "                    inversion += 1\n",
    "\n",
    "        return inversion % 2 == 0\n",
    "\n",
    "    def h(self, node):\n",
    "        \"\"\" Return the heuristic value for a given state. Default heuristic function used is \n",
    "        h(n) = number of misplaced tiles \"\"\"\n",
    "\n",
    "        return sum(s != g for (s, g) in zip(node.state, self.goal))"
   ]
  },
  {
   "cell_type": "code",
   "execution_count": 43,
   "id": "53f5e855",
   "metadata": {},
   "outputs": [],
   "source": [
    "# Heuristics for 8 Puzzle Problem\n",
    "import math\n",
    "\n",
    "def linear(node):\n",
    "    goal = puzzle.goal\n",
    "    return sum([1 if node.state[i] != goal[i] else 0 for i in range(8)])\n",
    "\n",
    "def manhattan(node):\n",
    "    state = node.state\n",
    "    index_goal = {0:[2,2], 1:[0,0], 2:[0,1], 3:[0,2], 4:[1,0], 5:[1,1], 6:[1,2], 7:[2,0], 8:[2,1]}\n",
    "    index_state = {}\n",
    "    index = [[0,0], [0,1], [0,2], [1,0], [1,1], [1,2], [2,0], [2,1], [2,2]]\n",
    "    x, y = 0, 0\n",
    "    \n",
    "    for i in range(len(state)):\n",
    "        index_state[state[i]] = index[i]\n",
    "    \n",
    "    mhd = 0\n",
    "    \n",
    "    for i in range(8):\n",
    "        for j in range(2):\n",
    "            mhd = abs(index_goal[i][j] - index_state[i][j]) + mhd\n",
    "    \n",
    "    return mhd\n",
    "\n",
    "def sqrt_manhattan(node):\n",
    "    state = node.state\n",
    "    index_goal = {0:[2,2], 1:[0,0], 2:[0,1], 3:[0,2], 4:[1,0], 5:[1,1], 6:[1,2], 7:[2,0], 8:[2,1]}\n",
    "    index_state = {}\n",
    "    index = [[0,0], [0,1], [0,2], [1,0], [1,1], [1,2], [2,0], [2,1], [2,2]]\n",
    "    x, y = 0, 0\n",
    "    \n",
    "    for i in range(len(state)):\n",
    "        index_state[state[i]] = index[i]\n",
    "    \n",
    "    mhd = 0\n",
    "    \n",
    "    for i in range(8):\n",
    "        for j in range(2):\n",
    "            mhd = (index_goal[i][j] - index_state[i][j])**2 + mhd\n",
    "    \n",
    "    return math.sqrt(mhd)\n",
    "\n",
    "def max_heuristic(node):\n",
    "    score1 = manhattan(node)\n",
    "    score2 = linear(node)\n",
    "    return max(score1, score2)"
   ]
  },
  {
   "cell_type": "markdown",
   "id": "878ac67b",
   "metadata": {},
   "source": [
    "## Functions"
   ]
  },
  {
   "cell_type": "code",
   "execution_count": 8,
   "id": "626bc7d4",
   "metadata": {},
   "outputs": [],
   "source": [
    "def breadth_first_tree_search(problem):\n",
    "    \"\"\"\n",
    "    [Figure 3.7]\n",
    "    Search the shallowest nodes in the search tree first.\n",
    "    Search through the successors of a problem to find a goal.\n",
    "    The argument frontier should be an empty queue.\n",
    "    Repeats infinitely in case of loops.\n",
    "    \"\"\"\n",
    "\n",
    "    frontier = deque([Node(problem.initial)])  # FIFO queue\n",
    "\n",
    "    while frontier:\n",
    "        node = frontier.popleft()\n",
    "        if problem.goal_test(node.state):\n",
    "            return node\n",
    "        frontier.extend(node.expand(problem))\n",
    "    return None\n",
    "\n",
    "\n",
    "def depth_first_tree_search(problem):\n",
    "    \"\"\"\n",
    "    [Figure 3.7]\n",
    "    Search the deepest nodes in the search tree first.\n",
    "    Search through the successors of a problem to find a goal.\n",
    "    The argument frontier should be an empty queue.\n",
    "    Repeats infinitely in case of loops.\n",
    "    \"\"\"\n",
    "\n",
    "    frontier = [Node(problem.initial)]  # Stack\n",
    "\n",
    "    while frontier:\n",
    "        node = frontier.pop()\n",
    "        if problem.goal_test(node.state):\n",
    "            return node\n",
    "        frontier.extend(node.expand(problem))\n",
    "    return None\n",
    "\n",
    "\n",
    "def depth_first_graph_search(problem):\n",
    "    \"\"\"\n",
    "    [Figure 3.7]\n",
    "    Search the deepest nodes in the search tree first.\n",
    "    Search through the successors of a problem to find a goal.\n",
    "    The argument frontier should be an empty queue.\n",
    "    Does not get trapped by loops.\n",
    "    If two paths reach a state, only use the first one.\n",
    "    \"\"\"\n",
    "    frontier = [(Node(problem.initial))]  # Stack\n",
    "\n",
    "    explored = set()\n",
    "    while frontier:\n",
    "        node = frontier.pop()\n",
    "        if problem.goal_test(node.state):\n",
    "            return node\n",
    "        explored.add(node.state)\n",
    "        frontier.extend(child for child in node.expand(problem)\n",
    "                        if child.state not in explored and child not in frontier)\n",
    "    return None\n",
    "\n",
    "\n",
    "def breadth_first_graph_search(problem):\n",
    "    \"\"\"[Figure 3.11]\n",
    "    Note that this function can be implemented in a\n",
    "    single line as below:\n",
    "    return graph_search(problem, FIFOQueue())\n",
    "    \"\"\"\n",
    "    node = Node(problem.initial)\n",
    "    if problem.goal_test(node.state):\n",
    "        return node\n",
    "    frontier = deque([node])\n",
    "    explored = set()\n",
    "    while frontier:\n",
    "        node = frontier.popleft()\n",
    "        explored.add(node.state)\n",
    "        for child in node.expand(problem):\n",
    "            if child.state not in explored and child not in frontier:\n",
    "                if problem.goal_test(child.state):\n",
    "                    return child\n",
    "                frontier.append(child)\n",
    "    return None\n",
    "\n",
    "\n",
    "def best_first_graph_search(problem, f, display=False):\n",
    "    \"\"\"Search the nodes with the lowest f scores first.\n",
    "    You specify the function f(node) that you want to minimize; for example,\n",
    "    if f is a heuristic estimate to the goal, then we have greedy best\n",
    "    first search; if f is node.depth then we have breadth-first search.\n",
    "    There is a subtlety: the line \"f = memoize(f, 'f')\" means that the f\n",
    "    values will be cached on the nodes as they are computed. So after doing\n",
    "    a best first search you can examine the f values of the path returned.\"\"\"\n",
    "    f = memoize(f, 'f')\n",
    "    node = Node(problem.initial)\n",
    "    frontier = PriorityQueue('min', f)\n",
    "    frontier.append(node)\n",
    "    explored = set()\n",
    "    while frontier:\n",
    "        node = frontier.pop()\n",
    "        if problem.goal_test(node.state):\n",
    "            if display:\n",
    "                print(len(explored), \"paths have been expanded and\", len(frontier), \"paths remain in the frontier\")\n",
    "            return node\n",
    "        explored.add(node.state)\n",
    "        for child in node.expand(problem):\n",
    "            if child.state not in explored and child not in frontier:\n",
    "                frontier.append(child)\n",
    "            elif child in frontier:\n",
    "                if f(child) < frontier[child]:\n",
    "                    del frontier[child]\n",
    "                    frontier.append(child)\n",
    "    return None\n",
    "\n",
    "\n",
    "def uniform_cost_search(problem, display=False):\n",
    "    \"\"\"[Figure 3.14]\"\"\"\n",
    "    return best_first_graph_search(problem, lambda node: node.path_cost, display)\n",
    "\n",
    "\n",
    "def depth_limited_search(problem, limit=50):\n",
    "    \"\"\"[Figure 3.17]\"\"\"\n",
    "\n",
    "    def recursive_dls(node, problem, limit):\n",
    "        if problem.goal_test(node.state):\n",
    "            return node\n",
    "        elif limit == 0:\n",
    "            return 'cutoff'\n",
    "        else:\n",
    "            cutoff_occurred = False\n",
    "            for child in node.expand(problem):\n",
    "                result = recursive_dls(child, problem, limit - 1)\n",
    "                if result == 'cutoff':\n",
    "                    cutoff_occurred = True\n",
    "                elif result is not None:\n",
    "                    return result\n",
    "            return 'cutoff' if cutoff_occurred else None\n",
    "\n",
    "    # Body of depth_limited_search:\n",
    "    return recursive_dls(Node(problem.initial), problem, limit)\n",
    "\n",
    "\n",
    "def iterative_deepening_search(problem):\n",
    "    \"\"\"[Figure 3.18]\"\"\"\n",
    "    for depth in range(sys.maxsize):\n",
    "        result = depth_limited_search(problem, depth)\n",
    "        if result != 'cutoff':\n",
    "            return result\n",
    "        \n",
    "def astar_search(problem, h=None, display=False):\n",
    "    \"\"\"A* search is best-first graph search with f(n) = g(n)+h(n).\n",
    "    You need to specify the h function when you call astar_search, or\n",
    "    else in your Problem subclass.\"\"\"\n",
    "    h = memoize(h or problem.h, 'h')\n",
    "    return best_first_graph_search(problem, lambda n: n.path_cost + h(n), display)        "
   ]
  },
  {
   "cell_type": "markdown",
   "id": "15542214",
   "metadata": {},
   "source": [
    "## Data Samples"
   ]
  },
  {
   "cell_type": "code",
   "execution_count": 31,
   "id": "2d71b181",
   "metadata": {},
   "outputs": [
    {
     "name": "stdout",
     "output_type": "stream",
     "text": [
      "3 5 2\n",
      "6 1 7\n",
      "_ 8 4\n",
      "\n",
      "(3, 5, 2, 6, 1, 7, 0, 8, 4)\n"
     ]
    }
   ],
   "source": [
    "file_path = \"../Part2/S1.txt\"\n",
    "\n",
    "puzzle_s1_raw = open(file_path, 'r').read()\n",
    "print(puzzle_s1_raw)\n",
    "\n",
    "puzzle_s1 = puzzle_s1_raw.split()\n",
    "puzzle_s1 = tuple(int(x if x != '_' else '0') for x in puzzle_s1_arr)\n",
    "print(puzzle_s1)\n",
    "\n"
   ]
  },
  {
   "cell_type": "code",
   "execution_count": 33,
   "id": "cd5c37b9",
   "metadata": {},
   "outputs": [
    {
     "data": {
      "text/plain": [
       "True"
      ]
     },
     "execution_count": 33,
     "metadata": {},
     "output_type": "execute_result"
    }
   ],
   "source": [
    "# Solving the puzzle \n",
    "puzzle = EightPuzzle(puzzle_s1)\n",
    "puzzle.check_solvability(puzzle_s1) # checks whether the initialized configuration is solvable or not"
   ]
  },
  {
   "cell_type": "code",
   "execution_count": 36,
   "id": "a1a66267",
   "metadata": {},
   "outputs": [
    {
     "data": {
      "text/plain": [
       "['UP',\n",
       " 'UP',\n",
       " 'RIGHT',\n",
       " 'DOWN',\n",
       " 'DOWN',\n",
       " 'RIGHT',\n",
       " 'UP',\n",
       " 'LEFT',\n",
       " 'LEFT',\n",
       " 'DOWN',\n",
       " 'RIGHT',\n",
       " 'RIGHT',\n",
       " 'UP',\n",
       " 'LEFT',\n",
       " 'LEFT',\n",
       " 'UP',\n",
       " 'RIGHT',\n",
       " 'RIGHT',\n",
       " 'DOWN',\n",
       " 'LEFT',\n",
       " 'LEFT',\n",
       " 'DOWN',\n",
       " 'RIGHT',\n",
       " 'RIGHT']"
      ]
     },
     "execution_count": 36,
     "metadata": {},
     "output_type": "execute_result"
    }
   ],
   "source": [
    "astar_search(puzzle).solution()"
   ]
  },
  {
   "cell_type": "code",
   "execution_count": 37,
   "id": "7b0286cf",
   "metadata": {},
   "outputs": [
    {
     "ename": "KeyboardInterrupt",
     "evalue": "",
     "output_type": "error",
     "traceback": [
      "\u001b[0;31m---------------------------------------------------------------------------\u001b[0m",
      "\u001b[0;31mKeyboardInterrupt\u001b[0m                         Traceback (most recent call last)",
      "Cell \u001b[0;32mIn[37], line 1\u001b[0m\n\u001b[0;32m----> 1\u001b[0m \u001b[43mbreadth_first_graph_search\u001b[49m\u001b[43m(\u001b[49m\u001b[43mpuzzle\u001b[49m\u001b[43m)\u001b[49m\u001b[38;5;241m.\u001b[39msolution()\n",
      "Cell \u001b[0;32mIn[8], line 76\u001b[0m, in \u001b[0;36mbreadth_first_graph_search\u001b[0;34m(problem)\u001b[0m\n\u001b[1;32m     74\u001b[0m explored\u001b[38;5;241m.\u001b[39madd(node\u001b[38;5;241m.\u001b[39mstate)\n\u001b[1;32m     75\u001b[0m \u001b[38;5;28;01mfor\u001b[39;00m child \u001b[38;5;129;01min\u001b[39;00m node\u001b[38;5;241m.\u001b[39mexpand(problem):\n\u001b[0;32m---> 76\u001b[0m     \u001b[38;5;28;01mif\u001b[39;00m child\u001b[38;5;241m.\u001b[39mstate \u001b[38;5;129;01mnot\u001b[39;00m \u001b[38;5;129;01min\u001b[39;00m explored \u001b[38;5;129;01mand\u001b[39;00m \u001b[43mchild\u001b[49m\u001b[43m \u001b[49m\u001b[38;5;129;43;01mnot\u001b[39;49;00m\u001b[43m \u001b[49m\u001b[38;5;129;43;01min\u001b[39;49;00m\u001b[43m \u001b[49m\u001b[43mfrontier\u001b[49m:\n\u001b[1;32m     77\u001b[0m         \u001b[38;5;28;01mif\u001b[39;00m problem\u001b[38;5;241m.\u001b[39mgoal_test(child\u001b[38;5;241m.\u001b[39mstate):\n\u001b[1;32m     78\u001b[0m             \u001b[38;5;28;01mreturn\u001b[39;00m child\n",
      "Cell \u001b[0;32mIn[3], line 58\u001b[0m, in \u001b[0;36mNode.__eq__\u001b[0;34m(self, other)\u001b[0m\n\u001b[1;32m     51\u001b[0m     \u001b[38;5;28;01mreturn\u001b[39;00m \u001b[38;5;28mlist\u001b[39m(\u001b[38;5;28mreversed\u001b[39m(path_back))\n\u001b[1;32m     53\u001b[0m \u001b[38;5;66;03m# We want for a queue of nodes in breadth_first_graph_search or\u001b[39;00m\n\u001b[1;32m     54\u001b[0m \u001b[38;5;66;03m# astar_search to have no duplicated states, so we treat nodes\u001b[39;00m\n\u001b[1;32m     55\u001b[0m \u001b[38;5;66;03m# with the same state as equal. [Problem: this may not be what you\u001b[39;00m\n\u001b[1;32m     56\u001b[0m \u001b[38;5;66;03m# want in other contexts.]\u001b[39;00m\n\u001b[0;32m---> 58\u001b[0m \u001b[38;5;28;01mdef\u001b[39;00m \u001b[38;5;21m__eq__\u001b[39m(\u001b[38;5;28mself\u001b[39m, other):\n\u001b[1;32m     59\u001b[0m     \u001b[38;5;28;01mreturn\u001b[39;00m \u001b[38;5;28misinstance\u001b[39m(other, Node) \u001b[38;5;129;01mand\u001b[39;00m \u001b[38;5;28mself\u001b[39m\u001b[38;5;241m.\u001b[39mstate \u001b[38;5;241m==\u001b[39m other\u001b[38;5;241m.\u001b[39mstate\n\u001b[1;32m     61\u001b[0m \u001b[38;5;28;01mdef\u001b[39;00m \u001b[38;5;21m__hash__\u001b[39m(\u001b[38;5;28mself\u001b[39m):\n",
      "\u001b[0;31mKeyboardInterrupt\u001b[0m: "
     ]
    }
   ],
   "source": [
    "breadth_first_graph_search(puzzle).solution()"
   ]
  },
  {
   "cell_type": "code",
   "execution_count": 39,
   "id": "85df3938",
   "metadata": {},
   "outputs": [
    {
     "data": {
      "text/plain": [
       "True"
      ]
     },
     "execution_count": 39,
     "metadata": {},
     "output_type": "execute_result"
    }
   ],
   "source": [
    "# Solving the puzzle \n",
    "puzzle = EightPuzzle((2, 4, 3, 1, 5, 6, 7, 8, 0))\n",
    "puzzle.check_solvability((2, 4, 3, 1, 5, 6, 7, 8, 0)) # checks whether the initialized configuration is solvable or not"
   ]
  },
  {
   "cell_type": "code",
   "execution_count": 41,
   "id": "17119eaf",
   "metadata": {},
   "outputs": [
    {
     "data": {
      "text/plain": [
       "(1, 2, 3, 4, 5, 6, 7, 8, 0)"
      ]
     },
     "execution_count": 41,
     "metadata": {},
     "output_type": "execute_result"
    }
   ],
   "source": [
    "puzzle.goal"
   ]
  },
  {
   "cell_type": "code",
   "execution_count": null,
   "id": "f22b3bdd",
   "metadata": {},
   "outputs": [],
   "source": [
    "# read files in\n",
    "with open(file_path, 'r') as file:\n",
    "    puzzle_s1_raw = file.read().split()\n",
    "    \n",
    "puzzle_s1 = tuple(int(x if x != '_' else '0') for x in puzzle_s1_raw)\n",
    "solution = algo(problem)"
   ]
  },
  {
   "cell_type": "code",
   "execution_count": 40,
   "id": "cee4c097",
   "metadata": {},
   "outputs": [
    {
     "data": {
      "text/plain": [
       "['UP', 'LEFT', 'UP', 'LEFT', 'DOWN', 'RIGHT', 'RIGHT', 'DOWN']"
      ]
     },
     "execution_count": 40,
     "metadata": {},
     "output_type": "execute_result"
    }
   ],
   "source": [
    "astar_search(puzzle).solution()"
   ]
  },
  {
   "cell_type": "code",
   "execution_count": 41,
   "id": "483f195a",
   "metadata": {},
   "outputs": [
    {
     "data": {
      "text/plain": [
       "['LEFT', 'UP', 'UP', 'LEFT', 'DOWN', 'RIGHT', 'DOWN', 'RIGHT']"
      ]
     },
     "execution_count": 41,
     "metadata": {},
     "output_type": "execute_result"
    }
   ],
   "source": [
    "astar_search(puzzle, manhattan).solution()"
   ]
  },
  {
   "cell_type": "code",
   "execution_count": 42,
   "id": "e91aebf3",
   "metadata": {},
   "outputs": [
    {
     "data": {
      "text/plain": [
       "['LEFT', 'UP', 'UP', 'LEFT', 'DOWN', 'RIGHT', 'DOWN', 'RIGHT']"
      ]
     },
     "execution_count": 42,
     "metadata": {},
     "output_type": "execute_result"
    }
   ],
   "source": [
    "astar_search(puzzle, sqrt_manhattan).solution()"
   ]
  },
  {
   "cell_type": "code",
   "execution_count": 43,
   "id": "81a59525",
   "metadata": {},
   "outputs": [
    {
     "data": {
      "text/plain": [
       "['UP', 'LEFT', 'UP', 'LEFT', 'DOWN', 'RIGHT', 'RIGHT', 'DOWN']"
      ]
     },
     "execution_count": 43,
     "metadata": {},
     "output_type": "execute_result"
    }
   ],
   "source": [
    "breadth_first_graph_search(puzzle).solution()"
   ]
  },
  {
   "cell_type": "code",
   "execution_count": 52,
   "id": "af562922",
   "metadata": {},
   "outputs": [
    {
     "data": {
      "text/plain": [
       "[<Node (2, 4, 3, 1, 5, 6, 7, 8, 0)>,\n",
       " <Node (2, 4, 3, 1, 5, 0, 7, 8, 6)>,\n",
       " <Node (2, 4, 3, 1, 0, 5, 7, 8, 6)>,\n",
       " <Node (2, 0, 3, 1, 4, 5, 7, 8, 6)>,\n",
       " <Node (0, 2, 3, 1, 4, 5, 7, 8, 6)>,\n",
       " <Node (1, 2, 3, 0, 4, 5, 7, 8, 6)>,\n",
       " <Node (1, 2, 3, 4, 0, 5, 7, 8, 6)>,\n",
       " <Node (1, 2, 3, 4, 5, 0, 7, 8, 6)>,\n",
       " <Node (1, 2, 3, 4, 5, 6, 7, 8, 0)>]"
      ]
     },
     "execution_count": 52,
     "metadata": {},
     "output_type": "execute_result"
    }
   ],
   "source": [
    "breadth_first_graph_search(puzzle).path()"
   ]
  },
  {
   "cell_type": "code",
   "execution_count": 57,
   "id": "8aaa2dc6",
   "metadata": {},
   "outputs": [
    {
     "name": "stdout",
     "output_type": "stream",
     "text": [
      "<class 'list'>\n"
     ]
    }
   ],
   "source": [
    "print(type(breadth_first_graph_search(puzzle).path()))"
   ]
  },
  {
   "cell_type": "code",
   "execution_count": 58,
   "id": "9c8ae3e6",
   "metadata": {},
   "outputs": [
    {
     "data": {
      "text/plain": [
       "9"
      ]
     },
     "execution_count": 58,
     "metadata": {},
     "output_type": "execute_result"
    }
   ],
   "source": [
    "len(breadth_first_graph_search(puzzle).path())"
   ]
  },
  {
   "cell_type": "code",
   "execution_count": 61,
   "id": "e03d1ba9",
   "metadata": {},
   "outputs": [
    {
     "data": {
      "text/plain": [
       "<Node (2, 4, 3, 1, 5, 6, 7, 8, 0)>"
      ]
     },
     "execution_count": 61,
     "metadata": {},
     "output_type": "execute_result"
    }
   ],
   "source": [
    "breadth_first_graph_search(puzzle).path()[0]"
   ]
  },
  {
   "cell_type": "code",
   "execution_count": 50,
   "id": "30cc9c35",
   "metadata": {},
   "outputs": [
    {
     "data": {
      "text/plain": [
       "[<Node (1, 2, 3, 4, 5, 0, 7, 8, 6)>, <Node (1, 2, 3, 4, 5, 6, 7, 0, 8)>]"
      ]
     },
     "execution_count": 50,
     "metadata": {},
     "output_type": "execute_result"
    }
   ],
   "source": [
    "breadth_first_graph_search(puzzle).expand(puzzle)"
   ]
  },
  {
   "cell_type": "code",
   "execution_count": 56,
   "id": "22505ddf",
   "metadata": {},
   "outputs": [
    {
     "name": "stdout",
     "output_type": "stream",
     "text": [
      "Elapsed time: 0.0024886730002435797 seconds\n"
     ]
    }
   ],
   "source": [
    "import time\n",
    "\n",
    "start_time = time.perf_counter()\n",
    "\n",
    "breadth_first_graph_search(puzzle).solution()\n",
    "\n",
    "end_time = time.perf_counter()\n",
    "elapsed_time = end_time - start_time\n",
    "\n",
    "print(f\"Elapsed time: {elapsed_time} seconds\")\n"
   ]
  },
  {
   "cell_type": "code",
   "execution_count": 9,
   "id": "6234d6fc",
   "metadata": {},
   "outputs": [],
   "source": [
    "def pluzzle_8_solver(file_path, algorithm):\n",
    "    \n",
    "    # reading file in\n",
    "    puzzle_s1_raw = open(file_path, 'r').read().split()\n",
    "    puzzle_s1 = tuple(int(x if x != '_' else '0') for x in puzzle_s1_raw)\n",
    "    \n",
    "    # fit data to the 8puzzle problem\n",
    "    puzzle = EightPuzzle(puzzle_s1)\n",
    "    \n",
    "    # check if puzzle is solvable\n",
    "    is_solvable = puzzle.check_solvability(puzzle_s1)\n",
    "    \n",
    "    if is_solvable == False:\n",
    "        print(\"Problem is not solvable.\")\n",
    "        \n",
    "    else:\n",
    "        \n",
    "        if algorithm == 'BFS':\n",
    "            \n",
    "            # start counting the time of the process\n",
    "            start_time = time.perf_counter()\n",
    "            \n",
    "            ## Initiate the process timing\n",
    "            # Count of nodes\n",
    "            tot_nodes = len(breadth_first_graph_search(puzzle).path())\n",
    "            \n",
    "            # Sequence of actions (solution)\n",
    "            seq_actions = breadth_first_graph_search(puzzle).solution()\n",
    "            \n",
    "            # Finish the process timing\n",
    "            end_time = time.perf_counter()\n",
    "            \n",
    "            # Compute the process total time taken\n",
    "            time_taken = end_time - start_time\n",
    "            \n",
    "        elif algorithm == 'IDS':\n",
    "            \n",
    "            # start counting the time of the process\n",
    "            start_time = time.perf_counter()\n",
    "            \n",
    "            ## Initiate the process timing\n",
    "            # Count of nodes\n",
    "            tot_nodes = len(iterative_deepening_search(puzzle).path())\n",
    "            \n",
    "            # Sequence of actions (solution)\n",
    "            seq_actions = iterative_deepening_search(puzzle).solution()\n",
    "            \n",
    "            # Finish the process timing\n",
    "            end_time = time.perf_counter()\n",
    "            \n",
    "            # Compute the process total time taken\n",
    "            time_taken = end_time - start_time\n",
    "            \n",
    "        elif algorithm == 'h1': \n",
    "            \n",
    "            # start counting the time of the process\n",
    "            start_time = time.perf_counter()\n",
    "            \n",
    "            ## Initiate the process timing\n",
    "            \n",
    "            # state path\n",
    "            path = astar_search(puzzle).path()\n",
    "            \n",
    "            # Count of nodes\n",
    "            tot_nodes = len(path)\n",
    "            \n",
    "            # Sequence of actions (solution)\n",
    "            seq_actions = astar_search(puzzle).solution()\n",
    "            \n",
    "            # Finish the process timing\n",
    "            end_time = time.perf_counter()\n",
    "            \n",
    "            # Compute the process total time taken\n",
    "            time_taken = end_time - start_time\n",
    "            \n",
    "        elif algorithm == 'h2':\n",
    "            return print(\"coming\")\n",
    "            \n",
    "        else:\n",
    "            return print(\"coming\")\n",
    "    \n",
    "    return tot_nodes, seq_actions, time_taken"
   ]
  },
  {
   "cell_type": "code",
   "execution_count": 10,
   "id": "d02d7176",
   "metadata": {},
   "outputs": [
    {
     "ename": "KeyboardInterrupt",
     "evalue": "",
     "output_type": "error",
     "traceback": [
      "\u001b[0;31m---------------------------------------------------------------------------\u001b[0m",
      "\u001b[0;31mKeyboardInterrupt\u001b[0m                         Traceback (most recent call last)",
      "Cell \u001b[0;32mIn[10], line 1\u001b[0m\n\u001b[0;32m----> 1\u001b[0m tot_nodes, seq_actions, time_taken \u001b[38;5;241m=\u001b[39m \u001b[43mpluzzle_8_solver\u001b[49m\u001b[43m(\u001b[49m\u001b[38;5;124;43m\"\u001b[39;49m\u001b[38;5;124;43m../Part2/S1.txt\u001b[39;49m\u001b[38;5;124;43m\"\u001b[39;49m\u001b[43m,\u001b[49m\u001b[43m \u001b[49m\u001b[38;5;124;43m\"\u001b[39;49m\u001b[38;5;124;43mh1\u001b[39;49m\u001b[38;5;124;43m\"\u001b[39;49m\u001b[43m)\u001b[49m\n\u001b[1;32m      3\u001b[0m \u001b[38;5;28mprint\u001b[39m(\u001b[38;5;124m\"\u001b[39m\u001b[38;5;124mtot_nodes\u001b[39m\u001b[38;5;124m\"\u001b[39m, tot_nodes)\n\u001b[1;32m      4\u001b[0m \u001b[38;5;28mprint\u001b[39m(\u001b[38;5;124m\"\u001b[39m\u001b[38;5;124mseq_actions\u001b[39m\u001b[38;5;124m\"\u001b[39m, seq_actions)\n",
      "Cell \u001b[0;32mIn[9], line 62\u001b[0m, in \u001b[0;36mpluzzle_8_solver\u001b[0;34m(file_path, algorithm)\u001b[0m\n\u001b[1;32m     57\u001b[0m start_time \u001b[38;5;241m=\u001b[39m time\u001b[38;5;241m.\u001b[39mperf_counter()\n\u001b[1;32m     59\u001b[0m \u001b[38;5;66;03m## Initiate the process timing\u001b[39;00m\n\u001b[1;32m     60\u001b[0m \n\u001b[1;32m     61\u001b[0m \u001b[38;5;66;03m# state path\u001b[39;00m\n\u001b[0;32m---> 62\u001b[0m path \u001b[38;5;241m=\u001b[39m \u001b[43mastar_search\u001b[49m\u001b[43m(\u001b[49m\u001b[43mpuzzle\u001b[49m\u001b[43m)\u001b[49m\u001b[38;5;241m.\u001b[39mpath()\n\u001b[1;32m     64\u001b[0m \u001b[38;5;66;03m# Count of nodes\u001b[39;00m\n\u001b[1;32m     65\u001b[0m tot_nodes \u001b[38;5;241m=\u001b[39m \u001b[38;5;28mlen\u001b[39m(path)\n",
      "Cell \u001b[0;32mIn[8], line 152\u001b[0m, in \u001b[0;36mastar_search\u001b[0;34m(problem, h, display)\u001b[0m\n\u001b[1;32m    148\u001b[0m \u001b[38;5;124;03m\"\"\"A* search is best-first graph search with f(n) = g(n)+h(n).\u001b[39;00m\n\u001b[1;32m    149\u001b[0m \u001b[38;5;124;03mYou need to specify the h function when you call astar_search, or\u001b[39;00m\n\u001b[1;32m    150\u001b[0m \u001b[38;5;124;03melse in your Problem subclass.\"\"\"\u001b[39;00m\n\u001b[1;32m    151\u001b[0m h \u001b[38;5;241m=\u001b[39m memoize(h \u001b[38;5;129;01mor\u001b[39;00m problem\u001b[38;5;241m.\u001b[39mh, \u001b[38;5;124m'\u001b[39m\u001b[38;5;124mh\u001b[39m\u001b[38;5;124m'\u001b[39m)\n\u001b[0;32m--> 152\u001b[0m \u001b[38;5;28;01mreturn\u001b[39;00m \u001b[43mbest_first_graph_search\u001b[49m\u001b[43m(\u001b[49m\u001b[43mproblem\u001b[49m\u001b[43m,\u001b[49m\u001b[43m \u001b[49m\u001b[38;5;28;43;01mlambda\u001b[39;49;00m\u001b[43m \u001b[49m\u001b[43mn\u001b[49m\u001b[43m:\u001b[49m\u001b[43m \u001b[49m\u001b[43mn\u001b[49m\u001b[38;5;241;43m.\u001b[39;49m\u001b[43mpath_cost\u001b[49m\u001b[43m \u001b[49m\u001b[38;5;241;43m+\u001b[39;49m\u001b[43m \u001b[49m\u001b[43mh\u001b[49m\u001b[43m(\u001b[49m\u001b[43mn\u001b[49m\u001b[43m)\u001b[49m\u001b[43m,\u001b[49m\u001b[43m \u001b[49m\u001b[43mdisplay\u001b[49m\u001b[43m)\u001b[49m\n",
      "Cell \u001b[0;32mIn[8], line 106\u001b[0m, in \u001b[0;36mbest_first_graph_search\u001b[0;34m(problem, f, display)\u001b[0m\n\u001b[1;32m    104\u001b[0m \u001b[38;5;28;01mif\u001b[39;00m child\u001b[38;5;241m.\u001b[39mstate \u001b[38;5;129;01mnot\u001b[39;00m \u001b[38;5;129;01min\u001b[39;00m explored \u001b[38;5;129;01mand\u001b[39;00m child \u001b[38;5;129;01mnot\u001b[39;00m \u001b[38;5;129;01min\u001b[39;00m frontier:\n\u001b[1;32m    105\u001b[0m     frontier\u001b[38;5;241m.\u001b[39mappend(child)\n\u001b[0;32m--> 106\u001b[0m \u001b[38;5;28;01melif\u001b[39;00m \u001b[43mchild\u001b[49m\u001b[43m \u001b[49m\u001b[38;5;129;43;01min\u001b[39;49;00m\u001b[43m \u001b[49m\u001b[43mfrontier\u001b[49m:\n\u001b[1;32m    107\u001b[0m     \u001b[38;5;28;01mif\u001b[39;00m f(child) \u001b[38;5;241m<\u001b[39m frontier[child]:\n\u001b[1;32m    108\u001b[0m         \u001b[38;5;28;01mdel\u001b[39;00m frontier[child]\n",
      "Cell \u001b[0;32mIn[5], line 40\u001b[0m, in \u001b[0;36mPriorityQueue.__contains__\u001b[0;34m(self, key)\u001b[0m\n\u001b[1;32m     38\u001b[0m \u001b[38;5;28;01mdef\u001b[39;00m \u001b[38;5;21m__contains__\u001b[39m(\u001b[38;5;28mself\u001b[39m, key):\n\u001b[1;32m     39\u001b[0m     \u001b[38;5;124;03m\"\"\"Return True if the key is in PriorityQueue.\"\"\"\u001b[39;00m\n\u001b[0;32m---> 40\u001b[0m     \u001b[38;5;28;01mreturn\u001b[39;00m \u001b[38;5;28many\u001b[39m([item \u001b[38;5;241m==\u001b[39m key \u001b[38;5;28;01mfor\u001b[39;00m _, item \u001b[38;5;129;01min\u001b[39;00m \u001b[38;5;28mself\u001b[39m\u001b[38;5;241m.\u001b[39mheap])\n",
      "Cell \u001b[0;32mIn[5], line 40\u001b[0m, in \u001b[0;36m<listcomp>\u001b[0;34m(.0)\u001b[0m\n\u001b[1;32m     38\u001b[0m \u001b[38;5;28;01mdef\u001b[39;00m \u001b[38;5;21m__contains__\u001b[39m(\u001b[38;5;28mself\u001b[39m, key):\n\u001b[1;32m     39\u001b[0m     \u001b[38;5;124;03m\"\"\"Return True if the key is in PriorityQueue.\"\"\"\u001b[39;00m\n\u001b[0;32m---> 40\u001b[0m     \u001b[38;5;28;01mreturn\u001b[39;00m \u001b[38;5;28many\u001b[39m([\u001b[43mitem\u001b[49m\u001b[43m \u001b[49m\u001b[38;5;241;43m==\u001b[39;49m\u001b[43m \u001b[49m\u001b[43mkey\u001b[49m \u001b[38;5;28;01mfor\u001b[39;00m _, item \u001b[38;5;129;01min\u001b[39;00m \u001b[38;5;28mself\u001b[39m\u001b[38;5;241m.\u001b[39mheap])\n",
      "Cell \u001b[0;32mIn[3], line 59\u001b[0m, in \u001b[0;36mNode.__eq__\u001b[0;34m(self, other)\u001b[0m\n\u001b[1;32m     58\u001b[0m \u001b[38;5;28;01mdef\u001b[39;00m \u001b[38;5;21m__eq__\u001b[39m(\u001b[38;5;28mself\u001b[39m, other):\n\u001b[0;32m---> 59\u001b[0m     \u001b[38;5;28;01mreturn\u001b[39;00m \u001b[38;5;28;43misinstance\u001b[39;49m\u001b[43m(\u001b[49m\u001b[43mother\u001b[49m\u001b[43m,\u001b[49m\u001b[43m \u001b[49m\u001b[43mNode\u001b[49m\u001b[43m)\u001b[49m \u001b[38;5;129;01mand\u001b[39;00m \u001b[38;5;28mself\u001b[39m\u001b[38;5;241m.\u001b[39mstate \u001b[38;5;241m==\u001b[39m other\u001b[38;5;241m.\u001b[39mstate\n",
      "\u001b[0;31mKeyboardInterrupt\u001b[0m: "
     ]
    }
   ],
   "source": [
    "tot_nodes, seq_actions, time_taken = pluzzle_8_solver(\"../Part2/S1.txt\", \"h1\")\n",
    "\n",
    "print(\"tot_nodes\", tot_nodes)\n",
    "print(\"seq_actions\", seq_actions)\n",
    "print(\"time_taken\", time_taken)"
   ]
  },
  {
   "cell_type": "code",
   "execution_count": 81,
   "id": "3e47849e",
   "metadata": {},
   "outputs": [],
   "source": [
    "def pluzzle_8_solver(file_path, algorithm):\n",
    "    \n",
    "    # reading file in\n",
    "    puzzle_s1_raw = open(file_path, 'r').read().split()\n",
    "    puzzle_s1 = tuple(int(x if x != '_' else '0') for x in puzzle_s1_raw)\n",
    "    \n",
    "    # fit data to the 8puzzle problem\n",
    "    puzzle = EightPuzzle(puzzle_s1)\n",
    "    \n",
    "    # check if puzzle is solvable\n",
    "    is_solvable = puzzle.check_solvability(puzzle_s1)\n",
    "    \n",
    "    def func_output(algo, problem):\n",
    "        # start counting the time of the process\n",
    "        start_time = time.perf_counter()\n",
    "\n",
    "        ## Initiate the process timing\n",
    "\n",
    "        # state path\n",
    "        path = algo(puzzle).path()\n",
    "\n",
    "        # Count of nodes\n",
    "        tot_nodes = len(path)\n",
    "\n",
    "        # Sequence of actions (solution)\n",
    "        seq_actions = algo(puzzle).solution()\n",
    "\n",
    "        # Finish the process timing\n",
    "        end_time = time.perf_counter()\n",
    "\n",
    "        # Compute the process total time taken\n",
    "        time_taken = end_time - start_time\n",
    "        \n",
    "        return tot_nodes, seq_actions, time_taken, path\n",
    "    \n",
    "    if is_solvable == False:\n",
    "        print(\"Problem is not solvable.\")\n",
    "        \n",
    "    else:\n",
    "        \n",
    "        if algorithm == 'BFS':\n",
    "            \n",
    "            # breadth_first_graph_search\n",
    "            tot_nodes, seq_actions, time_taken, path = func_output(breadth_first_graph_search, puzzle)\n",
    "            \n",
    "        elif algorithm == 'IDS':\n",
    "            \n",
    "            # iterative_deepening_search\n",
    "            tot_nodes, seq_actions, time_taken, path = func_output(iterative_deepening_search, puzzle)\n",
    "            \n",
    "        elif algorithm == 'h1': \n",
    "            \n",
    "            # astar_search 1\n",
    "            tot_nodes, seq_actions, time_taken, path = func_output(astar_search, puzzle)\n",
    "            \n",
    "        elif algorithm == 'h2':\n",
    "            \n",
    "            # astar_search 2\n",
    "            tot_nodes, seq_actions, time_taken, path = func_output(astar_search_2, puzzle)\n",
    "            \n",
    "        else:\n",
    "            \n",
    "            # astar_search 3\n",
    "            tot_nodes, seq_actions, time_taken, path = func_output(astar_search_1, puzzle)\n",
    "    \n",
    "    return tot_nodes, seq_actions, time_taken, path"
   ]
  },
  {
   "cell_type": "code",
   "execution_count": 80,
   "id": "6efc6723",
   "metadata": {},
   "outputs": [
    {
     "name": "stdout",
     "output_type": "stream",
     "text": [
      "tot_nodes 25\n",
      "seq_actions ['UP', 'UP', 'RIGHT', 'DOWN', 'DOWN', 'RIGHT', 'UP', 'LEFT', 'LEFT', 'DOWN', 'RIGHT', 'RIGHT', 'UP', 'LEFT', 'LEFT', 'UP', 'RIGHT', 'RIGHT', 'DOWN', 'LEFT', 'LEFT', 'DOWN', 'RIGHT', 'RIGHT']\n",
      "time_taken 66.53424678199917\n",
      "path [<Node (3, 5, 2, 6, 1, 7, 0, 8, 4)>, <Node (3, 5, 2, 0, 1, 7, 6, 8, 4)>, <Node (0, 5, 2, 3, 1, 7, 6, 8, 4)>, <Node (5, 0, 2, 3, 1, 7, 6, 8, 4)>, <Node (5, 1, 2, 3, 0, 7, 6, 8, 4)>, <Node (5, 1, 2, 3, 8, 7, 6, 0, 4)>, <Node (5, 1, 2, 3, 8, 7, 6, 4, 0)>, <Node (5, 1, 2, 3, 8, 0, 6, 4, 7)>, <Node (5, 1, 2, 3, 0, 8, 6, 4, 7)>, <Node (5, 1, 2, 0, 3, 8, 6, 4, 7)>, <Node (5, 1, 2, 6, 3, 8, 0, 4, 7)>, <Node (5, 1, 2, 6, 3, 8, 4, 0, 7)>, <Node (5, 1, 2, 6, 3, 8, 4, 7, 0)>, <Node (5, 1, 2, 6, 3, 0, 4, 7, 8)>, <Node (5, 1, 2, 6, 0, 3, 4, 7, 8)>, <Node (5, 1, 2, 0, 6, 3, 4, 7, 8)>, <Node (0, 1, 2, 5, 6, 3, 4, 7, 8)>, <Node (1, 0, 2, 5, 6, 3, 4, 7, 8)>, <Node (1, 2, 0, 5, 6, 3, 4, 7, 8)>, <Node (1, 2, 3, 5, 6, 0, 4, 7, 8)>, <Node (1, 2, 3, 5, 0, 6, 4, 7, 8)>, <Node (1, 2, 3, 0, 5, 6, 4, 7, 8)>, <Node (1, 2, 3, 4, 5, 6, 0, 7, 8)>, <Node (1, 2, 3, 4, 5, 6, 7, 0, 8)>, <Node (1, 2, 3, 4, 5, 6, 7, 8, 0)>]\n"
     ]
    }
   ],
   "source": [
    "tot_nodes, seq_actions, time_taken, path = pluzzle_8_solver(\"../Part2/S1.txt\", \"h1\")\n",
    "\n",
    "print(\"tot_nodes\", tot_nodes)\n",
    "print(\"seq_actions\", seq_actions)\n",
    "print(\"time_taken\", time_taken)\n",
    "print(\"path\", path)"
   ]
  },
  {
   "cell_type": "code",
   "execution_count": 28,
   "id": "13b25103",
   "metadata": {},
   "outputs": [],
   "source": [
    "import time\n",
    "\n",
    "def puzzle_8_solver(file_path, algorithm):\n",
    "    \n",
    "    # read files in\n",
    "    with open(file_path, 'r') as file:\n",
    "        puzzle_s1_raw = file.read().split()\n",
    "    puzzle_s1 = tuple(int(x if x != '_' else '0') for x in puzzle_s1_raw)\n",
    "    \n",
    "    # define function to get the required output\n",
    "    def func_output(algo, problem, heuristic=None):\n",
    "        \n",
    "        # start timing\n",
    "        start_time = time.perf_counter()\n",
    "        \n",
    "        # checking if heuristic argument was given\n",
    "        if heuristic:\n",
    "            solution = algo(problem, heuristic)\n",
    "        \n",
    "        # uniformed algo\n",
    "        else:\n",
    "            solution = algo(problem)\n",
    "        \n",
    "        # required output\n",
    "        seq_actions = solution.solution()\n",
    "        path = solution.path()\n",
    "        tot_nodes = len(path)\n",
    "        \n",
    "        # edn timing\n",
    "        end_time = time.perf_counter()\n",
    "        \n",
    "        # total time taken\n",
    "        time_taken = end_time - start_time\n",
    "        \n",
    "        return tot_nodes, seq_actions, time_taken, path\n",
    "    \n",
    "    # fit puzzle in\n",
    "    puzzle = EightPuzzle(puzzle_s1)\n",
    "    \n",
    "    # check for solvability\n",
    "    is_solvable = puzzle.check_solvability(puzzle_s1)\n",
    "    \n",
    "    if is_solvable == False:\n",
    "        print(\"Problem is not solvable.\")\n",
    "        return None \n",
    "    \n",
    "    # Dictionary to map algorithm names to their corresponding functions\n",
    "    algo_dict = {\n",
    "        'BFS': breadth_first_graph_search,\n",
    "        'IDS': iterative_deepening_search,\n",
    "        'h1': astar_search,\n",
    "        'h2': astar_search_2,\n",
    "        'h3': astar_search_3\n",
    "    }\n",
    "    \n",
    "    if algorithm in algo_dict:\n",
    "        return func_output(algo_dict[algorithm], puzzle)\n",
    "    else:\n",
    "        print(f\"Algorithm {algorithm} is not recognized. The available algorithms are: BFS, IDS, h1, h2, h3\")\n",
    "        return None\n"
   ]
  },
  {
   "cell_type": "code",
   "execution_count": 33,
   "id": "7e3f5f0c",
   "metadata": {},
   "outputs": [
    {
     "name": "stdout",
     "output_type": "stream",
     "text": [
      "tot_nodes 25\n",
      "seq_actions ['UP', 'UP', 'RIGHT', 'DOWN', 'DOWN', 'RIGHT', 'UP', 'LEFT', 'LEFT', 'DOWN', 'RIGHT', 'RIGHT', 'UP', 'LEFT', 'LEFT', 'UP', 'RIGHT', 'RIGHT', 'DOWN', 'LEFT', 'LEFT', 'DOWN', 'RIGHT', 'RIGHT']\n",
      "time_taken 35.480741405\n",
      "path [<Node (3, 5, 2, 6, 1, 7, 0, 8, 4)>, <Node (3, 5, 2, 0, 1, 7, 6, 8, 4)>, <Node (0, 5, 2, 3, 1, 7, 6, 8, 4)>, <Node (5, 0, 2, 3, 1, 7, 6, 8, 4)>, <Node (5, 1, 2, 3, 0, 7, 6, 8, 4)>, <Node (5, 1, 2, 3, 8, 7, 6, 0, 4)>, <Node (5, 1, 2, 3, 8, 7, 6, 4, 0)>, <Node (5, 1, 2, 3, 8, 0, 6, 4, 7)>, <Node (5, 1, 2, 3, 0, 8, 6, 4, 7)>, <Node (5, 1, 2, 0, 3, 8, 6, 4, 7)>, <Node (5, 1, 2, 6, 3, 8, 0, 4, 7)>, <Node (5, 1, 2, 6, 3, 8, 4, 0, 7)>, <Node (5, 1, 2, 6, 3, 8, 4, 7, 0)>, <Node (5, 1, 2, 6, 3, 0, 4, 7, 8)>, <Node (5, 1, 2, 6, 0, 3, 4, 7, 8)>, <Node (5, 1, 2, 0, 6, 3, 4, 7, 8)>, <Node (0, 1, 2, 5, 6, 3, 4, 7, 8)>, <Node (1, 0, 2, 5, 6, 3, 4, 7, 8)>, <Node (1, 2, 0, 5, 6, 3, 4, 7, 8)>, <Node (1, 2, 3, 5, 6, 0, 4, 7, 8)>, <Node (1, 2, 3, 5, 0, 6, 4, 7, 8)>, <Node (1, 2, 3, 0, 5, 6, 4, 7, 8)>, <Node (1, 2, 3, 4, 5, 6, 0, 7, 8)>, <Node (1, 2, 3, 4, 5, 6, 7, 0, 8)>, <Node (1, 2, 3, 4, 5, 6, 7, 8, 0)>]\n"
     ]
    }
   ],
   "source": [
    "tot_nodes, seq_actions, time_taken, path = puzzle_8_solver(\"../Part2/S1.txt\", \"h1\")\n",
    "\n",
    "print(\"tot_nodes\", tot_nodes)\n",
    "print(\"seq_actions\", seq_actions)\n",
    "print(\"time_taken\", time_taken)\n",
    "print(\"path\", path)"
   ]
  },
  {
   "cell_type": "code",
   "execution_count": 34,
   "id": "ec98efa0",
   "metadata": {},
   "outputs": [
    {
     "name": "stdout",
     "output_type": "stream",
     "text": [
      "tot_nodes 25\n",
      "time_taken 35.480741405\n",
      "seq_actions ['UP', 'UP', 'RIGHT', 'DOWN', 'DOWN', 'RIGHT', 'UP', 'LEFT', 'LEFT', 'DOWN', 'RIGHT', 'RIGHT', 'UP', 'LEFT', 'LEFT', 'UP', 'RIGHT', 'RIGHT', 'DOWN', 'LEFT', 'LEFT', 'DOWN', 'RIGHT', 'RIGHT']\n"
     ]
    }
   ],
   "source": [
    "print(\"tot_nodes\", tot_nodes)\n",
    "print(\"time_taken\", time_taken)\n",
    "print(\"seq_actions\", seq_actions)"
   ]
  },
  {
   "cell_type": "code",
   "execution_count": 29,
   "id": "e2ca3682",
   "metadata": {},
   "outputs": [],
   "source": [
    "def astar_search_2(problem, h=manhattan, display=False):\n",
    "    \"\"\"A* search is best-first graph search with f(n) = g(n)+h(n).\n",
    "    You need to specify the h function when you call astar_search, or\n",
    "    else in your Problem subclass.\"\"\"\n",
    "    h = memoize(h or problem.h, 'h')\n",
    "    return best_first_graph_search(problem, lambda n: n.path_cost + h(n), display) "
   ]
  },
  {
   "cell_type": "code",
   "execution_count": 30,
   "id": "a1f50147",
   "metadata": {},
   "outputs": [
    {
     "name": "stdout",
     "output_type": "stream",
     "text": [
      "tot_nodes 25\n",
      "time_taken 0.8351924979999694\n",
      "seq_actions ['UP', 'UP', 'RIGHT', 'DOWN', 'DOWN', 'RIGHT', 'UP', 'LEFT', 'LEFT', 'DOWN', 'RIGHT', 'RIGHT', 'UP', 'LEFT', 'LEFT', 'UP', 'RIGHT', 'RIGHT', 'DOWN', 'LEFT', 'LEFT', 'DOWN', 'RIGHT', 'RIGHT']\n"
     ]
    }
   ],
   "source": [
    "tot_nodes, seq_actions, time_taken, path = puzzle_8_solver(\"../Part2/S1.txt\", \"h2\")\n",
    "\n",
    "print(\"tot_nodes\", tot_nodes)\n",
    "print(\"time_taken\", time_taken)\n",
    "print(\"seq_actions\", seq_actions)"
   ]
  },
  {
   "cell_type": "code",
   "execution_count": 35,
   "id": "3c6eb196",
   "metadata": {},
   "outputs": [],
   "source": [
    "def astar_search_3(problem, h=sqrt_manhattan, display=False):\n",
    "    \"\"\"A* search is best-first graph search with f(n) = g(n)+h(n).\n",
    "    You need to specify the h function when you call astar_search, or\n",
    "    else in your Problem subclass.\"\"\"\n",
    "    h = memoize(h or problem.h, 'h')\n",
    "    return best_first_graph_search(problem, lambda n: n.path_cost + h(n), display) "
   ]
  },
  {
   "cell_type": "code",
   "execution_count": 36,
   "id": "e3c5f005",
   "metadata": {},
   "outputs": [
    {
     "ename": "KeyboardInterrupt",
     "evalue": "",
     "output_type": "error",
     "traceback": [
      "\u001b[0;31m---------------------------------------------------------------------------\u001b[0m",
      "\u001b[0;31mKeyboardInterrupt\u001b[0m                         Traceback (most recent call last)",
      "Cell \u001b[0;32mIn[36], line 1\u001b[0m\n\u001b[0;32m----> 1\u001b[0m tot_nodes, seq_actions, time_taken, path \u001b[38;5;241m=\u001b[39m \u001b[43mpuzzle_8_solver\u001b[49m\u001b[43m(\u001b[49m\u001b[38;5;124;43m\"\u001b[39;49m\u001b[38;5;124;43m../Part2/S1.txt\u001b[39;49m\u001b[38;5;124;43m\"\u001b[39;49m\u001b[43m,\u001b[49m\u001b[43m \u001b[49m\u001b[38;5;124;43m\"\u001b[39;49m\u001b[38;5;124;43mh3\u001b[39;49m\u001b[38;5;124;43m\"\u001b[39;49m\u001b[43m)\u001b[49m\n\u001b[1;32m      3\u001b[0m \u001b[38;5;28mprint\u001b[39m(\u001b[38;5;124m\"\u001b[39m\u001b[38;5;124mtot_nodes\u001b[39m\u001b[38;5;124m\"\u001b[39m, tot_nodes)\n\u001b[1;32m      4\u001b[0m \u001b[38;5;28mprint\u001b[39m(\u001b[38;5;124m\"\u001b[39m\u001b[38;5;124mtime_taken\u001b[39m\u001b[38;5;124m\"\u001b[39m, time_taken)\n",
      "Cell \u001b[0;32mIn[28], line 57\u001b[0m, in \u001b[0;36mpuzzle_8_solver\u001b[0;34m(file_path, algorithm)\u001b[0m\n\u001b[1;32m     48\u001b[0m algo_dict \u001b[38;5;241m=\u001b[39m {\n\u001b[1;32m     49\u001b[0m     \u001b[38;5;124m'\u001b[39m\u001b[38;5;124mBFS\u001b[39m\u001b[38;5;124m'\u001b[39m: breadth_first_graph_search,\n\u001b[1;32m     50\u001b[0m     \u001b[38;5;124m'\u001b[39m\u001b[38;5;124mIDS\u001b[39m\u001b[38;5;124m'\u001b[39m: iterative_deepening_search,\n\u001b[0;32m   (...)\u001b[0m\n\u001b[1;32m     53\u001b[0m     \u001b[38;5;124m'\u001b[39m\u001b[38;5;124mh3\u001b[39m\u001b[38;5;124m'\u001b[39m: astar_search_3\n\u001b[1;32m     54\u001b[0m }\n\u001b[1;32m     56\u001b[0m \u001b[38;5;28;01mif\u001b[39;00m algorithm \u001b[38;5;129;01min\u001b[39;00m algo_dict:\n\u001b[0;32m---> 57\u001b[0m     \u001b[38;5;28;01mreturn\u001b[39;00m \u001b[43mfunc_output\u001b[49m\u001b[43m(\u001b[49m\u001b[43malgo_dict\u001b[49m\u001b[43m[\u001b[49m\u001b[43malgorithm\u001b[49m\u001b[43m]\u001b[49m\u001b[43m,\u001b[49m\u001b[43m \u001b[49m\u001b[43mpuzzle\u001b[49m\u001b[43m)\u001b[49m\n\u001b[1;32m     58\u001b[0m \u001b[38;5;28;01melse\u001b[39;00m:\n\u001b[1;32m     59\u001b[0m     \u001b[38;5;28mprint\u001b[39m(\u001b[38;5;124mf\u001b[39m\u001b[38;5;124m\"\u001b[39m\u001b[38;5;124mAlgorithm \u001b[39m\u001b[38;5;132;01m{\u001b[39;00malgorithm\u001b[38;5;132;01m}\u001b[39;00m\u001b[38;5;124m is not recognized. The available algorithms are: BFS, IDS, h1, h2, h3\u001b[39m\u001b[38;5;124m\"\u001b[39m)\n",
      "Cell \u001b[0;32mIn[28], line 22\u001b[0m, in \u001b[0;36mpuzzle_8_solver.<locals>.func_output\u001b[0;34m(algo, problem, heuristic)\u001b[0m\n\u001b[1;32m     18\u001b[0m     solution \u001b[38;5;241m=\u001b[39m algo(problem, heuristic)\n\u001b[1;32m     20\u001b[0m \u001b[38;5;66;03m# uniformed algo\u001b[39;00m\n\u001b[1;32m     21\u001b[0m \u001b[38;5;28;01melse\u001b[39;00m:\n\u001b[0;32m---> 22\u001b[0m     solution \u001b[38;5;241m=\u001b[39m \u001b[43malgo\u001b[49m\u001b[43m(\u001b[49m\u001b[43mproblem\u001b[49m\u001b[43m)\u001b[49m\n\u001b[1;32m     24\u001b[0m \u001b[38;5;66;03m# required output\u001b[39;00m\n\u001b[1;32m     25\u001b[0m seq_actions \u001b[38;5;241m=\u001b[39m solution\u001b[38;5;241m.\u001b[39msolution()\n",
      "Cell \u001b[0;32mIn[35], line 6\u001b[0m, in \u001b[0;36mastar_search_3\u001b[0;34m(problem, h, display)\u001b[0m\n\u001b[1;32m      2\u001b[0m \u001b[38;5;124;03m\"\"\"A* search is best-first graph search with f(n) = g(n)+h(n).\u001b[39;00m\n\u001b[1;32m      3\u001b[0m \u001b[38;5;124;03mYou need to specify the h function when you call astar_search, or\u001b[39;00m\n\u001b[1;32m      4\u001b[0m \u001b[38;5;124;03melse in your Problem subclass.\"\"\"\u001b[39;00m\n\u001b[1;32m      5\u001b[0m h \u001b[38;5;241m=\u001b[39m memoize(h \u001b[38;5;129;01mor\u001b[39;00m problem\u001b[38;5;241m.\u001b[39mh, \u001b[38;5;124m'\u001b[39m\u001b[38;5;124mh\u001b[39m\u001b[38;5;124m'\u001b[39m)\n\u001b[0;32m----> 6\u001b[0m \u001b[38;5;28;01mreturn\u001b[39;00m \u001b[43mbest_first_graph_search\u001b[49m\u001b[43m(\u001b[49m\u001b[43mproblem\u001b[49m\u001b[43m,\u001b[49m\u001b[43m \u001b[49m\u001b[38;5;28;43;01mlambda\u001b[39;49;00m\u001b[43m \u001b[49m\u001b[43mn\u001b[49m\u001b[43m:\u001b[49m\u001b[43m \u001b[49m\u001b[43mn\u001b[49m\u001b[38;5;241;43m.\u001b[39;49m\u001b[43mpath_cost\u001b[49m\u001b[43m \u001b[49m\u001b[38;5;241;43m+\u001b[39;49m\u001b[43m \u001b[49m\u001b[43mh\u001b[49m\u001b[43m(\u001b[49m\u001b[43mn\u001b[49m\u001b[43m)\u001b[49m\u001b[43m,\u001b[49m\u001b[43m \u001b[49m\u001b[43mdisplay\u001b[49m\u001b[43m)\u001b[49m\n",
      "Cell \u001b[0;32mIn[8], line 104\u001b[0m, in \u001b[0;36mbest_first_graph_search\u001b[0;34m(problem, f, display)\u001b[0m\n\u001b[1;32m    102\u001b[0m explored\u001b[38;5;241m.\u001b[39madd(node\u001b[38;5;241m.\u001b[39mstate)\n\u001b[1;32m    103\u001b[0m \u001b[38;5;28;01mfor\u001b[39;00m child \u001b[38;5;129;01min\u001b[39;00m node\u001b[38;5;241m.\u001b[39mexpand(problem):\n\u001b[0;32m--> 104\u001b[0m     \u001b[38;5;28;01mif\u001b[39;00m child\u001b[38;5;241m.\u001b[39mstate \u001b[38;5;129;01mnot\u001b[39;00m \u001b[38;5;129;01min\u001b[39;00m explored \u001b[38;5;129;01mand\u001b[39;00m \u001b[43mchild\u001b[49m\u001b[43m \u001b[49m\u001b[38;5;129;43;01mnot\u001b[39;49;00m\u001b[43m \u001b[49m\u001b[38;5;129;43;01min\u001b[39;49;00m\u001b[43m \u001b[49m\u001b[43mfrontier\u001b[49m:\n\u001b[1;32m    105\u001b[0m         frontier\u001b[38;5;241m.\u001b[39mappend(child)\n\u001b[1;32m    106\u001b[0m     \u001b[38;5;28;01melif\u001b[39;00m child \u001b[38;5;129;01min\u001b[39;00m frontier:\n",
      "Cell \u001b[0;32mIn[5], line 40\u001b[0m, in \u001b[0;36mPriorityQueue.__contains__\u001b[0;34m(self, key)\u001b[0m\n\u001b[1;32m     38\u001b[0m \u001b[38;5;28;01mdef\u001b[39;00m \u001b[38;5;21m__contains__\u001b[39m(\u001b[38;5;28mself\u001b[39m, key):\n\u001b[1;32m     39\u001b[0m     \u001b[38;5;124;03m\"\"\"Return True if the key is in PriorityQueue.\"\"\"\u001b[39;00m\n\u001b[0;32m---> 40\u001b[0m     \u001b[38;5;28;01mreturn\u001b[39;00m \u001b[38;5;28many\u001b[39m([item \u001b[38;5;241m==\u001b[39m key \u001b[38;5;28;01mfor\u001b[39;00m _, item \u001b[38;5;129;01min\u001b[39;00m \u001b[38;5;28mself\u001b[39m\u001b[38;5;241m.\u001b[39mheap])\n",
      "Cell \u001b[0;32mIn[5], line 40\u001b[0m, in \u001b[0;36m<listcomp>\u001b[0;34m(.0)\u001b[0m\n\u001b[1;32m     38\u001b[0m \u001b[38;5;28;01mdef\u001b[39;00m \u001b[38;5;21m__contains__\u001b[39m(\u001b[38;5;28mself\u001b[39m, key):\n\u001b[1;32m     39\u001b[0m     \u001b[38;5;124;03m\"\"\"Return True if the key is in PriorityQueue.\"\"\"\u001b[39;00m\n\u001b[0;32m---> 40\u001b[0m     \u001b[38;5;28;01mreturn\u001b[39;00m \u001b[38;5;28many\u001b[39m([\u001b[43mitem\u001b[49m\u001b[43m \u001b[49m\u001b[38;5;241;43m==\u001b[39;49m\u001b[43m \u001b[49m\u001b[43mkey\u001b[49m \u001b[38;5;28;01mfor\u001b[39;00m _, item \u001b[38;5;129;01min\u001b[39;00m \u001b[38;5;28mself\u001b[39m\u001b[38;5;241m.\u001b[39mheap])\n",
      "Cell \u001b[0;32mIn[3], line 59\u001b[0m, in \u001b[0;36mNode.__eq__\u001b[0;34m(self, other)\u001b[0m\n\u001b[1;32m     58\u001b[0m \u001b[38;5;28;01mdef\u001b[39;00m \u001b[38;5;21m__eq__\u001b[39m(\u001b[38;5;28mself\u001b[39m, other):\n\u001b[0;32m---> 59\u001b[0m     \u001b[38;5;28;01mreturn\u001b[39;00m \u001b[38;5;28misinstance\u001b[39m(other, Node) \u001b[38;5;129;01mand\u001b[39;00m \u001b[38;5;28;43mself\u001b[39;49m\u001b[38;5;241;43m.\u001b[39;49m\u001b[43mstate\u001b[49m \u001b[38;5;241m==\u001b[39m other\u001b[38;5;241m.\u001b[39mstate\n",
      "\u001b[0;31mKeyboardInterrupt\u001b[0m: "
     ]
    }
   ],
   "source": [
    "tot_nodes, seq_actions, time_taken, path = puzzle_8_solver(\"../Part2/S1.txt\", \"h3\")\n",
    "\n",
    "print(\"tot_nodes\", tot_nodes)\n",
    "print(\"time_taken\", time_taken)\n",
    "print(\"seq_actions\", seq_actions)"
   ]
  },
  {
   "cell_type": "code",
   "execution_count": 45,
   "id": "a58f6bd1",
   "metadata": {},
   "outputs": [],
   "source": [
    "def astar_search_3(problem, h=max_heuristic, display=False):\n",
    "    \"\"\"A* search is best-first graph search with f(n) = g(n)+h(n).\n",
    "    You need to specify the h function when you call astar_search, or\n",
    "    else in your Problem subclass.\"\"\"\n",
    "    h = memoize(h or problem.h, 'h')\n",
    "    return best_first_graph_search(problem, lambda n: n.path_cost + h(n), display) "
   ]
  },
  {
   "cell_type": "code",
   "execution_count": 46,
   "id": "0a0e93ff",
   "metadata": {},
   "outputs": [
    {
     "name": "stdout",
     "output_type": "stream",
     "text": [
      "tot_nodes 25\n",
      "time_taken 0.8594783749999806\n",
      "seq_actions ['UP', 'UP', 'RIGHT', 'DOWN', 'DOWN', 'RIGHT', 'UP', 'LEFT', 'LEFT', 'DOWN', 'RIGHT', 'RIGHT', 'UP', 'LEFT', 'LEFT', 'UP', 'RIGHT', 'RIGHT', 'DOWN', 'LEFT', 'LEFT', 'DOWN', 'RIGHT', 'RIGHT']\n"
     ]
    }
   ],
   "source": [
    "tot_nodes, seq_actions, time_taken, path = puzzle_8_solver(\"../Part2/S1.txt\", \"h3\")\n",
    "\n",
    "print(\"tot_nodes\", tot_nodes)\n",
    "print(\"time_taken\", time_taken)\n",
    "print(\"seq_actions\", seq_actions)"
   ]
  },
  {
   "cell_type": "code",
   "execution_count": null,
   "id": "e4b6d318",
   "metadata": {},
   "outputs": [],
   "source": []
  }
 ],
 "metadata": {
  "kernelspec": {
   "display_name": "Python 3 (ipykernel)",
   "language": "python",
   "name": "python3"
  },
  "language_info": {
   "codemirror_mode": {
    "name": "ipython",
    "version": 3
   },
   "file_extension": ".py",
   "mimetype": "text/x-python",
   "name": "python",
   "nbconvert_exporter": "python",
   "pygments_lexer": "ipython3",
   "version": "3.8.16"
  }
 },
 "nbformat": 4,
 "nbformat_minor": 5
}

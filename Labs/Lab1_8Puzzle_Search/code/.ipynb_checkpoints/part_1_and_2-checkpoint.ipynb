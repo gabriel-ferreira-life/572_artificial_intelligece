{
 "cells": [
  {
   "cell_type": "markdown",
   "id": "edc1ad18",
   "metadata": {},
   "source": [
    "### Libraries"
   ]
  },
  {
   "cell_type": "code",
   "execution_count": 1,
   "id": "1549f7dc",
   "metadata": {},
   "outputs": [],
   "source": [
    "import sys\n",
    "from collections import deque\n",
    "import heapq\n",
    "import math\n",
    "\n",
    "from ipywidgets import interact\n",
    "import ipywidgets as widgets\n",
    "from IPython.display import display\n",
    "from contextlib import contextmanager\n",
    "import signal\n",
    "import time\n",
    "\n",
    "# Needed to hide warnings in the matplotlib sections\n",
    "import warnings\n",
    "warnings.filterwarnings(\"ignore\")"
   ]
  },
  {
   "cell_type": "markdown",
   "id": "a6361085",
   "metadata": {},
   "source": [
    "### Search Package"
   ]
  },
  {
   "cell_type": "code",
   "execution_count": 2,
   "id": "3a65d7c8",
   "metadata": {},
   "outputs": [],
   "source": [
    "from search_package import *"
   ]
  },
  {
   "cell_type": "markdown",
   "id": "0924b8d0",
   "metadata": {},
   "source": [
    "## Part 1: (40 pts)"
   ]
  },
  {
   "cell_type": "code",
   "execution_count": 3,
   "id": "753c8979",
   "metadata": {},
   "outputs": [],
   "source": [
    "class TimeoutException(Exception):\n",
    "    pass\n",
    "\n",
    "@contextmanager\n",
    "def time_limit(seconds):\n",
    "    def signal_handler(signum, frame):\n",
    "        raise TimeoutException(\"Timed out!\")\n",
    "    signal.signal(signal.SIGALRM, signal_handler)\n",
    "    signal.alarm(seconds)\n",
    "    try:\n",
    "        yield\n",
    "    finally:\n",
    "        signal.alarm(0)\n",
    "\n",
    "def time_config(total_seconds):\n",
    "    # Calculate minutes, seconds, and microseconds\n",
    "    minutes = int(total_seconds // 60)\n",
    "    seconds = int(total_seconds % 60)\n",
    "    microseconds = int((total_seconds - int(total_seconds)) * 1_000_000)\n",
    "    \n",
    "    if (minutes == 0) and (seconds == 0):\n",
    "        time_taken = f\"{microseconds} microSec.\"\n",
    "    \n",
    "    elif minutes == 0:\n",
    "        time_taken = f\"{seconds} sec {microseconds} microSec.\"\n",
    "    \n",
    "    else:\n",
    "        time_taken = f\"{minutes} min {seconds} sec {microseconds} microSec.\"\n",
    "        \n",
    "    return time_taken"
   ]
  },
  {
   "cell_type": "code",
   "execution_count": 4,
   "id": "fbee6f4b",
   "metadata": {},
   "outputs": [],
   "source": [
    "# define function to get the required output\n",
    "def func_output(algo, algorithm_name, problem, heuristic=None, display=True):\n",
    "\n",
    "    # start timing\n",
    "    start_time = time.perf_counter()\n",
    "    \n",
    "\n",
    "    if algorithm_name == \"BFGS\" or algorithm_name == \"BFTS\" or algorithm_name == \"IDS\":\n",
    "#         print(algorithm_name)\n",
    "        solution, explored = algo(problem)\n",
    "        frontier = []\n",
    "    else:\n",
    "        solution, explored, frontier = algo(problem)\n",
    "\n",
    "\n",
    "    # required output\n",
    "    seq_actions = solution.solution()\n",
    "    path = solution.path()\n",
    "    path_lenght = len(path) - 1\n",
    "    \n",
    "    try:\n",
    "        tot_nodes_generated = len(explored) + len(frontier)\n",
    "    except:\n",
    "        tot_nodes_generated = explored + len(frontier)\n",
    "\n",
    "    # edn timing\n",
    "    end_time = time.perf_counter()\n",
    "\n",
    "    ## total time taken\n",
    "    total_seconds = end_time - start_time\n",
    "\n",
    "    # Calculate minutes, seconds, and microseconds\n",
    "    time_taken = time_config(total_seconds)\n",
    "\n",
    "    return print(f\"Total nodes generated: {tot_nodes_generated}\\n\"\n",
    "      f\"Total Time Taken: {time_taken}\\n\"\n",
    "      f\"Path length: {path_lenght}\\n\"\n",
    "      f\"Path: {''.join(seq_actions)}\")\n",
    "    \n",
    "def puzzle_8_solver(file_path, algorithm):\n",
    "    try:\n",
    "        with time_limit(900):  # 900 seconds = 15 minutes    \n",
    "            \n",
    "            # read files in\n",
    "            with open(file_path, 'r') as file:\n",
    "                puzzle_raw = file.read().split()\n",
    "            puzzle_int = tuple(int(x if x != '_' else '0') for x in puzzle_raw)\n",
    "\n",
    "            # fit puzzle in\n",
    "            puzzle = EightPuzzle(puzzle_int)\n",
    "#             puzzle = EightPuzzle((2, 4, 3, 1, 5, 6, 7, 8, 0))\n",
    "\n",
    "            # check for solvability\n",
    "            is_solvable = puzzle.check_solvability(puzzle_int)\n",
    "\n",
    "            if is_solvable == False:\n",
    "                print(\"Problem is not solvable.\")\n",
    "                return None \n",
    "\n",
    "            # dictionary to map algorithm names to their corresponding functions\n",
    "            algo_dict = {\n",
    "                'BFGS': breadth_first_graph_search,\n",
    "                'BFTS': breadth_first_tree_search,\n",
    "                'IDS': iterative_deepening_search,\n",
    "                'h1': astar_search_1,\n",
    "                'h2': astar_search_2,\n",
    "                'h3': astar_search_3\n",
    "            }\n",
    "\n",
    "\n",
    "            if algorithm in algo_dict:\n",
    "                return func_output(algo_dict[algorithm], algorithm, puzzle)\n",
    "            else:\n",
    "                print(f\"Algorithm {algorithm} is not recognized. The available algorithms are: BFGS, BFTS, IDS, h1, h2, h3\")\n",
    "\n",
    "    except TimeoutException as e:\n",
    "        print(\"Total nodes generated: Timed out\")\n",
    "        print(\"Total Time Taken: >15 min\")\n",
    "        print(\"Path length: Timed out\")\n",
    "        print(\"Path: Timed out\")"
   ]
  },
  {
   "cell_type": "markdown",
   "id": "46e680b4",
   "metadata": {},
   "source": [
    "#### breadth_first_graph_search"
   ]
  },
  {
   "cell_type": "code",
   "execution_count": 5,
   "id": "a828d1ac",
   "metadata": {},
   "outputs": [
    {
     "name": "stdout",
     "output_type": "stream",
     "text": [
      "Total nodes generated: 54\n",
      "Total Time Taken: 2332 microSec.\n",
      "Path length: 7\n",
      "Path: LURDDR\n"
     ]
    }
   ],
   "source": [
    "puzzle_8_solver(\"../Part2/S5.txt\", \"BFGS\")"
   ]
  },
  {
   "cell_type": "markdown",
   "id": "7d967152",
   "metadata": {},
   "source": [
    "#### breadth_first_tree_search"
   ]
  },
  {
   "cell_type": "code",
   "execution_count": 6,
   "id": "f8242e36",
   "metadata": {},
   "outputs": [
    {
     "name": "stdout",
     "output_type": "stream",
     "text": [
      "Total nodes generated: 103\n",
      "Total Time Taken: 11666 microSec.\n",
      "Path length: 7\n",
      "Path: LURDDR\n"
     ]
    }
   ],
   "source": [
    "puzzle_8_solver(\"../Part2/S5.txt\", \"BFTS\")"
   ]
  },
  {
   "cell_type": "markdown",
   "id": "6ea8c739",
   "metadata": {},
   "source": [
    "#### iterative_deepening_search"
   ]
  },
  {
   "cell_type": "code",
   "execution_count": 7,
   "id": "8ba8235d",
   "metadata": {},
   "outputs": [
    {
     "name": "stdout",
     "output_type": "stream",
     "text": [
      "Total nodes generated: 111\n",
      "Total Time Taken: 1981 microSec.\n",
      "Path length: 7\n",
      "Path: LURDDR\n"
     ]
    }
   ],
   "source": [
    "puzzle_8_solver(\"../Part2/S5.txt\", \"IDS\")"
   ]
  },
  {
   "cell_type": "markdown",
   "id": "3dbbd653",
   "metadata": {},
   "source": [
    "#### astar_search_1"
   ]
  },
  {
   "cell_type": "code",
   "execution_count": 8,
   "id": "15472088",
   "metadata": {},
   "outputs": [
    {
     "name": "stdout",
     "output_type": "stream",
     "text": [
      "Total nodes generated: 19\n",
      "Total Time Taken: 404 microSec.\n",
      "Path length: 7\n",
      "Path: LURDDR\n"
     ]
    }
   ],
   "source": [
    "puzzle_8_solver(\"../Part2/S5.txt\", \"h1\")"
   ]
  },
  {
   "cell_type": "markdown",
   "id": "fa7153a7",
   "metadata": {},
   "source": [
    "#### astar_search_2"
   ]
  },
  {
   "cell_type": "code",
   "execution_count": 9,
   "id": "14a1b71f",
   "metadata": {},
   "outputs": [
    {
     "name": "stdout",
     "output_type": "stream",
     "text": [
      "Total nodes generated: 20\n",
      "Total Time Taken: 728 microSec.\n",
      "Path length: 7\n",
      "Path: LURDDR\n"
     ]
    }
   ],
   "source": [
    "puzzle_8_solver(\"../Part2/S5.txt\", \"h2\")"
   ]
  },
  {
   "cell_type": "markdown",
   "id": "e5043e94",
   "metadata": {},
   "source": [
    "#### astar_search_3"
   ]
  },
  {
   "cell_type": "code",
   "execution_count": 10,
   "id": "d7173fb9",
   "metadata": {},
   "outputs": [
    {
     "name": "stdout",
     "output_type": "stream",
     "text": [
      "Total nodes generated: 20\n",
      "Total Time Taken: 947 microSec.\n",
      "Path length: 7\n",
      "Path: LURDDR\n"
     ]
    }
   ],
   "source": [
    "puzzle_8_solver(\"../Part2/S5.txt\", \"h3\")"
   ]
  },
  {
   "cell_type": "markdown",
   "id": "c11d64a9",
   "metadata": {},
   "source": [
    "## Part 2: (20 pts)"
   ]
  },
  {
   "cell_type": "code",
   "execution_count": 11,
   "id": "48784846",
   "metadata": {},
   "outputs": [
    {
     "name": "stdout",
     "output_type": "stream",
     "text": [
      "../Part2/S1.txt\n",
      "../Part2/S2.txt\n",
      "../Part2/S3.txt\n",
      "../Part2/S5.txt\n"
     ]
    }
   ],
   "source": [
    "part_2_files = [\"../Part2/S1.txt\", \"../Part2/S2.txt\", \"../Part2/S3.txt\", \"../Part2/S4.txt\", \"../Part2/S5.txt\"]\n",
    "part_2_files = [\"../Part2/S1.txt\", \"../Part2/S2.txt\", \"../Part2/S3.txt\", \"../Part2/S5.txt\"]\n",
    "\n",
    "for file in part_2_files:\n",
    "    print(file)"
   ]
  },
  {
   "cell_type": "markdown",
   "id": "b9e22795",
   "metadata": {},
   "source": [
    "### Breadth First Graph Search"
   ]
  },
  {
   "cell_type": "code",
   "execution_count": 12,
   "id": "8c639809",
   "metadata": {},
   "outputs": [
    {
     "name": "stdout",
     "output_type": "stream",
     "text": [
      "Breadth First Graph Search\n",
      "\n",
      "Solving problem for file:  ../Part2/S1.txt\n",
      "Total nodes generated: 97527\n",
      "Total Time Taken: 10 min 38 sec 643079 microSec.\n",
      "Path length: 25\n",
      "Path: UURDDRULLDRRULLURRDLLDRR\n",
      " \n",
      "Solving problem for file:  ../Part2/S2.txt\n",
      "Total nodes generated: 29053\n",
      "Total Time Taken: 1 min 23 sec 495823 microSec.\n",
      "Path length: 21\n",
      "Path: UURRDLDRULLURRDLLDRR\n",
      " \n",
      "Solving problem for file:  ../Part2/S3.txt\n",
      "Problem is not solvable.\n",
      " \n",
      "Solving problem for file:  ../Part2/S5.txt\n",
      "Total nodes generated: 54\n",
      "Total Time Taken: 1246 microSec.\n",
      "Path length: 7\n",
      "Path: LURDDR\n",
      " \n"
     ]
    }
   ],
   "source": [
    "print(\"Breadth First Graph Search\\n\")\n",
    "algorithm = \"BFGS\"\n",
    "for file in part_2_files:\n",
    "    print(\"Solving problem for file: \", file)\n",
    "    puzzle_8_solver(file, algorithm)\n",
    "    print(\" \")"
   ]
  },
  {
   "cell_type": "markdown",
   "id": "cdca1b23",
   "metadata": {},
   "source": [
    "### Iterative Deepening Search"
   ]
  },
  {
   "cell_type": "code",
   "execution_count": 13,
   "id": "a153102c",
   "metadata": {},
   "outputs": [
    {
     "name": "stdout",
     "output_type": "stream",
     "text": [
      "Iterative Deepening Search\n",
      "\n",
      "Solving problem for file:  ../Part2/S1.txt\n",
      "Total nodes generated: 63983\n",
      "Total Time Taken: 5 sec 66574 microSec.\n",
      "Path length: 25\n",
      "Path: UURDDRULLDRRULLURRDLLDRR\n",
      " \n",
      "Solving problem for file:  ../Part2/S2.txt\n",
      "Total nodes generated: 32051\n",
      "Total Time Taken: 1 sec 96173 microSec.\n",
      "Path length: 21\n",
      "Path: UURRDLDRULLURRDLLDRR\n",
      " \n",
      "Solving problem for file:  ../Part2/S3.txt\n",
      "Problem is not solvable.\n",
      " \n",
      "Solving problem for file:  ../Part2/S5.txt\n",
      "Total nodes generated: 111\n",
      "Total Time Taken: 1694 microSec.\n",
      "Path length: 7\n",
      "Path: LURDDR\n",
      " \n"
     ]
    }
   ],
   "source": [
    "print(\"Iterative Deepening Search\\n\")\n",
    "algorithm = \"IDS\"\n",
    "for file in part_2_files:\n",
    "    print(\"Solving problem for file: \", file)\n",
    "    puzzle_8_solver(file, algorithm)\n",
    "    print(\" \")"
   ]
  },
  {
   "cell_type": "markdown",
   "id": "bc4b288e",
   "metadata": {},
   "source": [
    "### A* using Misplaced Tile heuristic"
   ]
  },
  {
   "cell_type": "code",
   "execution_count": 14,
   "id": "21e5141a",
   "metadata": {},
   "outputs": [
    {
     "name": "stdout",
     "output_type": "stream",
     "text": [
      "A* using Misplaced Tile Heuristic\n",
      "\n",
      "Solving problem for file:  ../Part2/S1.txt\n",
      "Total nodes generated: 18818\n",
      "Total Time Taken: 45 sec 237916 microSec.\n",
      "Path length: 25\n",
      "Path: UURDDRULLDRRULLURRDLLDRR\n",
      " \n",
      "Solving problem for file:  ../Part2/S2.txt\n",
      "Total nodes generated: 2918\n",
      "Total Time Taken: 828825 microSec.\n",
      "Path length: 21\n",
      "Path: UURRDLDRULLURRDLLDRR\n",
      " \n",
      "Solving problem for file:  ../Part2/S3.txt\n",
      "Problem is not solvable.\n",
      " \n",
      "Solving problem for file:  ../Part2/S5.txt\n",
      "Total nodes generated: 19\n",
      "Total Time Taken: 222 microSec.\n",
      "Path length: 7\n",
      "Path: LURDDR\n",
      " \n"
     ]
    }
   ],
   "source": [
    "print(\"A* using Misplaced Tile Heuristic\\n\")\n",
    "algorithm = \"h1\"\n",
    "for file in part_2_files:\n",
    "    print(\"Solving problem for file: \", file)\n",
    "    puzzle_8_solver(file, algorithm)\n",
    "    print(\" \")"
   ]
  },
  {
   "cell_type": "markdown",
   "id": "e36b1294",
   "metadata": {},
   "source": [
    "### A* using Manhattam Distance heuristic"
   ]
  },
  {
   "cell_type": "code",
   "execution_count": 15,
   "id": "4fd4eefa",
   "metadata": {},
   "outputs": [
    {
     "name": "stdout",
     "output_type": "stream",
     "text": [
      "A* using Manhattam Distance Heuristic\n",
      "\n",
      "Solving problem for file:  ../Part2/S1.txt\n",
      "Total nodes generated: 3188\n",
      "Total Time Taken: 1 sec 69470 microSec.\n",
      "Path length: 25\n",
      "Path: UURDDRULLDRRULLURRDLLDRR\n",
      " \n",
      "Solving problem for file:  ../Part2/S2.txt\n",
      "Total nodes generated: 320\n",
      "Total Time Taken: 15781 microSec.\n",
      "Path length: 21\n",
      "Path: UURRDLDRULLURRDLLDRR\n",
      " \n",
      "Solving problem for file:  ../Part2/S3.txt\n",
      "Problem is not solvable.\n",
      " \n",
      "Solving problem for file:  ../Part2/S5.txt\n",
      "Total nodes generated: 20\n",
      "Total Time Taken: 358 microSec.\n",
      "Path length: 7\n",
      "Path: LURDDR\n",
      " \n"
     ]
    }
   ],
   "source": [
    "print(\"A* using Manhattam Distance Heuristic\\n\")\n",
    "algorithm = \"h2\"\n",
    "for file in part_2_files:\n",
    "    print(\"Solving problem for file: \", file)\n",
    "    puzzle_8_solver(file, algorithm)\n",
    "    print(\" \")"
   ]
  },
  {
   "cell_type": "markdown",
   "id": "cc377723",
   "metadata": {},
   "source": [
    "### A* using Max heuristic"
   ]
  },
  {
   "cell_type": "code",
   "execution_count": 16,
   "id": "cdcca6b8",
   "metadata": {},
   "outputs": [
    {
     "name": "stdout",
     "output_type": "stream",
     "text": [
      "A* using Max Heuristic \n",
      "\n",
      "Solving problem for file:  ../Part2/S1.txt\n",
      "Total nodes generated: 3188\n",
      "Total Time Taken: 1 sec 91338 microSec.\n",
      "Path length: 25\n",
      "Path: UURDDRULLDRRULLURRDLLDRR\n",
      " \n",
      "Solving problem for file:  ../Part2/S2.txt\n",
      "Total nodes generated: 320\n",
      "Total Time Taken: 16533 microSec.\n",
      "Path length: 21\n",
      "Path: UURRDLDRULLURRDLLDRR\n",
      " \n",
      "Solving problem for file:  ../Part2/S3.txt\n",
      "Problem is not solvable.\n",
      " \n",
      "Solving problem for file:  ../Part2/S5.txt\n",
      "Total nodes generated: 20\n",
      "Total Time Taken: 408 microSec.\n",
      "Path length: 7\n",
      "Path: LURDDR\n",
      " \n"
     ]
    }
   ],
   "source": [
    "print(\"A* using Max Heuristic \\n\")\n",
    "algorithm = \"h3\"\n",
    "for file in part_2_files:\n",
    "    print(\"Solving problem for file: \", file)\n",
    "    puzzle_8_solver(file, algorithm)\n",
    "    print(\" \")"
   ]
  }
 ],
 "metadata": {
  "kernelspec": {
   "display_name": "Python 3 (ipykernel)",
   "language": "python",
   "name": "python3"
  },
  "language_info": {
   "codemirror_mode": {
    "name": "ipython",
    "version": 3
   },
   "file_extension": ".py",
   "mimetype": "text/x-python",
   "name": "python",
   "nbconvert_exporter": "python",
   "pygments_lexer": "ipython3",
   "version": "3.8.16"
  }
 },
 "nbformat": 4,
 "nbformat_minor": 5
}

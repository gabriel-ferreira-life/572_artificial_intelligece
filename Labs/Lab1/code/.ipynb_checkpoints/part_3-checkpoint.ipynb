{
 "cells": [
  {
   "cell_type": "markdown",
   "id": "129945d5",
   "metadata": {},
   "source": [
    "### Libraries"
   ]
  },
  {
   "cell_type": "code",
   "execution_count": 1,
   "id": "cafe2c33",
   "metadata": {},
   "outputs": [],
   "source": [
    "import numpy as np\n",
    "import pandas as pd\n",
    "import sys\n",
    "from collections import deque\n",
    "import heapq\n",
    "import math\n",
    "import glob\n",
    "\n",
    "from ipywidgets import interact\n",
    "import ipywidgets as widgets\n",
    "from IPython.display import display\n",
    "from contextlib import contextmanager\n",
    "import signal\n",
    "import time\n",
    "\n",
    "import warnings\n",
    "warnings.filterwarnings(\"ignore\")"
   ]
  },
  {
   "cell_type": "markdown",
   "id": "4fb05e3d",
   "metadata": {},
   "source": [
    "### Search Package"
   ]
  },
  {
   "cell_type": "code",
   "execution_count": 2,
   "id": "e3a8c507",
   "metadata": {},
   "outputs": [],
   "source": [
    "from search_package import *"
   ]
  },
  {
   "cell_type": "markdown",
   "id": "6242fd25",
   "metadata": {},
   "source": [
    "## Part 3: (40 pts)"
   ]
  },
  {
   "cell_type": "code",
   "execution_count": 3,
   "id": "2f2a1084",
   "metadata": {},
   "outputs": [],
   "source": [
    "class TimeoutException(Exception):\n",
    "    pass\n",
    "\n",
    "@contextmanager\n",
    "def time_limit(seconds):\n",
    "    def signal_handler(signum, frame):\n",
    "        raise TimeoutException(\"Timed out!\")\n",
    "    signal.signal(signal.SIGALRM, signal_handler)\n",
    "    signal.alarm(seconds)\n",
    "    try:\n",
    "        yield\n",
    "    finally:\n",
    "        signal.alarm(0)\n",
    "\n",
    "        \n",
    "def time_config(total_seconds):\n",
    "    # Calculate minutes, seconds, and microseconds\n",
    "    minutes = int(total_seconds // 60)\n",
    "    seconds = int(total_seconds % 60)\n",
    "    microseconds = int((total_seconds - int(total_seconds)) * 1_000_000)\n",
    "    \n",
    "    if (minutes == 0) and (seconds == 0):\n",
    "        time_taken = f\"{microseconds} microSec.\"\n",
    "    \n",
    "    elif minutes == 0:\n",
    "        time_taken = f\"{seconds} sec {microseconds} microSec.\"\n",
    "    \n",
    "    else:\n",
    "        time_taken = f\"{minutes} min {seconds} sec {microseconds} microSec.\"\n",
    "        \n",
    "    return time_taken"
   ]
  },
  {
   "cell_type": "code",
   "execution_count": 12,
   "id": "57c2a383",
   "metadata": {},
   "outputs": [],
   "source": [
    "# define function to get the required output\n",
    "def func_output(algo, algorithm_name, problem, heuristic=None, display=True):\n",
    "\n",
    "    # start timing\n",
    "    start_time = time.perf_counter()\n",
    "    \n",
    "\n",
    "    if algorithm_name == \"BFGS\" or algorithm_name == \"BFTS\" or algorithm_name == \"IDS\":\n",
    "#         print(algorithm_name)\n",
    "        solution, explored = algo(problem)\n",
    "        frontier = []\n",
    "    else:\n",
    "        solution, explored, frontier = algo(problem)\n",
    "\n",
    "\n",
    "    # required output\n",
    "    seq_actions = solution.solution()\n",
    "    path = solution.path()\n",
    "    path_lenght = len(path)\n",
    "    s\n",
    "    try:\n",
    "        tot_nodes_generated = len(explored) + len(frontier)\n",
    "    except:\n",
    "        tot_nodes_generated = explored + len(frontier)\n",
    "\n",
    "    # edn timing\n",
    "    end_time = time.perf_counter()\n",
    "\n",
    "    ## total time taken\n",
    "    total_seconds = end_time - start_time\n",
    "\n",
    "\n",
    "\n",
    "    return tot_nodes_generated, total_seconds#, path_lenght, seq_actions\n",
    "    \n",
    "def puzzle_8_solver(file_path, algorithm):\n",
    "            \n",
    "    # read files in\n",
    "    with open(file_path, 'r') as file:\n",
    "        puzzle_raw = file.read().split()\n",
    "    puzzle_int = tuple(int(x if x != '_' else '0') for x in puzzle_raw)\n",
    "\n",
    "    # fit puzzle in\n",
    "    puzzle = EightPuzzle(puzzle_int)\n",
    "    #             puzzle = EightPuzzle((2, 4, 3, 1, 5, 6, 7, 8, 0))\n",
    "\n",
    "    # check for solvability\n",
    "    is_solvable = puzzle.check_solvability(puzzle_int)\n",
    "\n",
    "    if is_solvable == False:\n",
    "        print(\"Problem is not solvable.\")\n",
    "        return None, None\n",
    "\n",
    "    # dictionary to map algorithm names to their corresponding functions\n",
    "    algo_dict = {\n",
    "        'BFGS': breadth_first_graph_search,\n",
    "        'BFTS': breadth_first_tree_search,\n",
    "        'IDS': iterative_deepening_search,\n",
    "        'h1': astar_search_1,\n",
    "        'h2': astar_search_2,\n",
    "        'h3': astar_search_3\n",
    "    }\n",
    "\n",
    "\n",
    "    if algorithm in algo_dict:\n",
    "        return func_output(algo_dict[algorithm], algorithm, puzzle)\n",
    "    else:\n",
    "        print(f\"Algorithm {algorithm} is not recognized. The available algorithms are: BFGS, BFTS, IDS, h1, h2, h3\")\n"
   ]
  },
  {
   "cell_type": "markdown",
   "id": "f6502f98",
   "metadata": {},
   "source": [
    "## Part 3: (40 pts)"
   ]
  },
  {
   "cell_type": "markdown",
   "id": "a3e49482",
   "metadata": {},
   "source": [
    "### A* using Manhattam Distance heuristic"
   ]
  },
  {
   "cell_type": "code",
   "execution_count": 14,
   "id": "57876906",
   "metadata": {},
   "outputs": [],
   "source": [
    "algorithms = [\"BFGS\", \"IDS\", \"h1\", \"h2\", \"h3\"]\n",
    "# algorithms = [\"h2\"]\n",
    "index = [8, 15, 24]\n",
    "final_df = pd.DataFrame()\n",
    "\n",
    "for algo in algorithms:\n",
    "    print(\"Solving for algo: \", algo)\n",
    "    problem_levels = [\"../Part3/L8/*.txt\", \"../Part3/L15/*.txt\", \"../Part3/L24/*.txt\"]\n",
    "    tot_nodes_generated_algo_avg = []\n",
    "    time_taken_algo_avg = []\n",
    "\n",
    "    for level in problem_levels:\n",
    "        tot_nodes_generated_lvl_avg = []\n",
    "        time_taken_lvl_avg = []\n",
    "\n",
    "        for file in glob.glob(level):\n",
    "            \n",
    "            try:\n",
    "                with time_limit(900):  # 900 seconds = 15 minutes    \n",
    "                    with open(file, 'r') as files:\n",
    "                        puzzle_raw = files.read().split()\n",
    "                    puzzle_int = tuple(int(x if x != '_' else '0') for x in puzzle_raw)\n",
    "\n",
    "\n",
    "                    tot_nodes_generated, time_taken = puzzle_8_solver(file, algo)\n",
    "                    tot_nodes_generated_lvl_avg.append(tot_nodes_generated)\n",
    "                    time_taken_lvl_avg.append(time_taken)\n",
    "                    \n",
    "            except TimeoutException as e:\n",
    "                tot_nodes_generated_lvl_avg.append(tot_nodes_generated)\n",
    "                time_taken_lvl_avg.append(time_taken)\n",
    "                    \n",
    "        tot_nodes_generated_algo_avg.append(np.mean(tot_nodes_generated_lvl_avg))\n",
    "        time_taken_algo_avg.append(np.mean(time_taken_lvl_avg))\n",
    "\n",
    "    \n",
    "    data = {\"Avg run time\": time_taken_algo_avg, \"Avg #nodes Explr\": tot_nodes_generated_algo_avg}\n",
    "    df_algo = pd.DataFrame(data, index=index)\n",
    "    df_algo.columns = pd.MultiIndex.from_product([[algo], df_algo.columns])\n",
    "    \n",
    "    final_df = pd.concat([final_df, df_algo], axis=1)\n",
    "\n",
    "final_df = final_df.reset_index().rename(columns={'index': \"\", \"\":\"Depth\"})\n",
    "final_df"
   ]
  },
  {
   "cell_type": "code",
   "execution_count": null,
   "id": "5de5b503",
   "metadata": {},
   "outputs": [],
   "source": [
    "final_df.to_excel(\"./output/performance_table.xlsx\")"
   ]
  },
  {
   "cell_type": "code",
   "execution_count": null,
   "id": "6edae06e",
   "metadata": {},
   "outputs": [],
   "source": [
    "final_df.to_csv(\"./output/performance_table.csv\", index=False)"
   ]
  }
 ],
 "metadata": {
  "kernelspec": {
   "display_name": "Python 3 (ipykernel)",
   "language": "python",
   "name": "python3"
  },
  "language_info": {
   "codemirror_mode": {
    "name": "ipython",
    "version": 3
   },
   "file_extension": ".py",
   "mimetype": "text/x-python",
   "name": "python",
   "nbconvert_exporter": "python",
   "pygments_lexer": "ipython3",
   "version": "3.8.16"
  }
 },
 "nbformat": 4,
 "nbformat_minor": 5
}

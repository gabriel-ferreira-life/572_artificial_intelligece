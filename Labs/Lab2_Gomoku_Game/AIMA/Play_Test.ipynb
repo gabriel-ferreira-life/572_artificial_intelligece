{
 "cells": [
  {
   "cell_type": "code",
   "execution_count": 1,
   "id": "9dae4c34",
   "metadata": {},
   "outputs": [],
   "source": [
    "from game_test import *\n",
    "from players_test import *"
   ]
  },
  {
   "cell_type": "markdown",
   "id": "bac72e60",
   "metadata": {},
   "source": [
    "### Human Player Vs. AI"
   ]
  },
  {
   "cell_type": "code",
   "execution_count": 22,
   "id": "3570fe01",
   "metadata": {},
   "outputs": [
    {
     "name": "stdout",
     "output_type": "stream",
     "text": [
      "Current board state:\n",
      ". . . . . . . . . . . . . . . \n",
      ". . . . . . . . . . . . . . . \n",
      ". . . . . . . . . . . . . . . \n",
      ". . . . . . . . . . . . . . W \n",
      ". . . . . . . . . . . . . . . \n",
      ". . . . . . . . . . . . . . . \n",
      ". . . . . . . . . . . . . . . \n",
      ". . . . . . . B . . . . . . . \n",
      ". . . . . . . . . . . . . . . \n",
      ". . . . . . . . . . . . . . . \n",
      ". . . . . . . . . . . . . . . \n",
      ". . . . . . . . . . . . . . . \n",
      ". . . . . . . . . . . . . . . \n",
      ". . . . . . . . . . . . . . . \n",
      ". . . . . . . . . . . . . . . \n",
      "List of legal moves at this state: [(1, 1), (1, 2), (1, 3), (1, 4), (1, 5), (1, 6), (1, 7), (1, 8), (1, 9), (1, 10), (1, 11), (1, 12), (1, 13), (1, 14), (1, 15), (2, 1), (2, 2), (2, 3), (2, 4), (2, 5), (2, 6), (2, 7), (2, 8), (2, 9), (2, 10), (2, 11), (2, 12), (2, 13), (2, 14), (2, 15), (3, 1), (3, 2), (3, 3), (3, 4), (3, 5), (3, 6), (3, 7), (3, 8), (3, 9), (3, 10), (3, 11), (3, 12), (3, 13), (3, 14), (3, 15), (4, 1), (4, 2), (4, 3), (4, 4), (4, 5), (4, 6), (4, 7), (4, 8), (4, 9), (4, 10), (4, 11), (4, 12), (4, 13), (4, 14), (5, 1), (5, 2), (5, 3), (5, 4), (5, 5), (5, 6), (5, 7), (5, 8), (5, 9), (5, 10), (5, 11), (5, 12), (5, 13), (5, 14), (5, 15), (6, 1), (6, 2), (6, 3), (6, 4), (6, 5), (6, 11), (6, 12), (6, 13), (6, 14), (6, 15), (7, 1), (7, 2), (7, 3), (7, 4), (7, 5), (7, 11), (7, 12), (7, 13), (7, 14), (7, 15), (8, 1), (8, 2), (8, 3), (8, 4), (8, 5), (8, 11), (8, 12), (8, 13), (8, 14), (8, 15), (9, 1), (9, 2), (9, 3), (9, 4), (9, 5), (9, 11), (9, 12), (9, 13), (9, 14), (9, 15), (10, 1), (10, 2), (10, 3), (10, 4), (10, 5), (10, 11), (10, 12), (10, 13), (10, 14), (10, 15), (11, 1), (11, 2), (11, 3), (11, 4), (11, 5), (11, 6), (11, 7), (11, 8), (11, 9), (11, 10), (11, 11), (11, 12), (11, 13), (11, 14), (11, 15), (12, 1), (12, 2), (12, 3), (12, 4), (12, 5), (12, 6), (12, 7), (12, 8), (12, 9), (12, 10), (12, 11), (12, 12), (12, 13), (12, 14), (12, 15), (13, 1), (13, 2), (13, 3), (13, 4), (13, 5), (13, 6), (13, 7), (13, 8), (13, 9), (13, 10), (13, 11), (13, 12), (13, 13), (13, 14), (13, 15), (14, 1), (14, 2), (14, 3), (14, 4), (14, 5), (14, 6), (14, 7), (14, 8), (14, 9), (14, 10), (14, 11), (14, 12), (14, 13), (14, 14), (14, 15), (15, 1), (15, 2), (15, 3), (15, 4), (15, 5), (15, 6), (15, 7), (15, 8), (15, 9), (15, 10), (15, 11), (15, 12), (15, 13), (15, 14), (15, 15)]\n",
      "\n"
     ]
    },
    {
     "name": "stdin",
     "output_type": "stream",
     "text": [
      "Enter your move as 'row,column' (e.g. 1,1):  1,1\n"
     ]
    },
    {
     "name": "stdout",
     "output_type": "stream",
     "text": [
      "Current board state:\n",
      "B . . . . . . . . . . . . . . \n",
      ". . . . . . . . . . . . . . . \n",
      ". . . . . . . . . . . . . . . \n",
      ". . . . . . . . . . . . . . W \n",
      ". . . . . . W . . . . . . . . \n",
      ". . . . . . . . . . . . . . . \n",
      ". . . . . . . . . . . . . . . \n",
      ". . . . . . . B . . . . . . . \n",
      ". . . . . . . . . . . . . . . \n",
      ". . . . . . . . . . . . . . . \n",
      ". . . . . . . . . . . . . . . \n",
      ". . . . . . . . . . . . . . . \n",
      ". . . . . . . . . . . . . . . \n",
      ". . . . . . . . . . . . . . . \n",
      ". . . . . . . . . . . . . . . \n",
      "List of legal moves at this state: [(1, 2), (1, 3), (1, 4), (1, 5), (1, 6), (1, 7), (1, 8), (1, 9), (1, 10), (1, 11), (1, 12), (1, 13), (1, 14), (1, 15), (2, 1), (2, 2), (2, 3), (2, 4), (2, 5), (2, 6), (2, 7), (2, 8), (2, 9), (2, 10), (2, 11), (2, 12), (2, 13), (2, 14), (2, 15), (3, 1), (3, 2), (3, 3), (3, 4), (3, 5), (3, 6), (3, 7), (3, 8), (3, 9), (3, 10), (3, 11), (3, 12), (3, 13), (3, 14), (3, 15), (4, 1), (4, 2), (4, 3), (4, 4), (4, 5), (4, 6), (4, 7), (4, 8), (4, 9), (4, 10), (4, 11), (4, 12), (4, 13), (4, 14), (5, 1), (5, 2), (5, 3), (5, 4), (5, 5), (5, 6), (5, 8), (5, 9), (5, 10), (5, 11), (5, 12), (5, 13), (5, 14), (5, 15), (6, 1), (6, 2), (6, 3), (6, 4), (6, 5), (6, 6), (6, 7), (6, 8), (6, 9), (6, 10), (6, 11), (6, 12), (6, 13), (6, 14), (6, 15), (7, 1), (7, 2), (7, 3), (7, 4), (7, 5), (7, 6), (7, 7), (7, 8), (7, 9), (7, 10), (7, 11), (7, 12), (7, 13), (7, 14), (7, 15), (8, 1), (8, 2), (8, 3), (8, 4), (8, 5), (8, 6), (8, 7), (8, 9), (8, 10), (8, 11), (8, 12), (8, 13), (8, 14), (8, 15), (9, 1), (9, 2), (9, 3), (9, 4), (9, 5), (9, 6), (9, 7), (9, 8), (9, 9), (9, 10), (9, 11), (9, 12), (9, 13), (9, 14), (9, 15), (10, 1), (10, 2), (10, 3), (10, 4), (10, 5), (10, 6), (10, 7), (10, 8), (10, 9), (10, 10), (10, 11), (10, 12), (10, 13), (10, 14), (10, 15), (11, 1), (11, 2), (11, 3), (11, 4), (11, 5), (11, 6), (11, 7), (11, 8), (11, 9), (11, 10), (11, 11), (11, 12), (11, 13), (11, 14), (11, 15), (12, 1), (12, 2), (12, 3), (12, 4), (12, 5), (12, 6), (12, 7), (12, 8), (12, 9), (12, 10), (12, 11), (12, 12), (12, 13), (12, 14), (12, 15), (13, 1), (13, 2), (13, 3), (13, 4), (13, 5), (13, 6), (13, 7), (13, 8), (13, 9), (13, 10), (13, 11), (13, 12), (13, 13), (13, 14), (13, 15), (14, 1), (14, 2), (14, 3), (14, 4), (14, 5), (14, 6), (14, 7), (14, 8), (14, 9), (14, 10), (14, 11), (14, 12), (14, 13), (14, 14), (14, 15), (15, 1), (15, 2), (15, 3), (15, 4), (15, 5), (15, 6), (15, 7), (15, 8), (15, 9), (15, 10), (15, 11), (15, 12), (15, 13), (15, 14), (15, 15)]\n",
      "\n"
     ]
    },
    {
     "name": "stdin",
     "output_type": "stream",
     "text": [
      "Enter your move as 'row,column' (e.g. 1,1):  2,1\n"
     ]
    },
    {
     "name": "stdout",
     "output_type": "stream",
     "text": [
      "Current board state:\n",
      "B . . . . . . . . . . . . . . \n",
      "B . . . . . . . . . . . . . . \n",
      ". . . . . . . . . . . . . . . \n",
      ". . . . . . . . . . . . . . W \n",
      ". . . . . . W . . W . . . . . \n",
      ". . . . . . . . . . . . . . . \n",
      ". . . . . . . . . . . . . . . \n",
      ". . . . . . . B . . . . . . . \n",
      ". . . . . . . . . . . . . . . \n",
      ". . . . . . . . . . . . . . . \n",
      ". . . . . . . . . . . . . . . \n",
      ". . . . . . . . . . . . . . . \n",
      ". . . . . . . . . . . . . . . \n",
      ". . . . . . . . . . . . . . . \n",
      ". . . . . . . . . . . . . . . \n",
      "List of legal moves at this state: [(1, 2), (1, 3), (1, 4), (1, 5), (1, 6), (1, 7), (1, 8), (1, 9), (1, 10), (1, 11), (1, 12), (1, 13), (1, 14), (1, 15), (2, 2), (2, 3), (2, 4), (2, 5), (2, 6), (2, 7), (2, 8), (2, 9), (2, 10), (2, 11), (2, 12), (2, 13), (2, 14), (2, 15), (3, 1), (3, 2), (3, 3), (3, 4), (3, 5), (3, 6), (3, 7), (3, 8), (3, 9), (3, 10), (3, 11), (3, 12), (3, 13), (3, 14), (3, 15), (4, 1), (4, 2), (4, 3), (4, 4), (4, 5), (4, 6), (4, 7), (4, 8), (4, 9), (4, 10), (4, 11), (4, 12), (4, 13), (4, 14), (5, 1), (5, 2), (5, 3), (5, 4), (5, 5), (5, 6), (5, 8), (5, 9), (5, 11), (5, 12), (5, 13), (5, 14), (5, 15), (6, 1), (6, 2), (6, 3), (6, 4), (6, 5), (6, 6), (6, 7), (6, 8), (6, 9), (6, 10), (6, 11), (6, 12), (6, 13), (6, 14), (6, 15), (7, 1), (7, 2), (7, 3), (7, 4), (7, 5), (7, 6), (7, 7), (7, 8), (7, 9), (7, 10), (7, 11), (7, 12), (7, 13), (7, 14), (7, 15), (8, 1), (8, 2), (8, 3), (8, 4), (8, 5), (8, 6), (8, 7), (8, 9), (8, 10), (8, 11), (8, 12), (8, 13), (8, 14), (8, 15), (9, 1), (9, 2), (9, 3), (9, 4), (9, 5), (9, 6), (9, 7), (9, 8), (9, 9), (9, 10), (9, 11), (9, 12), (9, 13), (9, 14), (9, 15), (10, 1), (10, 2), (10, 3), (10, 4), (10, 5), (10, 6), (10, 7), (10, 8), (10, 9), (10, 10), (10, 11), (10, 12), (10, 13), (10, 14), (10, 15), (11, 1), (11, 2), (11, 3), (11, 4), (11, 5), (11, 6), (11, 7), (11, 8), (11, 9), (11, 10), (11, 11), (11, 12), (11, 13), (11, 14), (11, 15), (12, 1), (12, 2), (12, 3), (12, 4), (12, 5), (12, 6), (12, 7), (12, 8), (12, 9), (12, 10), (12, 11), (12, 12), (12, 13), (12, 14), (12, 15), (13, 1), (13, 2), (13, 3), (13, 4), (13, 5), (13, 6), (13, 7), (13, 8), (13, 9), (13, 10), (13, 11), (13, 12), (13, 13), (13, 14), (13, 15), (14, 1), (14, 2), (14, 3), (14, 4), (14, 5), (14, 6), (14, 7), (14, 8), (14, 9), (14, 10), (14, 11), (14, 12), (14, 13), (14, 14), (14, 15), (15, 1), (15, 2), (15, 3), (15, 4), (15, 5), (15, 6), (15, 7), (15, 8), (15, 9), (15, 10), (15, 11), (15, 12), (15, 13), (15, 14), (15, 15)]\n",
      "\n"
     ]
    },
    {
     "name": "stdin",
     "output_type": "stream",
     "text": [
      "Enter your move as 'row,column' (e.g. 1,1):  3,1\n"
     ]
    },
    {
     "name": "stdout",
     "output_type": "stream",
     "text": [
      "Current board state:\n",
      "B . . . . . . . . . . . . . . \n",
      "B . . . . . . . . . . . . . . \n",
      "B . . . . . . . . . . . . . . \n",
      ". . . . . . . . . . . . . . W \n",
      ". . . . . . W . . W . . . . . \n",
      ". . . . . . . . . . . . . . . \n",
      ". . . . . . . . . . . . . . . \n",
      ". . . . . . . B . . . . . . . \n",
      ". . . . . . . . . . . . . . . \n",
      ". . . . . . . . . . . . . . . \n",
      ". . . . . . . . . . . . . . . \n",
      ". . . . . . . . . . . . . . . \n",
      ". . . . . . . . . . . . . . . \n",
      ". . . . . . . . . . . . . . . \n",
      ". . . . . . . . W . . . . . . \n",
      "List of legal moves at this state: [(1, 2), (1, 3), (1, 4), (1, 5), (1, 6), (1, 7), (1, 8), (1, 9), (1, 10), (1, 11), (1, 12), (1, 13), (1, 14), (1, 15), (2, 2), (2, 3), (2, 4), (2, 5), (2, 6), (2, 7), (2, 8), (2, 9), (2, 10), (2, 11), (2, 12), (2, 13), (2, 14), (2, 15), (3, 2), (3, 3), (3, 4), (3, 5), (3, 6), (3, 7), (3, 8), (3, 9), (3, 10), (3, 11), (3, 12), (3, 13), (3, 14), (3, 15), (4, 1), (4, 2), (4, 3), (4, 4), (4, 5), (4, 6), (4, 7), (4, 8), (4, 9), (4, 10), (4, 11), (4, 12), (4, 13), (4, 14), (5, 1), (5, 2), (5, 3), (5, 4), (5, 5), (5, 6), (5, 8), (5, 9), (5, 11), (5, 12), (5, 13), (5, 14), (5, 15), (6, 1), (6, 2), (6, 3), (6, 4), (6, 5), (6, 6), (6, 7), (6, 8), (6, 9), (6, 10), (6, 11), (6, 12), (6, 13), (6, 14), (6, 15), (7, 1), (7, 2), (7, 3), (7, 4), (7, 5), (7, 6), (7, 7), (7, 8), (7, 9), (7, 10), (7, 11), (7, 12), (7, 13), (7, 14), (7, 15), (8, 1), (8, 2), (8, 3), (8, 4), (8, 5), (8, 6), (8, 7), (8, 9), (8, 10), (8, 11), (8, 12), (8, 13), (8, 14), (8, 15), (9, 1), (9, 2), (9, 3), (9, 4), (9, 5), (9, 6), (9, 7), (9, 8), (9, 9), (9, 10), (9, 11), (9, 12), (9, 13), (9, 14), (9, 15), (10, 1), (10, 2), (10, 3), (10, 4), (10, 5), (10, 6), (10, 7), (10, 8), (10, 9), (10, 10), (10, 11), (10, 12), (10, 13), (10, 14), (10, 15), (11, 1), (11, 2), (11, 3), (11, 4), (11, 5), (11, 6), (11, 7), (11, 8), (11, 9), (11, 10), (11, 11), (11, 12), (11, 13), (11, 14), (11, 15), (12, 1), (12, 2), (12, 3), (12, 4), (12, 5), (12, 6), (12, 7), (12, 8), (12, 9), (12, 10), (12, 11), (12, 12), (12, 13), (12, 14), (12, 15), (13, 1), (13, 2), (13, 3), (13, 4), (13, 5), (13, 6), (13, 7), (13, 8), (13, 9), (13, 10), (13, 11), (13, 12), (13, 13), (13, 14), (13, 15), (14, 1), (14, 2), (14, 3), (14, 4), (14, 5), (14, 6), (14, 7), (14, 8), (14, 9), (14, 10), (14, 11), (14, 12), (14, 13), (14, 14), (14, 15), (15, 1), (15, 2), (15, 3), (15, 4), (15, 5), (15, 6), (15, 7), (15, 8), (15, 10), (15, 11), (15, 12), (15, 13), (15, 14), (15, 15)]\n",
      "\n"
     ]
    },
    {
     "name": "stdin",
     "output_type": "stream",
     "text": [
      "Enter your move as 'row,column' (e.g. 1,1):  4,1\n"
     ]
    },
    {
     "name": "stdout",
     "output_type": "stream",
     "text": [
      "Current board state:\n",
      "B . . . . . . . . . . . . . . \n",
      "B . . . . . . . . . . . . . . \n",
      "B . . . . . . . . . . . . . . \n",
      "B . . . . . . . . . . . . . W \n",
      ". . . . . . W . . W . . . . . \n",
      ". . . . . . . . . . . . . . . \n",
      ". . . . . . . . . . . . . . . \n",
      ". . . . . . . B . . . . . . . \n",
      ". . . . . . . . . . . . . . . \n",
      ". . . . . . . . . . . . . . . \n",
      ". . . . . . . . . . . . . . . \n",
      ". . . . . . . . . . . . . . . \n",
      ". . . . . . . . . . . . . . . \n",
      ". . . . . . . . . . W . . . . \n",
      ". . . . . . . . W . . . . . . \n",
      "List of legal moves at this state: [(1, 2), (1, 3), (1, 4), (1, 5), (1, 6), (1, 7), (1, 8), (1, 9), (1, 10), (1, 11), (1, 12), (1, 13), (1, 14), (1, 15), (2, 2), (2, 3), (2, 4), (2, 5), (2, 6), (2, 7), (2, 8), (2, 9), (2, 10), (2, 11), (2, 12), (2, 13), (2, 14), (2, 15), (3, 2), (3, 3), (3, 4), (3, 5), (3, 6), (3, 7), (3, 8), (3, 9), (3, 10), (3, 11), (3, 12), (3, 13), (3, 14), (3, 15), (4, 2), (4, 3), (4, 4), (4, 5), (4, 6), (4, 7), (4, 8), (4, 9), (4, 10), (4, 11), (4, 12), (4, 13), (4, 14), (5, 1), (5, 2), (5, 3), (5, 4), (5, 5), (5, 6), (5, 8), (5, 9), (5, 11), (5, 12), (5, 13), (5, 14), (5, 15), (6, 1), (6, 2), (6, 3), (6, 4), (6, 5), (6, 6), (6, 7), (6, 8), (6, 9), (6, 10), (6, 11), (6, 12), (6, 13), (6, 14), (6, 15), (7, 1), (7, 2), (7, 3), (7, 4), (7, 5), (7, 6), (7, 7), (7, 8), (7, 9), (7, 10), (7, 11), (7, 12), (7, 13), (7, 14), (7, 15), (8, 1), (8, 2), (8, 3), (8, 4), (8, 5), (8, 6), (8, 7), (8, 9), (8, 10), (8, 11), (8, 12), (8, 13), (8, 14), (8, 15), (9, 1), (9, 2), (9, 3), (9, 4), (9, 5), (9, 6), (9, 7), (9, 8), (9, 9), (9, 10), (9, 11), (9, 12), (9, 13), (9, 14), (9, 15), (10, 1), (10, 2), (10, 3), (10, 4), (10, 5), (10, 6), (10, 7), (10, 8), (10, 9), (10, 10), (10, 11), (10, 12), (10, 13), (10, 14), (10, 15), (11, 1), (11, 2), (11, 3), (11, 4), (11, 5), (11, 6), (11, 7), (11, 8), (11, 9), (11, 10), (11, 11), (11, 12), (11, 13), (11, 14), (11, 15), (12, 1), (12, 2), (12, 3), (12, 4), (12, 5), (12, 6), (12, 7), (12, 8), (12, 9), (12, 10), (12, 11), (12, 12), (12, 13), (12, 14), (12, 15), (13, 1), (13, 2), (13, 3), (13, 4), (13, 5), (13, 6), (13, 7), (13, 8), (13, 9), (13, 10), (13, 11), (13, 12), (13, 13), (13, 14), (13, 15), (14, 1), (14, 2), (14, 3), (14, 4), (14, 5), (14, 6), (14, 7), (14, 8), (14, 9), (14, 10), (14, 12), (14, 13), (14, 14), (14, 15), (15, 1), (15, 2), (15, 3), (15, 4), (15, 5), (15, 6), (15, 7), (15, 8), (15, 10), (15, 11), (15, 12), (15, 13), (15, 14), (15, 15)]\n",
      "\n"
     ]
    },
    {
     "name": "stdin",
     "output_type": "stream",
     "text": [
      "Enter your move as 'row,column' (e.g. 1,1):  5,1\n"
     ]
    },
    {
     "name": "stdout",
     "output_type": "stream",
     "text": [
      "B . . . . . . . . . . . . . . \n",
      "B . . . . . . . . . . . . . . \n",
      "B . . . . . . . . . . . . . . \n",
      "B . . . . . . . . . . . . . W \n",
      "B . . . . . W . . W . . . . . \n",
      ". . . . . . . . . . . . . . . \n",
      ". . . . . . . . . . . . . . . \n",
      ". . . . . . . B . . . . . . . \n",
      ". . . . . . . . . . . . . . . \n",
      ". . . . . . . . . . . . . . . \n",
      ". . . . . . . . . . . . . . . \n",
      ". . . . . . . . . . . . . . . \n",
      ". . . . . . . . . . . . . . . \n",
      ". . . . . . . . . . W . . . . \n",
      ". . . . . . . . W . . . . . . \n",
      "Black wins!\n"
     ]
    }
   ],
   "source": [
    "gomoku = Gomoku()\n",
    "\n",
    "simple_alpha_beta_player_2 = alpha_beta_player(depth=2, evaluation_func=evaluate_game_state_simple)\n",
    "improved_alpha_beta_player_2 = alpha_beta_player(depth=2, evaluation_func=evaluate_game_state_improved)\n",
    "improved_alpha_beta_player_3 = alpha_beta_player(depth=3, evaluation_func=evaluate_game_state_improved)\n",
    "\n",
    "result = gomoku.play_game(human_player, random_player)"
   ]
  },
  {
   "cell_type": "code",
   "execution_count": 23,
   "id": "23635c44",
   "metadata": {},
   "outputs": [
    {
     "data": {
      "text/plain": [
       "-1"
      ]
     },
     "execution_count": 23,
     "metadata": {},
     "output_type": "execute_result"
    }
   ],
   "source": [
    "result"
   ]
  },
  {
   "cell_type": "markdown",
   "id": "ef394a42",
   "metadata": {},
   "source": [
    "### AI Vs. AI"
   ]
  },
  {
   "cell_type": "code",
   "execution_count": 7,
   "id": "5ae1bca0",
   "metadata": {},
   "outputs": [
    {
     "name": "stdout",
     "output_type": "stream",
     "text": [
      "Depth:  1\n",
      "Game:  1\n",
      "W B W B W B W B W B W B W B W \n",
      "B W B W B W . . . . . . . . . \n",
      "W B W B W B . . . . . . . . . \n",
      "B W B W B W . . . . . . . . . \n",
      "W . . B . . . . . . . . . . . \n",
      ". . . . . . . . . . . . . . . \n",
      ". . . . . . . . . . . . . . . \n",
      ". . . . . . . B . . . . . . . \n",
      ". . . . . . . . . . . . . . . \n",
      ". . . . . . . . . . . . . . . \n",
      ". . . . . . . . . . . . . . . \n",
      ". . . . . . . . . . . . . . . \n",
      ". . . . . . . . . . . . . . . \n",
      ". . . . . . . . . . . . . . . \n",
      ". . . . . . . . . . . . . . . \n",
      "White wins!\n",
      "Winner is the alpha_beta_agent\n",
      "Game:  2\n",
      "W B W B W B W B W B W B W B W \n",
      "B W B W B W . . . . . . . . . \n",
      "W B W B W B . . . . . . . . . \n",
      "B W B W B W . . . . . . . . . \n",
      "W . . B . . . . . . . . . . . \n",
      ". . . . . . . . . . . . . . . \n",
      ". . . . . . . . . . . . . . . \n",
      ". . . . . . . B . . . . . . . \n",
      ". . . . . . . . . . . . . . . \n",
      ". . . . . . . . . . . . . . . \n",
      ". . . . . . . . . . . . . . . \n",
      ". . . . . . . . . . . . . . . \n",
      ". . . . . . . . . . . . . . . \n",
      ". . . . . . . . . . . . . . . \n",
      ". . . . . . . . . . . . . . . \n",
      "White wins!\n",
      "Winner is the alpha_beta_agent\n",
      "Game:  3\n",
      "W B W B W B W B W B W B W B W \n",
      "B W B W B W . . . . . . . . . \n",
      "W B W B W B . . . . . . . . . \n",
      "B W B W B W . . . . . . . . . \n",
      "W . . B . . . . . . . . . . . \n",
      ". . . . . . . . . . . . . . . \n",
      ". . . . . . . . . . . . . . . \n",
      ". . . . . . . B . . . . . . . \n",
      ". . . . . . . . . . . . . . . \n",
      ". . . . . . . . . . . . . . . \n",
      ". . . . . . . . . . . . . . . \n",
      ". . . . . . . . . . . . . . . \n",
      ". . . . . . . . . . . . . . . \n",
      ". . . . . . . . . . . . . . . \n",
      ". . . . . . . . . . . . . . . \n",
      "White wins!\n",
      "Winner is the alpha_beta_agent\n",
      "Depth 1: Win rate = 1.00, Avg decision time = 14.7221s\n",
      "Depth:  2\n",
      "Game:  1\n",
      "W B W B W B W B W B W B W B W \n",
      "B W B W W W W W . . . . . . . \n",
      "B B . . . . . . . . . . . . . \n",
      "B . . . . . . . . . . . . . . \n",
      "B . . . . . . . . . . . . . . \n",
      ". . . . . . . . . . . . . . . \n",
      ". . . . . . . . . . . . . . . \n",
      ". . . . . . . B . . . . . . . \n",
      ". . . . . . . . . . . . . . . \n",
      ". . . . . . . . . . . . . . . \n",
      ". . . . . . . . . . . . . . . \n",
      ". . . . . . . . . . . . . . . \n",
      ". . . . . . . . . . . . . . . \n",
      ". . . . . . . . . . . . . . . \n",
      ". . . . . . . . . . . . . . . \n",
      "White wins!\n",
      "Winner is the alpha_beta_agent\n",
      "Game:  2\n",
      "W B W B W B W B W B W B W B W \n",
      "B W B W W W W W . . . . . . . \n",
      "B B . . . . . . . . . . . . . \n",
      "B . . . . . . . . . . . . . . \n",
      "B . . . . . . . . . . . . . . \n",
      ". . . . . . . . . . . . . . . \n",
      ". . . . . . . . . . . . . . . \n",
      ". . . . . . . B . . . . . . . \n",
      ". . . . . . . . . . . . . . . \n",
      ". . . . . . . . . . . . . . . \n",
      ". . . . . . . . . . . . . . . \n",
      ". . . . . . . . . . . . . . . \n",
      ". . . . . . . . . . . . . . . \n",
      ". . . . . . . . . . . . . . . \n",
      ". . . . . . . . . . . . . . . \n",
      "White wins!\n",
      "Winner is the alpha_beta_agent\n",
      "Game:  3\n",
      "W B W B W B W B W B W B W B W \n",
      "B W B W W W W W . . . . . . . \n",
      "B B . . . . . . . . . . . . . \n",
      "B . . . . . . . . . . . . . . \n",
      "B . . . . . . . . . . . . . . \n",
      ". . . . . . . . . . . . . . . \n",
      ". . . . . . . . . . . . . . . \n",
      ". . . . . . . B . . . . . . . \n",
      ". . . . . . . . . . . . . . . \n",
      ". . . . . . . . . . . . . . . \n",
      ". . . . . . . . . . . . . . . \n",
      ". . . . . . . . . . . . . . . \n",
      ". . . . . . . . . . . . . . . \n",
      ". . . . . . . . . . . . . . . \n",
      ". . . . . . . . . . . . . . . \n",
      "White wins!\n",
      "Winner is the alpha_beta_agent\n",
      "Depth 2: Win rate = 1.00, Avg decision time = 336.2327s\n"
     ]
    }
   ],
   "source": [
    "import matplotlib.pyplot as plt\n",
    "import time\n",
    "\n",
    "gomoku = Gomoku()\n",
    "\n",
    "depths = [1, 2]\n",
    "win_rates = []\n",
    "decision_times = []\n",
    "\n",
    "for depth in depths:\n",
    "    print(\"Depth: \", depth)\n",
    "    wins = 0\n",
    "    total_time = 0\n",
    "    games = 3\n",
    "\n",
    "    for game in range(games):\n",
    "        print(\"Game: \", game + 1)\n",
    "        start_time = time.time()\n",
    "        \n",
    "        alpha_beta_agent = alpha_beta_player(depth=depth, evaluation_func=evaluate_game_state_improved)\n",
    "        opponent = alpha_beta_player(depth=1, evaluation_func=evaluate_game_state_improved)\n",
    "        \n",
    "        winner = gomoku.play_game(opponent, alpha_beta_agent)\n",
    "        decision_time = time.time() - start_time\n",
    "        \n",
    "\n",
    "        total_time += decision_time\n",
    "        \n",
    "        if winner == 1:\n",
    "            print(\"Winner is the alpha_beta_agent\")\n",
    "            wins += 1\n",
    "        else:\n",
    "            print(\"Winner is the oppnent\")\n",
    "\n",
    "    win_rate = wins / games\n",
    "    win_rates.append(win_rate)\n",
    "    avg_decision_time = total_time / games\n",
    "    decision_times.append(avg_decision_time)\n",
    "\n",
    "    print(f\"Depth {depth}: Win rate = {win_rate:.2f}, Avg decision time = {avg_decision_time:.4f}s\")"
   ]
  },
  {
   "cell_type": "code",
   "execution_count": 8,
   "id": "0dd09971",
   "metadata": {},
   "outputs": [
    {
     "data": {
      "image/png": "[encoded data removed]",
      "text/plain": [
       "<Figure size 1200x500 with 2 Axes>"
      ]
     },
     "metadata": {},
     "output_type": "display_data"
    }
   ],
   "source": [
    "import matplotlib.pyplot as plt\n",
    "import numpy as np\n",
    "\n",
    "# Assuming depths, win_rates, and decision_times are already populated as in your code\n",
    "width = 0.35  # the width of the bars\n",
    "\n",
    "# Plotting results\n",
    "plt.figure(figsize=(12, 5))\n",
    "\n",
    "# Bar chart for Win Rates\n",
    "plt.subplot(1, 2, 1)\n",
    "plt.bar(depths, win_rates, width, color='blue')\n",
    "plt.xlabel('Search Depth')\n",
    "plt.ylabel('Win Rate')\n",
    "plt.title('Win Rate vs. Search Depth')\n",
    "plt.xticks(depths)  # Ensure ticks match your depths\n",
    "\n",
    "# Bar chart for Average Decision Times\n",
    "plt.subplot(1, 2, 2)\n",
    "plt.bar(depths, decision_times, width, color='red')\n",
    "plt.xlabel('Search Depth')\n",
    "plt.ylabel('Average Decision Time (s)')\n",
    "plt.title('Decision Time vs. Search Depth')\n",
    "plt.xticks(depths)  # Ensure ticks match your depths\n",
    "\n",
    "plt.tight_layout()\n",
    "plt.show()"
   ]
  },
  {
   "cell_type": "code",
   "execution_count": null,
   "id": "52af5663",
   "metadata": {},
   "outputs": [],
   "source": []
  }
 ],
 "metadata": {
  "kernelspec": {
   "display_name": "Python 3 (ipykernel)",
   "language": "python",
   "name": "python3"
  },
  "language_info": {
   "codemirror_mode": {
    "name": "ipython",
    "version": 3
   },
   "file_extension": ".py",
   "mimetype": "text/x-python",
   "name": "python",
   "nbconvert_exporter": "python",
   "pygments_lexer": "ipython3",
   "version": "3.8.16"
  }
 },
 "nbformat": 4,
 "nbformat_minor": 5
}

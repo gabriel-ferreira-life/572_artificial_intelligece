{
 "cells": [
  {
   "cell_type": "code",
   "execution_count": 10,
   "id": "b6c23624",
   "metadata": {},
   "outputs": [],
   "source": [
    "from game import *\n",
    "from players import *\n",
    "\n",
    "import pandas as pd\n",
    "import numpy as np\n",
    "import matplotlib.pyplot as plt\n",
    "import time\n",
    "import os"
   ]
  },
  {
   "cell_type": "code",
   "execution_count": 11,
   "id": "180ab2b9",
   "metadata": {},
   "outputs": [],
   "source": [
    "directory = \"metrics\"\n",
    "\n",
    "\n",
    "if not os.path.exists(directory):\n",
    "    os.makedirs(directory)"
   ]
  },
  {
   "cell_type": "markdown",
   "id": "44e804cf",
   "metadata": {},
   "source": [
    "### Human Player Vs. AI"
   ]
  },
  {
   "cell_type": "code",
   "execution_count": 2,
   "id": "2eff7575",
   "metadata": {},
   "outputs": [],
   "source": [
    "# gomoku = Gomoku()\n",
    "\n",
    "# # Players\n",
    "# human_player\n",
    "# random_player\n",
    "# simple_alpha_beta_player = alpha_beta_player(depth=1, evaluation_func=evaluate_game_state_simple)\n",
    "# improved_alpha_beta_player = alpha_beta_player(depth=3, evaluation_func=evaluate_game_state_improved)\n",
    "\n",
    "\n",
    "# result = gomoku.play_game(random_player, random_player)\n",
    "# result"
   ]
  },
  {
   "cell_type": "markdown",
   "id": "afa9e4ca",
   "metadata": {},
   "source": [
    "### AI Vs. Random"
   ]
  },
  {
   "cell_type": "code",
   "execution_count": 7,
   "id": "011e7dd0",
   "metadata": {},
   "outputs": [],
   "source": [
    "gomoku = Gomoku()\n",
    "\n",
    "# metrics\n",
    "game_depth = []\n",
    "win_rates = []\n",
    "avg_game_times = []\n",
    "all_avg_decision_times = []\n",
    "all_avg_move_scores = []\n",
    "all_move_counts = []\n",
    "outcomes = []\n",
    "\n",
    "\n",
    "depths = [1, 2]\n",
    "for depth in depths:\n",
    "    print(\"Depth: \", depth)\n",
    "    wins = 0\n",
    "    games_total_time = 0\n",
    "    games = 3\n",
    "\n",
    "    for game in range(games):\n",
    "        print(f\"Game: {game + 1}\")\n",
    "        \n",
    "        reset_move_metrics()  # Reset move times before each game\n",
    "        reset_score_metrics()\n",
    "        \n",
    "        # Timing for the match starts\n",
    "        start_time = time.time()\n",
    "        \n",
    "        alpha_beta_agent = alpha_beta_player(depth=depth, evaluation_func=evaluate_game_state_improved)\n",
    "        opponent = random_player\n",
    "        \n",
    "        winner = gomoku.play_game(alpha_beta_agent, opponent)\n",
    "        \n",
    "        # Timing for the match ends\n",
    "        game_time = time.time() - start_time\n",
    "        games_total_time += game_time\n",
    "        \n",
    "        if winner == 1:\n",
    "            print(\"Winner is the alpha_beta_agent\")\n",
    "            wins += 1\n",
    "        else:\n",
    "            print(\"Winner is the opponent\")\n",
    "        print(\"\")\n",
    "        \n",
    "        # Append metrics for this game\n",
    "        game_depth.append(depth)\n",
    "        avg_game_times.append(round(game_time, 2))\n",
    "        all_avg_decision_times.append(get_average_decision_time())\n",
    "        all_avg_move_scores.append(round(get_average_score(), 2))\n",
    "        all_move_counts.append(get_player_move_times())\n",
    "        outcomes.append(winner)\n",
    "        \n",
    "        print(\"\")\n",
    "\n",
    "    win_rate = wins / games\n",
    "    win_rates.append(win_rate)"
   ]
  },
  {
   "cell_type": "code",
   "execution_count": 8,
   "id": "7e2c4eef",
   "metadata": {},
   "outputs": [],
   "source": [
    "print(\"game_depth:\", game_depth)\n",
    "print(\"all_move_counts:\", all_move_counts)\n",
    "print(\"all_avg_decision_times:\", all_avg_decision_times)\n",
    "print(\"all_avg_move_scores:\", all_avg_move_scores)\n",
    "print(\"avg_game_times:\", avg_game_times)\n",
    "print(\"outcomes:\", outcomes)"
   ]
  },
  {
   "cell_type": "code",
   "execution_count": 9,
   "id": "837c828e",
   "metadata": {},
   "outputs": [],
   "source": [
    "analysis = pd.DataFrame({\"evaluation_function\": \"improved\",\n",
    "                         \"game_depth\": game_depth,\n",
    "                         \"move_counts\": all_move_counts,\n",
    "                         \"avg_decision_times\": all_avg_decision_times,\n",
    "                         \"avg_move_scores\": all_avg_move_scores,\n",
    "                         \"avg_game_times\": avg_game_times,\n",
    "                         \"outcome\": outcomes})\n",
    "\n",
    "analysis.to_csv(\"metrics/agent_metrics.csv\", index=False)\n",
    "analysis.head()"
   ]
  }
 ],
 "metadata": {
  "kernelspec": {
   "display_name": "Python 3 (ipykernel)",
   "language": "python",
   "name": "python3"
  },
  "language_info": {
   "codemirror_mode": {
    "name": "ipython",
    "version": 3
   },
   "file_extension": ".py",
   "mimetype": "text/x-python",
   "name": "python",
   "nbconvert_exporter": "python",
   "pygments_lexer": "ipython3",
   "version": "3.8.16"
  }
 },
 "nbformat": 4,
 "nbformat_minor": 5
}
